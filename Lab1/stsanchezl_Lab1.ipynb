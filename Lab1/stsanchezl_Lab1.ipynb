{
  "cells": [
    {
      "cell_type": "markdown",
      "metadata": {},
      "source": []
    },
    {
      "cell_type": "markdown",
      "metadata": {},
      "source": [
        "## Introduction to the Research Environment\n",
        "\n",
        "The research environment is powered by IPython notebooks, which allow one to perform a great deal of data analysis and statistical validation. We'll demonstrate a few simple techniques here."
      ]
    },
    {
      "cell_type": "markdown",
      "metadata": {},
      "source": [
        "## Code Cells vs. Text Cells\n",
        "\n",
        "As you can see, each cell can be either code or text. To select between them, choose from the 'Cell Type' dropdown menu on the top left."
      ]
    },
    {
      "cell_type": "markdown",
      "metadata": {},
      "source": [
        "## Executing a Command\n",
        "\n",
        "A code cell will be evaluated when you press play, or when you press the shortcut, shift-enter. Evaluating a cell evaluates each line of code in sequence, and prints the results of the last line below the cell."
      ]
    },
    {
      "cell_type": "markdown",
      "metadata": {},
      "source": [
        "My own example:"
      ]
    },
    {
      "cell_type": "code",
      "execution_count": null,
      "metadata": {
        "collapsed": false
      },
      "outputs": [
        {
          "data": {
            "text/plain": [
              "-2.4492935982947064e-16"
            ]
          },
          "metadata": {},
          "output_type": "display_data"
        }
      ],
      "source": [
        "import math\n",
        "math.sin(2*math.pi)"
      ]
    },
    {
      "cell_type": "markdown",
      "metadata": {},
      "source": [
        "Sometimes there is no result to be printed, as is the case with assignment."
      ]
    },
    {
      "cell_type": "markdown",
      "metadata": {},
      "source": [
        "My own example:"
      ]
    },
    {
      "cell_type": "code",
      "execution_count": null,
      "metadata": {
        "collapsed": true
      },
      "outputs": [],
      "source": [
        "my_variable = 10"
      ]
    },
    {
      "cell_type": "markdown",
      "metadata": {},
      "source": [
        "Remember that only the result from the last line is printed."
      ]
    },
    {
      "cell_type": "markdown",
      "metadata": {},
      "source": [
        "My own example:"
      ]
    },
    {
      "cell_type": "code",
      "execution_count": null,
      "metadata": {
        "collapsed": false
      },
      "outputs": [
        {
          "data": {
            "text/plain": [
              "69"
            ]
          },
          "metadata": {},
          "output_type": "display_data"
        }
      ],
      "source": [
        "102 + 28\n",
        "43 + 26"
      ]
    },
    {
      "cell_type": "markdown",
      "metadata": {},
      "source": [
        "However, you can print whichever lines you want using the `print` statement."
      ]
    },
    {
      "cell_type": "markdown",
      "metadata": {},
      "source": [
        "My own example:"
      ]
    },
    {
      "cell_type": "code",
      "execution_count": null,
      "metadata": {
        "collapsed": false
      },
      "outputs": [
        {
          "name": "stdout",
          "output_type": "stream",
          "text": [
            "4\n"
          ]
        },
        {
          "data": {
            "text/plain": [
              "0.0"
            ]
          },
          "metadata": {},
          "output_type": "display_data"
        }
      ],
      "source": [
        "print(2**2)\n",
        "math.tan(0)"
      ]
    },
    {
      "cell_type": "markdown",
      "metadata": {},
      "source": [
        "## Knowing When a Cell is Running\n",
        "\n",
        "While a cell is running, a `[*]` will display on the left. When a cell has yet to be executed, `[ ]` will display. When it has been run, a number will display indicating the order in which it was run during the execution of the notebook `[5]`. Try on this cell and note it happening."
      ]
    },
    {
      "cell_type": "markdown",
      "metadata": {},
      "source": [
        "My own example:"
      ]
    },
    {
      "cell_type": "code",
      "execution_count": null,
      "metadata": {
        "collapsed": false
      },
      "outputs": [
        {
          "data": {
            "text/plain": [
              "4999999950000000"
            ]
          },
          "metadata": {},
          "output_type": "display_data"
        }
      ],
      "source": [
        "#Take some time to run something (around 12.5s in my laptop)\n",
        "c = 0\n",
        "for i in range(100000000):\n",
        "    c = c + i\n",
        "c"
      ]
    },
    {
      "cell_type": "markdown",
      "metadata": {},
      "source": [
        "## Importing Libraries\n",
        "\n",
        "The vast majority of the time, you'll want to use functions from pre-built libraries. You can't import every library on Quantopian due to security issues, but you can import most of the common scientific ones. Here I import numpy and pandas, the two most common and useful libraries in quant finance. I recommend copying this import statement to every new notebook.\n",
        "\n",
        "Notice that you can rename libraries to whatever you want after importing. The `as` statement allows this. Here we use `np` and `pd` as aliases for `numpy` and `pandas`. This is a very common aliasing and will be found in most code snippets around the web. The point behind this is to allow you to type fewer characters when you are frequently accessing these libraries."
      ]
    },
    {
      "cell_type": "markdown",
      "metadata": {},
      "source": [
        "My own example:"
      ]
    },
    {
      "cell_type": "code",
      "execution_count": null,
      "metadata": {
        "collapsed": true
      },
      "outputs": [],
      "source": [
        "import numpy as np\n",
        "import pandas as pd\n",
        "\n",
        "# This is a plotting library for pretty pictures.\n",
        "import matplotlib.pyplot as plt\n",
        "\n",
        "import turtle\n",
        "import math"
      ]
    },
    {
      "cell_type": "markdown",
      "metadata": {},
      "source": [
        "## Tab Autocomplete\n",
        "\n",
        "Pressing tab will give you a list of IPython's best guesses for what you might want to type next. This is incredibly valuable and will save you a lot of time. If there is only one possible option for what you could type next, IPython will fill that in for you. Try pressing tab very frequently, it will seldom fill in anything you don't want, as if there is ambiguity a list will be shown. This is a great way to see what functions are available in a library.\n",
        "\n",
        "Try placing your cursor after the `.` and pressing tab."
      ]
    },
    {
      "cell_type": "markdown",
      "metadata": {},
      "source": [
        "My own example:"
      ]
    },
    {
      "cell_type": "code",
      "execution_count": null,
      "metadata": {
        "collapsed": false
      },
      "outputs": [
        {
          "data": {
            "text/plain": [
              "numpy.random.bit_generator.BitGenerator"
            ]
          },
          "metadata": {},
          "output_type": "display_data"
        }
      ],
      "source": [
        "#Seems like this does not work using vscode... or somethimes it does\n",
        "np.random.BitGenerator"
      ]
    },
    {
      "cell_type": "markdown",
      "metadata": {},
      "source": [
        "## Getting Documentation Help\n",
        "\n",
        "Placing a question mark after a function and executing that line of code will give you the documentation IPython has for that function. It's often best to do this in a new cell, as you avoid re-executing other code and running into bugs."
      ]
    },
    {
      "cell_type": "markdown",
      "metadata": {},
      "source": [
        "My own example:"
      ]
    },
    {
      "cell_type": "code",
      "execution_count": null,
      "metadata": {
        "collapsed": true
      },
      "outputs": [
        {
          "name": "stdout",
          "output_type": "stream",
          "text": [
            "\u001b[0;31mDocstring:\u001b[0m\n",
            "normal(loc=0.0, scale=1.0, size=None)\n",
            "\n",
            "Draw random samples from a normal (Gaussian) distribution.\n",
            "\n",
            "The probability density function of the normal distribution, first\n",
            "derived by De Moivre and 200 years later by both Gauss and Laplace\n",
            "independently [2]_, is often called the bell curve because of\n",
            "its characteristic shape (see the example below).\n",
            "\n",
            "The normal distributions occurs often in nature.  For example, it\n",
            "describes the commonly occurring distribution of samples influenced\n",
            "by a large number of tiny, random disturbances, each with its own\n",
            "unique distribution [2]_.\n",
            "\n",
            ".. note::\n",
            "    New code should use the ``normal`` method of a ``default_rng()``\n",
            "    instance instead; please see the :ref:`random-quick-start`.\n",
            "\n",
            "Parameters\n",
            "----------\n",
            "loc : float or array_like of floats\n",
            "    Mean (\"centre\") of the distribution.\n",
            "scale : float or array_like of floats\n",
            "    Standard deviation (spread or \"width\") of the distribution. Must be\n",
            "    non-negative.\n",
            "size : int or tuple of ints, optional\n",
            "    Output shape.  If the given shape is, e.g., ``(m, n, k)``, then\n",
            "    ``m * n * k`` samples are drawn.  If size is ``None`` (default),\n",
            "    a single value is returned if ``loc`` and ``scale`` are both scalars.\n",
            "    Otherwise, ``np.broadcast(loc, scale).size`` samples are drawn.\n",
            "\n",
            "Returns\n",
            "-------\n",
            "out : ndarray or scalar\n",
            "    Drawn samples from the parameterized normal distribution.\n",
            "\n",
            "See Also\n",
            "--------\n",
            "scipy.stats.norm : probability density function, distribution or\n",
            "    cumulative density function, etc.\n",
            "Generator.normal: which should be used for new code.\n",
            "\n",
            "Notes\n",
            "-----\n",
            "The probability density for the Gaussian distribution is\n",
            "\n",
            ".. math:: p(x) = \\frac{1}{\\sqrt{ 2 \\pi \\sigma^2 }}\n",
            "                 e^{ - \\frac{ (x - \\mu)^2 } {2 \\sigma^2} },\n",
            "\n",
            "where :math:`\\mu` is the mean and :math:`\\sigma` the standard\n",
            "deviation. The square of the standard deviation, :math:`\\sigma^2`,\n",
            "is called the variance.\n",
            "\n",
            "The function has its peak at the mean, and its \"spread\" increases with\n",
            "the standard deviation (the function reaches 0.607 times its maximum at\n",
            ":math:`x + \\sigma` and :math:`x - \\sigma` [2]_).  This implies that\n",
            "normal is more likely to return samples lying close to the mean, rather\n",
            "than those far away.\n",
            "\n",
            "References\n",
            "----------\n",
            ".. [1] Wikipedia, \"Normal distribution\",\n",
            "       https://en.wikipedia.org/wiki/Normal_distribution\n",
            ".. [2] P. R. Peebles Jr., \"Central Limit Theorem\" in \"Probability,\n",
            "       Random Variables and Random Signal Principles\", 4th ed., 2001,\n",
            "       pp. 51, 51, 125.\n",
            "\n",
            "Examples\n",
            "--------\n",
            "Draw samples from the distribution:\n",
            "\n",
            ">>> mu, sigma = 0, 0.1 # mean and standard deviation\n",
            ">>> s = np.random.normal(mu, sigma, 1000)\n",
            "\n",
            "Verify the mean and the variance:\n",
            "\n",
            ">>> abs(mu - np.mean(s))\n",
            "0.0  # may vary\n",
            "\n",
            ">>> abs(sigma - np.std(s, ddof=1))\n",
            "0.1  # may vary\n",
            "\n",
            "Display the histogram of the samples, along with\n",
            "the probability density function:\n",
            "\n",
            ">>> import matplotlib.pyplot as plt\n",
            ">>> count, bins, ignored = plt.hist(s, 30, density=True)\n",
            ">>> plt.plot(bins, 1/(sigma * np.sqrt(2 * np.pi)) *\n",
            "...                np.exp( - (bins - mu)**2 / (2 * sigma**2) ),\n",
            "...          linewidth=2, color='r')\n",
            ">>> plt.show()\n",
            "\n",
            "Two-by-four array of samples from N(3, 6.25):\n",
            "\n",
            ">>> np.random.normal(3, 2.5, size=(2, 4))\n",
            "array([[-4.49401501,  4.00950034, -1.81814867,  7.29718677],   # random\n",
            "       [ 0.39924804,  4.68456316,  4.99394529,  4.84057254]])  # random\n",
            "\u001b[0;31mType:\u001b[0m      builtin_function_or_method\n"
          ]
        }
      ],
      "source": [
        "np.random.normal?"
      ]
    },
    {
      "cell_type": "markdown",
      "metadata": {},
      "source": [
        "## Sampling\n",
        "\n",
        "We'll sample some random data using a function from `numpy`."
      ]
    },
    {
      "cell_type": "markdown",
      "metadata": {},
      "source": [
        "My own example:"
      ]
    },
    {
      "cell_type": "code",
      "execution_count": null,
      "metadata": {
        "collapsed": false
      },
      "outputs": [],
      "source": [
        "# Sample 100 points with a mean of 0 and an std of 1. This is a standard normal distribution.\n",
        "X = np.random.normal(0, 1, 100)"
      ]
    },
    {
      "cell_type": "markdown",
      "metadata": {},
      "source": [
        "## Plotting\n",
        "\n",
        "We can use the plotting library we imported as follows."
      ]
    },
    {
      "cell_type": "markdown",
      "metadata": {},
      "source": [
        "My own example:"
      ]
    },
    {
      "cell_type": "code",
      "execution_count": null,
      "metadata": {
        "collapsed": false
      },
      "outputs": [
        {
          "data": {
            "text/plain": [
              "[<matplotlib.lines.Line2D at 0x7fad46b0f280>]"
            ]
          },
          "metadata": {},
          "output_type": "display_data"
        },
        {
          "data": {
            "image/png": "[encoded data removed]",
            "text/plain": [
              "<Figure size 432x288 with 1 Axes>"
            ]
          },
          "metadata": {},
          "output_type": "display_data"
        }
      ],
      "source": [
        "plt.plot(X)"
      ]
    },
    {
      "cell_type": "markdown",
      "metadata": {},
      "source": [
        "### Squelching Line Output\n",
        "\n",
        "You might have noticed the annoying line of the form `[<matplotlib.lines.Line2D at 0x7f72fdbc1710>]` before the plots. This is because the `.plot` function actually produces output. Sometimes we wish not to display output, we can accomplish this with the semi-colon as follows."
      ]
    },
    {
      "cell_type": "markdown",
      "metadata": {},
      "source": [
        "My own example:"
      ]
    },
    {
      "cell_type": "code",
      "execution_count": null,
      "metadata": {
        "collapsed": false
      },
      "outputs": [
        {
          "data": {
            "image/png": "[encoded data removed]",
            "text/plain": [
              "<Figure size 432x288 with 1 Axes>"
            ]
          },
          "metadata": {},
          "output_type": "display_data"
        }
      ],
      "source": [
        "#Doesn't seem pythonic\n",
        "plt.plot(X);"
      ]
    },
    {
      "cell_type": "markdown",
      "metadata": {},
      "source": [
        "### Adding Axis Labels\n",
        "\n",
        "No self-respecting quant leaves a graph without labeled axes. Here are some commands to help with that."
      ]
    },
    {
      "cell_type": "markdown",
      "metadata": {},
      "source": [
        "My own example:"
      ]
    },
    {
      "cell_type": "code",
      "execution_count": null,
      "metadata": {
        "collapsed": false
      },
      "outputs": [
        {
          "data": {
            "image/png": "[encoded data removed]",
            "text/plain": [
              "<Figure size 432x288 with 1 Axes>"
            ]
          },
          "metadata": {},
          "output_type": "display_data"
        }
      ],
      "source": [
        "X = np.random.normal(0, 1, 100)\n",
        "X2 = np.random.normal(0, 1, 100)\n",
        "\n",
        "plt.plot(X);\n",
        "plt.plot(X2);\n",
        "plt.xlabel('Time') # The data we generated is unitless, but don't forget units in general.\n",
        "plt.ylabel('Returns')\n",
        "plt.legend(['x_1', 'x_2']);"
      ]
    },
    {
      "cell_type": "markdown",
      "metadata": {},
      "source": [
        "## Generating Statistics\n",
        "\n",
        "Let's use `numpy` to take some simple statistics."
      ]
    },
    {
      "cell_type": "markdown",
      "metadata": {},
      "source": [
        "My own example:"
      ]
    },
    {
      "cell_type": "code",
      "execution_count": null,
      "metadata": {
        "collapsed": false
      },
      "outputs": [
        {
          "data": {
            "text/plain": [
              "-0.12653703293732033"
            ]
          },
          "metadata": {},
          "output_type": "display_data"
        }
      ],
      "source": [
        "np.mean(X)"
      ]
    },
    {
      "cell_type": "code",
      "execution_count": null,
      "metadata": {
        "collapsed": false
      },
      "outputs": [
        {
          "data": {
            "text/plain": [
              "0.9774725706666725"
            ]
          },
          "metadata": {},
          "output_type": "display_data"
        }
      ],
      "source": [
        "np.std(X)"
      ]
    },
    {
      "cell_type": "markdown",
      "metadata": {},
      "source": [
        "## Getting Real Pricing Data\n",
        "\n",
        "Randomly sampled data can be great for testing ideas, but let's get some real data. We can use `get_pricing` to do that. You can use the `?` syntax as discussed above to get more information on `get_pricing`'s arguments."
      ]
    },
    {
      "cell_type": "markdown",
      "metadata": {},
      "source": [
        "My own example:"
      ]
    },
    {
      "cell_type": "code",
      "execution_count": null,
      "metadata": {
        "collapsed": false
      },
      "outputs": [],
      "source": [
        "#Unable to get function; quantopian is not in pip anymore\n",
        "#They have around 90 repos and most so it's not effective search one by one.\n",
        "# Most of the Google links are down. :C \n",
        "data = get_pricing('MSFT', start_date='2012-1-1', end_date='2015-6-1')"
      ]
    },
    {
      "cell_type": "markdown",
      "metadata": {},
      "source": [
        "Our data is now a dataframe. You can see the datetime index and the colums with different pricing data."
      ]
    },
    {
      "cell_type": "markdown",
      "metadata": {},
      "source": [
        "My own example:"
      ]
    },
    {
      "cell_type": "code",
      "execution_count": null,
      "metadata": {
        "collapsed": false
      },
      "outputs": [],
      "source": [
        "#Unable to run this cell as I couldn't get the last function\n",
        "data"
      ]
    },
    {
      "cell_type": "markdown",
      "metadata": {},
      "source": [
        "This is a pandas dataframe, so we can index in to just get price like this. For more info on pandas, please [click here](http://pandas.pydata.org/pandas-docs/stable/10min.html)."
      ]
    },
    {
      "cell_type": "markdown",
      "metadata": {},
      "source": [
        "My own example:"
      ]
    },
    {
      "cell_type": "code",
      "execution_count": null,
      "metadata": {
        "collapsed": false
      },
      "outputs": [],
      "source": [
        "\n",
        "#Unable to run this cell as I couldn't get the last function\n",
        "X = data['price']"
      ]
    },
    {
      "cell_type": "markdown",
      "metadata": {},
      "source": [
        "Because there is now also date information in our data, we provide two series to `.plot`. `X.index` gives us the datetime index, and `X.values` gives us the pricing values. These are used as the X and Y coordinates to make a graph."
      ]
    },
    {
      "cell_type": "markdown",
      "metadata": {},
      "source": [
        "My own example:"
      ]
    },
    {
      "cell_type": "code",
      "execution_count": null,
      "metadata": {
        "collapsed": false
      },
      "outputs": [],
      "source": [
        "\n",
        "#Unable to run this cell as I couldn't get the last function\n",
        "plt.plot(X.index, X.values)\n",
        "plt.ylabel('Price')\n",
        "plt.legend(['MSFT']);"
      ]
    },
    {
      "cell_type": "markdown",
      "metadata": {},
      "source": [
        "We can get statistics again on real data."
      ]
    },
    {
      "cell_type": "markdown",
      "metadata": {},
      "source": [
        "My own example:"
      ]
    },
    {
      "cell_type": "code",
      "execution_count": null,
      "metadata": {
        "collapsed": false
      },
      "outputs": [],
      "source": [
        "\n",
        "#Unable to run this cell as I couldn't get the last function\n",
        "np.mean(X)"
      ]
    },
    {
      "cell_type": "code",
      "execution_count": null,
      "metadata": {
        "collapsed": false
      },
      "outputs": [],
      "source": [
        "\n",
        "#Unable to run this cell as I couldn't get the last function\n",
        "np.std(X)"
      ]
    },
    {
      "cell_type": "markdown",
      "metadata": {},
      "source": [
        "## Getting Returns from Prices\n",
        "\n",
        "We can use the `pct_change` function to get returns. Notice how we drop the first element after doing this, as it will be `NaN` (nothing -> something results in a NaN percent change)."
      ]
    },
    {
      "cell_type": "markdown",
      "metadata": {},
      "source": [
        "My own example:"
      ]
    },
    {
      "cell_type": "code",
      "execution_count": null,
      "metadata": {
        "collapsed": false
      },
      "outputs": [],
      "source": [
        "\n",
        "#Unable to run this cell as I couldn't get the last function\n",
        "R = X.pct_change()[1:]"
      ]
    },
    {
      "cell_type": "markdown",
      "metadata": {},
      "source": [
        "We can plot the returns distribution as a histogram."
      ]
    },
    {
      "cell_type": "markdown",
      "metadata": {},
      "source": [
        "My own example:"
      ]
    },
    {
      "cell_type": "code",
      "execution_count": null,
      "metadata": {
        "collapsed": false
      },
      "outputs": [],
      "source": [
        "\n",
        "#Unable to run this cell as I couldn't get the last function\n",
        "plt.hist(R, bins=20)\n",
        "\n",
        "plt.xlabel('Return')\n",
        "plt.ylabel('Frequency')\n",
        "plt.legend(['MSFT Returns']);"
      ]
    },
    {
      "cell_type": "markdown",
      "metadata": {},
      "source": [
        "Get statistics again."
      ]
    },
    {
      "cell_type": "markdown",
      "metadata": {},
      "source": [
        "My own example:"
      ]
    },
    {
      "cell_type": "code",
      "execution_count": null,
      "metadata": {
        "collapsed": false
      },
      "outputs": [],
      "source": [
        "\n",
        "#Unable to run this cell as I couldn't get the last function\n",
        "np.mean(R)"
      ]
    },
    {
      "cell_type": "code",
      "execution_count": null,
      "metadata": {
        "collapsed": false
      },
      "outputs": [],
      "source": [
        "\n",
        "#Unable to run this cell as I couldn't get the last function\n",
        "np.std(R)"
      ]
    },
    {
      "cell_type": "markdown",
      "metadata": {},
      "source": [
        "Now let's go backwards and generate data out of a normal distribution using the statistics we estimated from Microsoft's returns. We'll see that we have good reason to suspect Microsoft's returns may not be normal, as the resulting normal distribution looks far different."
      ]
    },
    {
      "cell_type": "markdown",
      "metadata": {},
      "source": [
        "My own example:"
      ]
    },
    {
      "cell_type": "code",
      "execution_count": null,
      "metadata": {
        "collapsed": false
      },
      "outputs": [],
      "source": [
        "\n",
        "#Unable to run this cell as I couldn't get the last function\n",
        "plt.hist(np.random.normal(np.mean(R), np.std(R), 10000), bins=20)\n",
        "plt.xlabel('Return')\n",
        "plt.ylabel('Frequency')\n",
        "plt.legend(['Normally Distributed Returns']);"
      ]
    },
    {
      "cell_type": "markdown",
      "metadata": {},
      "source": [
        "## Generating a Moving Average\n",
        "\n",
        "`pandas` has some nice tools to allow us to generate rolling statistics. Here's an example. Notice how there's no moving average for the first 60 days, as we don't have 60 days of data on which to generate the statistic."
      ]
    },
    {
      "cell_type": "markdown",
      "metadata": {},
      "source": [
        "My own example:"
      ]
    },
    {
      "cell_type": "code",
      "execution_count": null,
      "metadata": {
        "collapsed": false
      },
      "outputs": [],
      "source": [
        "\n",
        "#Unable to run this cell as I couldn't get the last function\n",
        "# Take the average of the last 60 days at each timepoint.\n",
        "MAVG = pd.rolling_mean(X, window=60)\n",
        "plt.plot(X.index, X.values)\n",
        "plt.plot(MAVG.index, MAVG.values)\n",
        "plt.ylabel('Price')\n",
        "plt.legend(['MSFT', '60-day MAVG']);"
      ]
    },
    {
      "cell_type": "markdown",
      "metadata": {},
      "source": [
        "This presentation is for informational purposes only and does not constitute an offer to sell, a solicitation to buy, or a recommendation for any security; nor does it constitute an offer to provide investment advisory or other services by Quantopian, Inc. (\"Quantopian\"). Nothing contained herein constitutes investment advice or offers any opinion with respect to the suitability of any security, and any views expressed herein should not be taken as advice to buy, sell, or hold any security or as an endorsement of any security or company. In preparing the information contained herein, Quantopian, Inc. has not taken into account the investment needs, objectives, and financial circumstances of any particular investor. Any views expressed and data illustrated herein were prepared based upon information, believed to be reliable, available to Quantopian, Inc. at the time of publication. Quantopian makes no guarantees as to their accuracy or completeness. All information is subject to change and may quickly become unreliable for various reasons, including changes in market conditions or economic circumstances."
      ]
    },
    {
      "cell_type": "markdown",
      "metadata": {},
      "source": [
        "# Introduction to Python\n",
        "by Maxwell Margenot\n",
        "\n",
        "Part of the Quantopian Lecture Series:\n",
        "\n",
        "* [www.quantopian.com/lectures](https://www.quantopian.com/lectures)\n",
        "* [github.com/quantopian/research_public](https://github.com/quantopian/research_public)\n",
        "\n",
        "\n",
        "---\n",
        "\n",
        "All of the coding that you will do on the Quantopian platform will be in Python. It is also just a good, jack-of-all-trades language to know! Here we will provide you with the basics so that you can feel confident going through our other lectures and understanding what is happening."
      ]
    },
    {
      "cell_type": "markdown",
      "metadata": {},
      "source": [
        "## Code Comments\n",
        "\n",
        "A comment is a note made by a programmer in the source code of a program. Its purpose is to clarify the source code and make it easier for people to follow along with what is happening. Anything in a comment is generally ignored when the code is actually run, making comments useful for including explanations and reasoning as well as removing specific lines of code that you may be unsure about. Comments in Python are created by using the pound symbol (`# Insert Text Here`). Including a `#` in a line of code will comment out anything that follows it."
      ]
    },
    {
      "cell_type": "markdown",
      "metadata": {},
      "source": [
        "My own example:"
      ]
    },
    {
      "cell_type": "code",
      "execution_count": null,
      "metadata": {},
      "outputs": [],
      "source": [
        "# This is a comment\n",
        "# These lines of code will not change any values for they are just for humans\n",
        "# Anything following the first # is not run as code"
      ]
    },
    {
      "cell_type": "markdown",
      "metadata": {},
      "source": [
        "You may hear text enclosed in triple quotes (`\"\"\" Insert Text Here \"\"\"`) referred to as multi-line comments, but this is not entirely accurate. This is a special type of `string` (a data type we will cover), called a `docstring`, used to explain the purpose of a function."
      ]
    },
    {
      "cell_type": "markdown",
      "metadata": {},
      "source": [
        "My own example:"
      ]
    },
    {
      "cell_type": "code",
      "execution_count": null,
      "metadata": {},
      "outputs": [],
      "source": [
        "\"\"\" This is a special string \"\"\"\n",
        "\"\"\" For documentation porpuse \"\"\""
      ]
    },
    {
      "cell_type": "markdown",
      "metadata": {},
      "source": [
        "Make sure you read the comments within each code cell (if they are there). They will provide more real-time explanations of what is going on as you look at each line of code."
      ]
    },
    {
      "cell_type": "markdown",
      "metadata": {},
      "source": [
        "## Variables\n",
        "\n",
        "Variables provide names for values in programming. If you want to save a value for later or repeated use, you give the value a name, storing the contents in a variable. Variables in programming work in a fundamentally similar way to variables in algebra, but in Python they can take on various different data types.\n",
        "\n",
        "The basic variable types that we will cover in this section are `integers`, `floating point numbers`, `booleans`, and `strings`. \n",
        "\n",
        "An `integer` in programming is the same as in mathematics, a round number with no values after the decimal point. We use the built-in `print` function here to display the values of our variables as well as their types!"
      ]
    },
    {
      "cell_type": "markdown",
      "metadata": {},
      "source": [
        "My own example:"
      ]
    },
    {
      "cell_type": "code",
      "execution_count": null,
      "metadata": {},
      "outputs": [
        {
          "name": "stdout",
          "output_type": "stream",
          "text": [
            "420\n"
          ]
        },
        {
          "data": {
            "text/plain": [
              "int"
            ]
          },
          "metadata": {},
          "output_type": "display_data"
        }
      ],
      "source": [
        "my_own_integer = 420\n",
        "print(my_own_integer)\n",
        "type(my_own_integer)"
      ]
    },
    {
      "cell_type": "markdown",
      "metadata": {},
      "source": [
        "Variables, regardless of type, are assigned by using a single equals sign (`=`). Variables are case-sensitive so any changes in variation in the capitals of a variable name will reference a different variable entirely."
      ]
    },
    {
      "cell_type": "markdown",
      "metadata": {},
      "source": [
        "My own example:"
      ]
    },
    {
      "cell_type": "code",
      "execution_count": null,
      "metadata": {},
      "outputs": [
        {
          "ename": "NameError",
          "evalue": "name 'One' is not defined",
          "output_type": "error",
          "traceback": [
            "\u001b[0;31m---------------------------------------------------------------------------\u001b[0m\n",
            "\u001b[0;31mNameError\u001b[0m                                 Traceback (most recent call last)\n",
            "\u001b[1;32m/home/stiven/Documentos/Universidad/Algortimos/notebook.ipynb Cell 14'\u001b[0m in \u001b[0;36m<cell line: 2>\u001b[0;34m()\u001b[0m\n",
            "\u001b[1;32m      <a href='vscode-notebook-cell:/home/stiven/Documentos/Universidad/Algortimos/notebook.ipynb#ch0000009?line=0'>1</a>\u001b[0m one \u001b[39m=\u001b[39m \u001b[39m1\u001b[39m\n",
            "\u001b[0;32m----> <a href='vscode-notebook-cell:/home/stiven/Documentos/Universidad/Algortimos/notebook.ipynb#ch0000009?line=1'>2</a>\u001b[0m \u001b[39mprint\u001b[39m(One)\n",
            "\n",
            "\u001b[0;31mNameError\u001b[0m: name 'One' is not defined"
          ]
        }
      ],
      "source": [
        "one = 1\n",
        "print(One)\n",
        "#Doesn't work for One isn't defined"
      ]
    },
    {
      "cell_type": "markdown",
      "metadata": {},
      "source": [
        "A `floating point` number, or a `float` is a fancy name for a real number (again as in mathematics). To define a `float`, we need to either include a decimal point or specify that the value is a float."
      ]
    },
    {
      "cell_type": "markdown",
      "metadata": {},
      "source": [
        "My own example:"
      ]
    },
    {
      "cell_type": "code",
      "execution_count": null,
      "metadata": {
        "scrolled": true
      },
      "outputs": [
        {
          "name": "stdout",
          "output_type": "stream",
          "text": [
            "3.14\n",
            "<class 'float'>\n",
            "1.0\n",
            "<class 'float'>\n"
          ]
        }
      ],
      "source": [
        "my_own_float = 3.14\n",
        "print(my_own_float)\n",
        "print(type(my_own_float))\n",
        "my_own_float = float(1)\n",
        "print(my_own_float)\n",
        "print(type(my_own_float))"
      ]
    },
    {
      "cell_type": "markdown",
      "metadata": {},
      "source": [
        "A variable of type `float` will not round the number that you store in it, while a variable of type `integer` will. This makes `floats` more suitable for mathematical calculations where you want more than just integers.\n",
        "\n",
        "Note that as we used the `float()` function to force an number to be considered a `float`, we can use the `int()` function to force a number to be considered an `int`."
      ]
    },
    {
      "cell_type": "markdown",
      "metadata": {},
      "source": [
        "My own example:"
      ]
    },
    {
      "cell_type": "code",
      "execution_count": null,
      "metadata": {},
      "outputs": [
        {
          "name": "stdout",
          "output_type": "stream",
          "text": [
            "3\n"
          ]
        },
        {
          "data": {
            "text/plain": [
              "int"
            ]
          },
          "metadata": {},
          "output_type": "display_data"
        }
      ],
      "source": [
        "#Although it is not exactly a real number for a computer can compute infinite decimals\n",
        "my_int = int(3.14159)\n",
        "print(my_int)\n",
        "type(my_int)"
      ]
    },
    {
      "cell_type": "markdown",
      "metadata": {},
      "source": [
        "\n",
        "The `int()` function will also truncate any digits that a number may have after the decimal point!"
      ]
    },
    {
      "cell_type": "markdown",
      "metadata": {},
      "source": [
        "\n",
        "Strings allow you to include text as a variable to operate on. They are defined using either single quotes ('') or double quotes (\"\")."
      ]
    },
    {
      "cell_type": "markdown",
      "metadata": {},
      "source": [
        "My own example:"
      ]
    },
    {
      "cell_type": "code",
      "execution_count": null,
      "metadata": {},
      "outputs": [
        {
          "name": "stdout",
          "output_type": "stream",
          "text": [
            "This is a string with single quotes\n",
            "This is a string with double quotes\n"
          ]
        }
      ],
      "source": [
        "#Python it's cool with either single or double quotes\n",
        "my_string = 'This is a string with single quotes'\n",
        "print(my_string)\n",
        "my_string = \"This is a string with double quotes\"\n",
        "print(my_string)"
      ]
    },
    {
      "cell_type": "markdown",
      "metadata": {},
      "source": [
        "Both are allowed so that we can include apostrophes or quotation marks in a string if we so choose."
      ]
    },
    {
      "cell_type": "markdown",
      "metadata": {},
      "source": [
        "My own example:"
      ]
    },
    {
      "cell_type": "code",
      "execution_count": null,
      "metadata": {},
      "outputs": [
        {
          "name": "stdout",
          "output_type": "stream",
          "text": [
            "\"Jabberwocky\", by Lewis Carroll\n",
            "'Twas brillig, and the slithy toves / Did gyre and gimble in the wabe;\n"
          ]
        }
      ],
      "source": [
        "#We may get the same result using the scape operator\n",
        "my_string = '\"Jabberwocky\", by Lewis Carroll'\n",
        "print(my_string)\n",
        "my_string = \"'Twas brillig, and the slithy toves / Did gyre and gimble in the wabe;\"\n",
        "print(my_string)"
      ]
    },
    {
      "cell_type": "markdown",
      "metadata": {},
      "source": [
        "Booleans, or `bools` are binary variable types. A `bool` can only take on one of two values, these being `True` or `False`. There is much more to this idea of truth values when it comes to programming, which we cover later in the [Logical Operators](#id-section5) of this notebook."
      ]
    },
    {
      "cell_type": "markdown",
      "metadata": {},
      "source": [
        "My own example:"
      ]
    },
    {
      "cell_type": "code",
      "execution_count": null,
      "metadata": {},
      "outputs": [
        {
          "name": "stdout",
          "output_type": "stream",
          "text": [
            "False\n"
          ]
        },
        {
          "data": {
            "text/plain": [
              "bool"
            ]
          },
          "metadata": {},
          "output_type": "display_data"
        }
      ],
      "source": [
        "my_bool = False\n",
        "print(my_bool)\n",
        "type(my_bool)"
      ]
    },
    {
      "cell_type": "markdown",
      "metadata": {},
      "source": [
        "There are many more data types that you can assign as variables in Python, but these are the basic ones! We will cover a few more later as we move through this tutorial."
      ]
    },
    {
      "cell_type": "markdown",
      "metadata": {},
      "source": [
        "## Basic Math\n",
        "\n",
        "Python has a number of built-in math functions. These can be extended even further by importing the **math** package or by including any number of other calculation-based packages.\n",
        "\n",
        "All of the basic arithmetic operations are supported: `+`, `-`, `/`, and `*`. You can create exponents by using `**` and modular arithmetic is introduced with the mod operator, `%`."
      ]
    },
    {
      "cell_type": "markdown",
      "metadata": {},
      "source": [
        "My own example:"
      ]
    },
    {
      "cell_type": "code",
      "execution_count": null,
      "metadata": {},
      "outputs": [
        {
          "name": "stdout",
          "output_type": "stream",
          "text": [
            "Addition:  34\n",
            "Subtraction:  13\n",
            "Multiplication:  100\n",
            "Division:  17.0\n",
            "Exponentiation:  100\n"
          ]
        }
      ],
      "source": [
        "print('Addition: ', 20 + 14)\n",
        "print('Subtraction: ', 14 - 1)\n",
        "print('Multiplication: ', 10 * 10)\n",
        "print('Division: ', 51 / 3)\n",
        "print('Exponentiation: ', 10**2)"
      ]
    },
    {
      "cell_type": "markdown",
      "metadata": {},
      "source": [
        "If you are not familiar with the the mod operator, it operates like a remainder function. If we type $15 \\ \\% \\ 4$, it will return the remainder after dividing $15$ by $4$."
      ]
    },
    {
      "cell_type": "markdown",
      "metadata": {},
      "source": [
        "My own example:"
      ]
    },
    {
      "cell_type": "code",
      "execution_count": null,
      "metadata": {},
      "outputs": [
        {
          "name": "stdout",
          "output_type": "stream",
          "text": [
            "Modulo:  1\n"
          ]
        }
      ],
      "source": [
        "#This is important for mudlar arithmetic\n",
        "print('Modulo: ', 21 % 4)"
      ]
    },
    {
      "cell_type": "markdown",
      "metadata": {},
      "source": [
        "Mathematical functions also work on variables!"
      ]
    },
    {
      "cell_type": "markdown",
      "metadata": {},
      "source": [
        "My own example:"
      ]
    },
    {
      "cell_type": "code",
      "execution_count": null,
      "metadata": {
        "scrolled": true
      },
      "outputs": [
        {
          "name": "stdout",
          "output_type": "stream",
          "text": [
            "534362554845387984429285717632078264404288886701292664674348522803815713962719368388235666590605403677248156163757205903151663471252295262323428554065966415119622859595311765695862653081931610727643220493235980821067016368596072933871898558447311260924172452892154994718383894837560902079215434740406586067213948236319846971454630912532664174303743711065026766611328884448241698834673057727410176920463272481071110614520981385979622714871558146978674186608922401845176115263154524360989762752964387193869798200475394349488330738864555948027101595246612784073865855211779163799776897551488316148055324599120037091729264355737502650438134597631978363640183648542025849814482994659139982520532615470431227895343047487431398063671068137021202741283977918697421562827307287757095088143275997734455443252789856625079352313256367028049552390678654760506344512196496528709277797277493931755363058736709353460070871445241744376336608530426787624136625688526119133159450990063433974287582908305244200774830116288326128099340057046181432100217642781322503003229892736183887814961311563087865136900075349183688294886983672488126230751923378053718980772724415188844804513035348819398467905119902101998014333916472260923120653298671929918745244387797987466310871755402142469270718693734764580297770247364464159723408761558993632966934277763892076802667575778825233237218760001\n"
          ]
        }
      ],
      "source": [
        "first_integer = 23\n",
        "second_integer = 1000\n",
        "print(first_integer ** second_integer)"
      ]
    },
    {
      "cell_type": "markdown",
      "metadata": {},
      "source": [
        "Make sure that your variables are floats if you want to have decimal points in your answer. If you perform math exclusively with integers, you get an integer. Including any float in the calculation will make the result a float."
      ]
    },
    {
      "cell_type": "markdown",
      "metadata": {},
      "source": [
        "My own example:"
      ]
    },
    {
      "cell_type": "code",
      "execution_count": null,
      "metadata": {},
      "outputs": [
        {
          "name": "stdout",
          "output_type": "stream",
          "text": [
            "0.3333333333333333\n"
          ]
        }
      ],
      "source": [
        "first_integer = 1\n",
        "second_integer = 3\n",
        "print(first_integer / second_integer)"
      ]
    },
    {
      "cell_type": "code",
      "execution_count": null,
      "metadata": {},
      "outputs": [
        {
          "name": "stdout",
          "output_type": "stream",
          "text": [
            "0.3333333333333333\n"
          ]
        }
      ],
      "source": [
        "first_number = 1.0\n",
        "second_number = 3.0\n",
        "print(first_number / second_number)"
      ]
    },
    {
      "cell_type": "markdown",
      "metadata": {},
      "source": [
        "Python has a few built-in math functions. The most notable of these are:\n",
        "\n",
        "* `abs()`\n",
        "* `round()`\n",
        "* `max()`\n",
        "* `min()`\n",
        "* `sum()`\n",
        "\n",
        "These functions all act as you would expect, given their names. Calling `abs()` on a number will return its absolute value. The `round()` function will round a number to a specified number of the decimal points (the default is $0$). Calling `max()` or `min()` on a collection of numbers will return, respectively, the maximum or minimum value in the collection. Calling `sum()` on a collection of numbers will add them all up. If you're not familiar with how collections of values in Python work, don't worry! We will cover collections in-depth in the next section. \n",
        "\n",
        "Additional math functionality can be added in with the `math` package."
      ]
    },
    {
      "cell_type": "code",
      "execution_count": null,
      "metadata": {},
      "outputs": [],
      "source": [
        "import math"
      ]
    },
    {
      "cell_type": "markdown",
      "metadata": {},
      "source": [
        "The math library adds a long list of new mathematical functions to Python. Feel free to check out the [documentation](https://docs.python.org/2/library/math.html) for the full list and details. It concludes some mathematical constants"
      ]
    },
    {
      "cell_type": "markdown",
      "metadata": {},
      "source": [
        "My own example:"
      ]
    },
    {
      "cell_type": "code",
      "execution_count": null,
      "metadata": {},
      "outputs": [
        {
          "name": "stdout",
          "output_type": "stream",
          "text": [
            "Pi:  3.141592653589793\n",
            "Euler's Constant:  2.718281828459045\n"
          ]
        }
      ],
      "source": [
        "print('Pi: ', math.pi)\n",
        "print(\"Euler's Constant: \", math.e)"
      ]
    },
    {
      "cell_type": "markdown",
      "metadata": {},
      "source": [
        "As well as some commonly used math functions"
      ]
    },
    {
      "cell_type": "markdown",
      "metadata": {},
      "source": [
        "My own example:"
      ]
    },
    {
      "cell_type": "code",
      "execution_count": null,
      "metadata": {},
      "outputs": [
        {
          "name": "stdout",
          "output_type": "stream",
          "text": [
            "Cosine of pi:  -1.0\n"
          ]
        }
      ],
      "source": [
        "print('Cosine of pi: ', math.cos(math.pi))"
      ]
    },
    {
      "cell_type": "markdown",
      "metadata": {},
      "source": [
        "## Collections\n",
        "### Lists\n",
        "\n",
        "A `list` in Python is an ordered collection of objects that can contain any data type. We define a `list` using brackets (`[]`)."
      ]
    },
    {
      "cell_type": "markdown",
      "metadata": {},
      "source": [
        "My own example:"
      ]
    },
    {
      "cell_type": "code",
      "execution_count": null,
      "metadata": {},
      "outputs": [
        {
          "name": "stdout",
          "output_type": "stream",
          "text": [
            "[1, 2, 3, 4, 5, 6, 7, 8, 9]\n"
          ]
        }
      ],
      "source": [
        "my_list = [1, 2, 3, 4, 5, 6, 7, 8, 9]\n",
        "print(my_list)"
      ]
    },
    {
      "cell_type": "markdown",
      "metadata": {},
      "source": [
        "We can access and index the list by using brackets as well. In order to select an individual element, simply type the list name followed by the index of the item you are looking for in braces."
      ]
    },
    {
      "cell_type": "markdown",
      "metadata": {},
      "source": [
        "My own example:"
      ]
    },
    {
      "cell_type": "code",
      "execution_count": null,
      "metadata": {},
      "outputs": [
        {
          "name": "stdout",
          "output_type": "stream",
          "text": [
            "6\n",
            "7\n"
          ]
        }
      ],
      "source": [
        "#We start indexing from 0\n",
        "print(my_list[5])\n",
        "print(my_list[6])"
      ]
    },
    {
      "cell_type": "markdown",
      "metadata": {},
      "source": [
        "Indexing in Python starts from $0$. If you have a list of length $n$, the first element of the list is at index $0$, the second element is at index $1$, and so on and so forth. The final element of the list will be at index $n-1$. Be careful! Trying to access a non-existent index will cause an error."
      ]
    },
    {
      "cell_type": "markdown",
      "metadata": {},
      "source": [
        "My own example:"
      ]
    },
    {
      "cell_type": "code",
      "execution_count": null,
      "metadata": {},
      "outputs": [
        {
          "name": "stdout",
          "output_type": "stream",
          "text": [
            "The first, second, and third list elements:  1 2 3\n"
          ]
        },
        {
          "ename": "IndexError",
          "evalue": "list index out of range",
          "output_type": "error",
          "traceback": [
            "\u001b[0;31m---------------------------------------------------------------------------\u001b[0m\n",
            "\u001b[0;31mIndexError\u001b[0m                                Traceback (most recent call last)\n",
            "\u001b[1;32m/home/stiven/Documentos/Universidad/Algortimos/notebook.ipynb Cell 59'\u001b[0m in \u001b[0;36m<cell line: 2>\u001b[0;34m()\u001b[0m\n",
            "\u001b[1;32m      <a href='vscode-notebook-cell:/home/stiven/Documentos/Universidad/Algortimos/notebook.ipynb#ch0000041?line=0'>1</a>\u001b[0m \u001b[39mprint\u001b[39m(\u001b[39m'\u001b[39m\u001b[39mThe first, second, and third list elements: \u001b[39m\u001b[39m'\u001b[39m, my_list[\u001b[39m0\u001b[39m], my_list[\u001b[39m1\u001b[39m], my_list[\u001b[39m2\u001b[39m])\n",
            "\u001b[0;32m----> <a href='vscode-notebook-cell:/home/stiven/Documentos/Universidad/Algortimos/notebook.ipynb#ch0000041?line=1'>2</a>\u001b[0m \u001b[39mprint\u001b[39m(\u001b[39m'\u001b[39m\u001b[39mAccessing outside the list bounds causes an error: \u001b[39m\u001b[39m'\u001b[39m, my_list[\u001b[39m9\u001b[39;49m])\n",
            "\n",
            "\u001b[0;31mIndexError\u001b[0m: list index out of range"
          ]
        }
      ],
      "source": [
        "print('The first, second, and third list elements: ', my_list[0], my_list[1], my_list[2])\n",
        "print('Accessing outside the list bounds causes an error: ', my_list[9])"
      ]
    },
    {
      "cell_type": "markdown",
      "metadata": {},
      "source": [
        "We can see the number of elements in a list by calling the `len()` function."
      ]
    },
    {
      "cell_type": "markdown",
      "metadata": {},
      "source": [
        "My own example:"
      ]
    },
    {
      "cell_type": "code",
      "execution_count": null,
      "metadata": {},
      "outputs": [
        {
          "name": "stdout",
          "output_type": "stream",
          "text": [
            "9\n"
          ]
        }
      ],
      "source": [
        "print(len(my_list))"
      ]
    },
    {
      "cell_type": "markdown",
      "metadata": {},
      "source": [
        "We can update and change a list by accessing an index and assigning new value."
      ]
    },
    {
      "cell_type": "markdown",
      "metadata": {},
      "source": [
        "My own example:"
      ]
    },
    {
      "cell_type": "code",
      "execution_count": null,
      "metadata": {},
      "outputs": [
        {
          "name": "stdout",
          "output_type": "stream",
          "text": [
            "[34, 2, 3, 4, 5, 6, 7, 8, 9]\n",
            "[34, 2, 3, 4, 5, 6, 7, 8, 420]\n"
          ]
        }
      ],
      "source": [
        "print(my_list)\n",
        "my_list[0] = 34\n",
        "my_list[8] = 420\n",
        "print(my_list)"
      ]
    },
    {
      "cell_type": "markdown",
      "metadata": {},
      "source": [
        "This is fundamentally different from how strings are handled. A `list` is mutable, meaning that you can change a `list`'s elements without changing the list itself. Some data types, like `strings`, are immutable, meaning you cannot change them at all. Once a `string` or other immutable data type has been created, it cannot be directly modified without creating an entirely new object."
      ]
    },
    {
      "cell_type": "markdown",
      "metadata": {},
      "source": [
        "My own example:"
      ]
    },
    {
      "cell_type": "code",
      "execution_count": null,
      "metadata": {},
      "outputs": [
        {
          "ename": "TypeError",
          "evalue": "'str' object does not support item assignment",
          "output_type": "error",
          "traceback": [
            "\u001b[0;31m---------------------------------------------------------------------------\u001b[0m\n",
            "\u001b[0;31mTypeError\u001b[0m                                 Traceback (most recent call last)\n",
            "\u001b[1;32m/home/stiven/Documentos/Universidad/Algortimos/notebook.ipynb Cell 70'\u001b[0m in \u001b[0;36m<cell line: 2>\u001b[0;34m()\u001b[0m\n",
            "\u001b[1;32m      <a href='vscode-notebook-cell:/home/stiven/Documentos/Universidad/Algortimos/notebook.ipynb#ch0000047?line=0'>1</a>\u001b[0m my_string \u001b[39m=\u001b[39m \u001b[39m\"\u001b[39m\u001b[39mStrings never change\u001b[39m\u001b[39m\"\u001b[39m\n",
            "\u001b[0;32m----> <a href='vscode-notebook-cell:/home/stiven/Documentos/Universidad/Algortimos/notebook.ipynb#ch0000047?line=1'>2</a>\u001b[0m my_string[\u001b[39m0\u001b[39m] \u001b[39m=\u001b[39m \u001b[39m'\u001b[39m\u001b[39mZ\u001b[39m\u001b[39m'\u001b[39m\n",
            "\n",
            "\u001b[0;31mTypeError\u001b[0m: 'str' object does not support item assignment"
          ]
        }
      ],
      "source": [
        "my_string = \"Strings never change\"\n",
        "my_string[0] = 'Z'"
      ]
    },
    {
      "cell_type": "markdown",
      "metadata": {},
      "source": [
        "As we stated before, a list can contain any data type. Thus, lists can also contain strings."
      ]
    },
    {
      "cell_type": "markdown",
      "metadata": {},
      "source": [
        "My own example:"
      ]
    },
    {
      "cell_type": "code",
      "execution_count": null,
      "metadata": {},
      "outputs": [
        {
          "name": "stdout",
          "output_type": "stream",
          "text": [
            "['one', 'two', 'three', 'four', 'five', 'six', 'seven', 'eight', 'nine']\n"
          ]
        }
      ],
      "source": [
        "my_list_2 = ['one', 'two', 'three', 'four', 'five', 'six', 'seven', 'eight', 'nine']\n",
        "print(my_list_2)"
      ]
    },
    {
      "cell_type": "markdown",
      "metadata": {},
      "source": [
        "Lists can also contain multiple different data types at once!"
      ]
    },
    {
      "cell_type": "markdown",
      "metadata": {},
      "source": [
        "My own example:"
      ]
    },
    {
      "cell_type": "code",
      "execution_count": null,
      "metadata": {},
      "outputs": [],
      "source": [
        "#Although possible, seems ugly\n",
        "my_list_3 = [True, 'False', 42]"
      ]
    },
    {
      "cell_type": "markdown",
      "metadata": {},
      "source": [
        "If you want to put two lists together, they can be combined with a `+` symbol."
      ]
    },
    {
      "cell_type": "markdown",
      "metadata": {},
      "source": [
        "My own example:"
      ]
    },
    {
      "cell_type": "code",
      "execution_count": null,
      "metadata": {},
      "outputs": [
        {
          "name": "stdout",
          "output_type": "stream",
          "text": [
            "[34, 2, 3, 4, 5, 6, 7, 8, 420, 'one', 'two', 'three', 'four', 'five', 'six', 'seven', 'eight', 'nine', True, 'False', 42]\n"
          ]
        }
      ],
      "source": [
        "#The sum sign is treated as concatenation or  \"append\"\n",
        "my_list_4 = my_list + my_list_2 + my_list_3\n",
        "print(my_list_4)"
      ]
    },
    {
      "cell_type": "markdown",
      "metadata": {},
      "source": [
        "In addition to accessing individual elements of a list, we can access groups of elements through slicing."
      ]
    },
    {
      "cell_type": "code",
      "execution_count": null,
      "metadata": {},
      "outputs": [],
      "source": [
        "my_list = ['friends', 'romans', 'countrymen', 'lend', 'me', 'your', 'ears']"
      ]
    },
    {
      "cell_type": "markdown",
      "metadata": {},
      "source": [
        "#### Slicing\n",
        "\n",
        "We use the colon (`:`) to slice lists. "
      ]
    },
    {
      "cell_type": "markdown",
      "metadata": {},
      "source": [
        "My own example:"
      ]
    },
    {
      "cell_type": "code",
      "execution_count": null,
      "metadata": {
        "scrolled": true
      },
      "outputs": [
        {
          "name": "stdout",
          "output_type": "stream",
          "text": [
            "['lend', 'me', 'your']\n"
          ]
        }
      ],
      "source": [
        "print(my_list[3:6])"
      ]
    },
    {
      "cell_type": "markdown",
      "metadata": {},
      "source": [
        "Using `:` we can select a group of elements in the list starting from the first element indicated and going up to  (but not including) the last element indicated.\n",
        "\n",
        "We can also select everything after a certain point"
      ]
    },
    {
      "cell_type": "markdown",
      "metadata": {},
      "source": [
        "My own example:"
      ]
    },
    {
      "cell_type": "code",
      "execution_count": null,
      "metadata": {
        "scrolled": true
      },
      "outputs": [
        {
          "name": "stdout",
          "output_type": "stream",
          "text": [
            "['me', 'your', 'ears']\n"
          ]
        }
      ],
      "source": [
        "print(my_list[4:])"
      ]
    },
    {
      "cell_type": "markdown",
      "metadata": {},
      "source": [
        "And everything before a certain point"
      ]
    },
    {
      "cell_type": "markdown",
      "metadata": {},
      "source": [
        "My own example:"
      ]
    },
    {
      "cell_type": "code",
      "execution_count": null,
      "metadata": {
        "scrolled": true
      },
      "outputs": [
        {
          "name": "stdout",
          "output_type": "stream",
          "text": [
            "['friends', 'romans', 'countrymen']\n"
          ]
        }
      ],
      "source": [
        "print(my_list[:3])"
      ]
    },
    {
      "cell_type": "markdown",
      "metadata": {},
      "source": [
        "Using negative numbers will count from the end of the indices instead of from the beginning. For example, an index of `-1` indicates the last element of the list."
      ]
    },
    {
      "cell_type": "markdown",
      "metadata": {},
      "source": [
        "My own example:"
      ]
    },
    {
      "cell_type": "code",
      "execution_count": null,
      "metadata": {},
      "outputs": [
        {
          "name": "stdout",
          "output_type": "stream",
          "text": [
            "your\n"
          ]
        }
      ],
      "source": [
        "print(my_list[-2])"
      ]
    },
    {
      "cell_type": "markdown",
      "metadata": {},
      "source": [
        "You can also add a third component to slicing. Instead of simply indicating the first and final parts of your slice, you can specify the step size that you want to take. So instead of taking every single element, you can take every other element."
      ]
    },
    {
      "cell_type": "markdown",
      "metadata": {},
      "source": [
        "My own example:"
      ]
    },
    {
      "cell_type": "code",
      "execution_count": null,
      "metadata": {},
      "outputs": [
        {
          "name": "stdout",
          "output_type": "stream",
          "text": [
            "['romans', 'lend']\n"
          ]
        }
      ],
      "source": [
        "print(my_list[1:4:2])"
      ]
    },
    {
      "cell_type": "markdown",
      "metadata": {},
      "source": [
        "Here we have selected the entire list (because `0:7` will yield elements `0` through `6`) and we have selected a step size of `2`. So this will spit out element `0` , element `2`, element `4`, and so on through the list element selected. We can skip indicated the beginning and end of our slice, only indicating the step, if we like."
      ]
    },
    {
      "cell_type": "markdown",
      "metadata": {},
      "source": [
        "My own example:"
      ]
    },
    {
      "cell_type": "code",
      "execution_count": null,
      "metadata": {},
      "outputs": [
        {
          "name": "stdout",
          "output_type": "stream",
          "text": [
            "['friends', 'countrymen', 'me', 'ears']\n"
          ]
        }
      ],
      "source": [
        "print(my_list[::2])"
      ]
    },
    {
      "cell_type": "markdown",
      "metadata": {},
      "source": [
        "Lists implictly select the beginning and end of the list when not otherwise specified."
      ]
    },
    {
      "cell_type": "markdown",
      "metadata": {},
      "source": [
        "My own example:"
      ]
    },
    {
      "cell_type": "code",
      "execution_count": null,
      "metadata": {},
      "outputs": [
        {
          "name": "stdout",
          "output_type": "stream",
          "text": [
            "['friends', 'romans', 'countrymen', 'lend', 'me', 'your', 'ears']\n"
          ]
        }
      ],
      "source": [
        "#Same as print the whole list\n",
        "print(my_list[:])"
      ]
    },
    {
      "cell_type": "markdown",
      "metadata": {},
      "source": [
        "With a negative step size we can even reverse the list!"
      ]
    },
    {
      "cell_type": "markdown",
      "metadata": {},
      "source": [
        "My own example:"
      ]
    },
    {
      "cell_type": "code",
      "execution_count": null,
      "metadata": {},
      "outputs": [
        {
          "name": "stdout",
          "output_type": "stream",
          "text": [
            "['ears', 'your', 'me', 'lend', 'countrymen', 'romans', 'friends']\n"
          ]
        }
      ],
      "source": [
        "print(my_list[::-1])"
      ]
    },
    {
      "cell_type": "markdown",
      "metadata": {},
      "source": [
        "Python does not have native matrices, but with lists we can produce a working fascimile. Other packages, such as `numpy`, add matrices as a separate data type, but in base Python the best way to create a matrix is to use a list of lists."
      ]
    },
    {
      "cell_type": "markdown",
      "metadata": {},
      "source": [
        "We can also use built-in functions to generate lists. In particular we will look at `range()` (because we will be using it later!). Range can take several different inputs and will return a list."
      ]
    },
    {
      "cell_type": "markdown",
      "metadata": {},
      "source": [
        "My own example:"
      ]
    },
    {
      "cell_type": "code",
      "execution_count": null,
      "metadata": {},
      "outputs": [
        {
          "name": "stdout",
          "output_type": "stream",
          "text": [
            "range(0, 100)\n"
          ]
        }
      ],
      "source": [
        "b = 100\n",
        "my_list = range(b)\n",
        "print(my_list)"
      ]
    },
    {
      "cell_type": "markdown",
      "metadata": {},
      "source": [
        "Similar to our list-slicing methods from before, we can define both a start and an end for our range. This will return a list that is includes the start and excludes the end, just like a slice."
      ]
    },
    {
      "cell_type": "markdown",
      "metadata": {},
      "source": [
        "My own example:"
      ]
    },
    {
      "cell_type": "code",
      "execution_count": null,
      "metadata": {},
      "outputs": [
        {
          "name": "stdout",
          "output_type": "stream",
          "text": [
            "range(9, 100)\n"
          ]
        }
      ],
      "source": [
        "a = 9\n",
        "b = 100\n",
        "my_list = range(a, b)\n",
        "print(my_list)"
      ]
    },
    {
      "cell_type": "markdown",
      "metadata": {},
      "source": [
        "We can also specify a step size. This again has the same behavior as a slice."
      ]
    },
    {
      "cell_type": "markdown",
      "metadata": {},
      "source": [
        "My own example:"
      ]
    },
    {
      "cell_type": "code",
      "execution_count": null,
      "metadata": {
        "scrolled": true
      },
      "outputs": [
        {
          "name": "stdout",
          "output_type": "stream",
          "text": [
            "range(0, 10000, 10)\n"
          ]
        }
      ],
      "source": [
        "a = 0\n",
        "b = 10000\n",
        "step = 10\n",
        "my_list = range(a, b, step)\n",
        "print(my_list)"
      ]
    },
    {
      "cell_type": "markdown",
      "metadata": {},
      "source": [
        "### Tuples\n",
        "\n",
        "A `tuple` is a data type similar to a list in that it can hold different kinds of data types. The key difference here is that a `tuple` is immutable. We define a `tuple` by separating the elements we want to include by commas. It is conventional to surround a `tuple` with parentheses."
      ]
    },
    {
      "cell_type": "markdown",
      "metadata": {},
      "source": [
        "My own example:"
      ]
    },
    {
      "cell_type": "code",
      "execution_count": null,
      "metadata": {},
      "outputs": [
        {
          "name": "stdout",
          "output_type": "stream",
          "text": [
            "('I', 'have', 30, 'cats')\n"
          ]
        }
      ],
      "source": [
        "#Seems like parenthesis are not necessary\n",
        "my_tuple = 'I', 'have', 30, 'cats'\n",
        "print(my_tuple)"
      ]
    },
    {
      "cell_type": "code",
      "execution_count": null,
      "metadata": {},
      "outputs": [
        {
          "name": "stdout",
          "output_type": "stream",
          "text": [
            "('I', 'have', 30, 'cats')\n"
          ]
        }
      ],
      "source": [
        "my_tuple = ('I', 'have', 30, 'cats')\n",
        "print(my_tuple)"
      ]
    },
    {
      "cell_type": "markdown",
      "metadata": {},
      "source": [
        "As mentioned before, tuples are immutable. You can't change any part of them without defining a new tuple."
      ]
    },
    {
      "cell_type": "markdown",
      "metadata": {},
      "source": [
        "My own example:"
      ]
    },
    {
      "cell_type": "code",
      "execution_count": null,
      "metadata": {},
      "outputs": [
        {
          "ename": "TypeError",
          "evalue": "'tuple' object does not support item assignment",
          "output_type": "error",
          "traceback": [
            "\u001b[0;31m---------------------------------------------------------------------------\u001b[0m\n",
            "\u001b[0;31mTypeError\u001b[0m                                 Traceback (most recent call last)\n",
            "\u001b[1;32m/home/stiven/Documentos/Universidad/Algortimos/notebook.ipynb Cell 122'\u001b[0m in \u001b[0;36m<cell line: 1>\u001b[0;34m()\u001b[0m\n",
            "\u001b[0;32m----> <a href='vscode-notebook-cell:/home/stiven/Documentos/Universidad/Algortimos/notebook.ipynb#ch0000083?line=0'>1</a>\u001b[0m my_tuple[\u001b[39m3\u001b[39m] \u001b[39m=\u001b[39m \u001b[39m'\u001b[39m\u001b[39mdogs\u001b[39m\u001b[39m'\u001b[39m\n",
            "\n",
            "\u001b[0;31mTypeError\u001b[0m: 'tuple' object does not support item assignment"
          ]
        }
      ],
      "source": [
        "my_tuple[3] = 'dogs' # Attempts to change the 'cats' value stored in the the tuple to 'dogs'"
      ]
    },
    {
      "cell_type": "markdown",
      "metadata": {},
      "source": [
        "You can slice tuples the same way that you slice lists!"
      ]
    },
    {
      "cell_type": "markdown",
      "metadata": {},
      "source": [
        "My own example:"
      ]
    },
    {
      "cell_type": "code",
      "execution_count": null,
      "metadata": {},
      "outputs": [
        {
          "name": "stdout",
          "output_type": "stream",
          "text": [
            "('have', 30)\n"
          ]
        }
      ],
      "source": [
        "print(my_tuple[1:3])"
      ]
    },
    {
      "cell_type": "markdown",
      "metadata": {},
      "source": [
        "And concatenate them the way that you would with strings!"
      ]
    },
    {
      "cell_type": "markdown",
      "metadata": {},
      "source": [
        "My own example:"
      ]
    },
    {
      "cell_type": "code",
      "execution_count": null,
      "metadata": {},
      "outputs": [
        {
          "name": "stdout",
          "output_type": "stream",
          "text": [
            "('I', 'have', 30, 'cats', 'make', 'that', 50)\n"
          ]
        }
      ],
      "source": [
        "my_other_tuple = ('make', 'that', 50)\n",
        "print(my_tuple + my_other_tuple)"
      ]
    },
    {
      "cell_type": "markdown",
      "metadata": {},
      "source": [
        "We can 'pack' values together, creating a tuple (as above), or we can 'unpack' values from a tuple, taking them out."
      ]
    },
    {
      "cell_type": "markdown",
      "metadata": {},
      "source": [
        "My own example:"
      ]
    },
    {
      "cell_type": "code",
      "execution_count": null,
      "metadata": {},
      "outputs": [
        {
          "name": "stdout",
          "output_type": "stream",
          "text": [
            "make that 50\n"
          ]
        }
      ],
      "source": [
        "str_1, str_2, int_1 = my_other_tuple\n",
        "print(str_1, str_2, int_1)"
      ]
    },
    {
      "cell_type": "markdown",
      "metadata": {},
      "source": [
        "Unpacking assigns each value of the tuple in order to each variable on the left hand side of the equals sign. Some functions, including user-defined functions, may return tuples, so we can use this to directly unpack them and access the values that we want."
      ]
    },
    {
      "cell_type": "markdown",
      "metadata": {},
      "source": [
        "### Sets\n",
        "\n",
        "A `set` is a collection of unordered, unique elements. It works almost exactly as you would expect a normal set of things in mathematics to work and is defined using braces (`{}`)."
      ]
    },
    {
      "cell_type": "markdown",
      "metadata": {},
      "source": [
        "My own example:"
      ]
    },
    {
      "cell_type": "code",
      "execution_count": null,
      "metadata": {},
      "outputs": [
        {
          "name": "stdout",
          "output_type": "stream",
          "text": [
            "{'man I just LOVE the number 4', 4, 7, 'the number 4', 'lizards', 42, 'dogs'} <class 'set'>\n"
          ]
        }
      ],
      "source": [
        "things_i_like = {'dogs', 7, 'the number 4', 4, 4, 4, 42, 'lizards', 'man I just LOVE the number 4'}\n",
        "print(things_i_like, type(things_i_like))"
      ]
    },
    {
      "cell_type": "markdown",
      "metadata": {},
      "source": [
        "Note how any extra instances of the same item are removed in the final set. We can also create a `set` from a list, using the `set()` function."
      ]
    },
    {
      "cell_type": "markdown",
      "metadata": {},
      "source": [
        "My own example:"
      ]
    },
    {
      "cell_type": "code",
      "execution_count": null,
      "metadata": {},
      "outputs": [
        {
          "name": "stdout",
          "output_type": "stream",
          "text": [
            "{'sponges', 'lizards', 'bats', 'dogs', 'cows', 'cats'}\n"
          ]
        }
      ],
      "source": [
        "animal_list = ['cats', 'dogs', 'dogs', 'dogs', 'lizards', 'sponges', 'cows', 'bats', 'sponges']\n",
        "animal_set = set(animal_list)\n",
        "print(animal_set) # Removes all extra instances from the list)"
      ]
    },
    {
      "cell_type": "markdown",
      "metadata": {},
      "source": [
        "Calling `len()` on a set will tell you how many elements are in it."
      ]
    },
    {
      "cell_type": "markdown",
      "metadata": {},
      "source": [
        "My own example:"
      ]
    },
    {
      "cell_type": "code",
      "execution_count": null,
      "metadata": {},
      "outputs": [
        {
          "name": "stdout",
          "output_type": "stream",
          "text": [
            "6\n"
          ]
        }
      ],
      "source": [
        "print(len(animal_set))"
      ]
    },
    {
      "cell_type": "markdown",
      "metadata": {},
      "source": [
        "Because a `set` is unordered, we can't access individual elements using an index. We can, however, easily check for membership (to see if something is contained in a set) and take the unions and intersections of sets by using the built-in set functions."
      ]
    },
    {
      "cell_type": "markdown",
      "metadata": {},
      "source": [
        "My own example:"
      ]
    },
    {
      "cell_type": "code",
      "execution_count": null,
      "metadata": {},
      "outputs": [
        {
          "data": {
            "text/plain": [
              "True"
            ]
          },
          "metadata": {},
          "output_type": "display_data"
        }
      ],
      "source": [
        "'cats' in animal_set # Here we check for membership using the `in` keyword."
      ]
    },
    {
      "cell_type": "markdown",
      "metadata": {},
      "source": [
        "Here we checked to see whether the string 'cats' was contained within our `animal_set` and it returned `True`, telling us that it is indeed in our set.\n",
        "\n",
        "We can connect sets by using typical mathematical set operators, namely `|`, for union, and `&`, for intersection. Using `|` or `&` will return exactly what you would expect if you are familiar with sets in mathematics."
      ]
    },
    {
      "cell_type": "markdown",
      "metadata": {},
      "source": [
        "My own example:"
      ]
    },
    {
      "cell_type": "code",
      "execution_count": null,
      "metadata": {},
      "outputs": [
        {
          "name": "stdout",
          "output_type": "stream",
          "text": [
            "{'sponges', 4, 7, 'lizards', 'bats', 42, 'dogs', 'man I just LOVE the number 4', 'cows', 'the number 4', 'cats'}\n"
          ]
        }
      ],
      "source": [
        "print(animal_set | things_i_like) # You can also write things_i_like | animal_set with no difference"
      ]
    },
    {
      "cell_type": "markdown",
      "metadata": {},
      "source": [
        "Pairing two sets together with `|` combines the sets, removing any repetitions to make every set element unique."
      ]
    },
    {
      "cell_type": "markdown",
      "metadata": {},
      "source": [
        "My own example:"
      ]
    },
    {
      "cell_type": "code",
      "execution_count": null,
      "metadata": {},
      "outputs": [
        {
          "name": "stdout",
          "output_type": "stream",
          "text": [
            "{'lizards', 'dogs'}\n"
          ]
        }
      ],
      "source": [
        "print(animal_set & things_i_like) # You can also write things_i_like & animal_set with no difference"
      ]
    },
    {
      "cell_type": "markdown",
      "metadata": {},
      "source": [
        "Pairing two sets together with `&` will calculate the intersection of both sets, returning a set that only contains what they have in common.\n",
        "\n",
        "If you are interested in learning more about the built-in functions for sets, feel free to check out the [documentation](https://docs.python.org/2/library/sets.html)."
      ]
    },
    {
      "cell_type": "markdown",
      "metadata": {},
      "source": [
        "### Dictionaries\n",
        "\n",
        "Another essential data structure in Python is the dictionary. Dictionaries are defined with a combination of curly braces (`{}`) and colons (`:`). The braces define the beginning and end of a dictionary and the colons indicate key-value pairs. A dictionary is essentially a set of key-value pairs. The key of any entry must be an immutable data type. This makes both strings and tuples candidates. Keys can be both added and deleted.\n",
        "\n",
        "In the following example, we have a dictionary composed of key-value pairs where the key is a genre of fiction (`string`) and the value is a list of books (`list`) within that genre. Since a collection is still considered a single entity, we can use one to collect multiple variables or values into one key-value pair."
      ]
    },
    {
      "cell_type": "markdown",
      "metadata": {},
      "source": [
        "My own example:"
      ]
    },
    {
      "cell_type": "code",
      "execution_count": null,
      "metadata": {},
      "outputs": [],
      "source": [
        "my_dict = {\"High Fantasy\": [\"Wheel of Time\", \"Lord of the Rings\"], \n",
        "           \"Sci-fi\": [\"Book of the New Sun\", \"Neuromancer\", \"Snow Crash\"],\n",
        "           \"Weird Fiction\": [\"At the Mountains of Madness\", \"The House on the Borderland\"]}"
      ]
    },
    {
      "cell_type": "markdown",
      "metadata": {},
      "source": [
        "After defining a dictionary, we can access any individual value by indicating its key in brackets."
      ]
    },
    {
      "cell_type": "markdown",
      "metadata": {},
      "source": [
        "My own example:"
      ]
    },
    {
      "cell_type": "code",
      "execution_count": null,
      "metadata": {},
      "outputs": [
        {
          "name": "stdout",
          "output_type": "stream",
          "text": [
            "['Book of the New Sun', 'Neuromancer', 'Snow Crash']\n"
          ]
        }
      ],
      "source": [
        "print(my_dict[\"Sci-fi\"])"
      ]
    },
    {
      "cell_type": "markdown",
      "metadata": {},
      "source": [
        "We can also change the value associated with a given key"
      ]
    },
    {
      "cell_type": "markdown",
      "metadata": {},
      "source": [
        "My own example:"
      ]
    },
    {
      "cell_type": "code",
      "execution_count": null,
      "metadata": {},
      "outputs": [
        {
          "name": "stdout",
          "output_type": "stream",
          "text": [
            "I can't read\n"
          ]
        }
      ],
      "source": [
        "my_dict[\"Sci-fi\"] = \"I can't read\" #I mean, I can\n",
        "print(my_dict[\"Sci-fi\"])"
      ]
    },
    {
      "cell_type": "markdown",
      "metadata": {},
      "source": [
        "Adding a new key-value pair is as simple as defining it."
      ]
    },
    {
      "cell_type": "markdown",
      "metadata": {},
      "source": [
        "My own example:"
      ]
    },
    {
      "cell_type": "code",
      "execution_count": null,
      "metadata": {},
      "outputs": [
        {
          "name": "stdout",
          "output_type": "stream",
          "text": [
            "['Pillars of the Earth']\n"
          ]
        }
      ],
      "source": [
        "my_dict[\"Historical Fiction\"] = [\"Pillars of the Earth\"]\n",
        "print(my_dict[\"Historical Fiction\"])"
      ]
    },
    {
      "cell_type": "code",
      "execution_count": null,
      "metadata": {},
      "outputs": [
        {
          "name": "stdout",
          "output_type": "stream",
          "text": [
            "{'High Fantasy': ['Wheel of Time', 'Lord of the Rings'], 'Sci-fi': \"I can't read\", 'Weird Fiction': ['At the Mountains of Madness', 'The House on the Borderland'], 'Historical Fiction': ['Pillars of the Earth']}\n"
          ]
        }
      ],
      "source": [
        "print(my_dict)"
      ]
    },
    {
      "cell_type": "markdown",
      "metadata": {},
      "source": [
        "## String Shenanigans\n",
        "\n",
        "We already know that strings are generally used for text. We can used built-in operations to combine, split, and format strings easily, depending on our needs.\n",
        "\n",
        "The `+` symbol indicates concatenation in string language. It will combine two strings into a longer string."
      ]
    },
    {
      "cell_type": "markdown",
      "metadata": {},
      "source": [
        "My own example:"
      ]
    },
    {
      "cell_type": "code",
      "execution_count": 57,
      "metadata": {},
      "outputs": [
        {
          "name": "stdout",
          "output_type": "stream",
          "text": [
            "\"Beware the Jabberwock, my son! /The jaws that bite, the claws that catch! /Beware the Jubjub bird, and shun /The frumious Bandersnatch!\"/\n"
          ]
        }
      ],
      "source": [
        "first_string = '\"Beware the Jabberwock, my son! /The jaws that bite, the claws that catch! /'\n",
        "second_string = 'Beware the Jubjub bird, and shun /The frumious Bandersnatch!\"/'\n",
        "third_string = first_string + second_string\n",
        "print(third_string)"
      ]
    },
    {
      "cell_type": "markdown",
      "metadata": {},
      "source": [
        "Strings are also indexed much in the same way that lists are."
      ]
    },
    {
      "cell_type": "markdown",
      "metadata": {},
      "source": [
        "My own example:"
      ]
    },
    {
      "cell_type": "code",
      "execution_count": 56,
      "metadata": {},
      "outputs": [
        {
          "name": "stdout",
          "output_type": "stream",
          "text": [
            "The first letter is:  S\n",
            "The last letter is:  s\n",
            "The second to last letter is:  u\n",
            "The first five characters are:  Super\n",
            "Reverse it!:  suoicodilaipxecitsiligarfilacrepuS\n"
          ]
        }
      ],
      "source": [
        "my_string = 'Supercalifragilisticexpialidocious'\n",
        "print('The first letter is: ', my_string[0]) # Uppercase S)\n",
        "print('The last letter is: ', my_string[-1]) # lowercase s)\n",
        "print('The second to last letter is: ', my_string[-2]) # lowercase u)\n",
        "print('The first five characters are: ', my_string[0:5]) # Remember: slicing doesn't include the final element!)\n",
        "print('Reverse it!: ', my_string[::-1])"
      ]
    },
    {
      "cell_type": "markdown",
      "metadata": {},
      "source": [
        "Built-in objects and classes often have special functions associated with them that are called methods. We access these methods by using a period ('.'). We will cover objects and their associated methods more in another lecture!\n",
        "\n",
        "Using string methods we can count instances of a character or group of characters."
      ]
    },
    {
      "cell_type": "markdown",
      "metadata": {},
      "source": [
        "My own example:"
      ]
    },
    {
      "cell_type": "code",
      "execution_count": 58,
      "metadata": {
        "scrolled": true
      },
      "outputs": [
        {
          "name": "stdout",
          "output_type": "stream",
          "text": [
            "Count of the letter i in Supercalifragilisticexpialidocious:  7\n",
            "Count of \"li\" in the same word:  3\n"
          ]
        }
      ],
      "source": [
        "print('Count of the letter i in Supercalifragilisticexpialidocious: ', my_string.count('i'))\n",
        "print('Count of \"li\" in the same word: ', my_string.count('li'))"
      ]
    },
    {
      "cell_type": "markdown",
      "metadata": {},
      "source": [
        "We can also find the first instance of a character or group of characters in a string."
      ]
    },
    {
      "cell_type": "markdown",
      "metadata": {},
      "source": [
        "My own example:"
      ]
    },
    {
      "cell_type": "code",
      "execution_count": 59,
      "metadata": {},
      "outputs": [
        {
          "name": "stdout",
          "output_type": "stream",
          "text": [
            "the first time i appears is at index:  8\n"
          ]
        }
      ],
      "source": [
        "print('the first time i appears is at index: ', my_string.find('i'))"
      ]
    },
    {
      "cell_type": "markdown",
      "metadata": {},
      "source": [
        "As well as replace characters in a string."
      ]
    },
    {
      "cell_type": "markdown",
      "metadata": {},
      "source": [
        "My own example:"
      ]
    },
    {
      "cell_type": "code",
      "execution_count": 60,
      "metadata": {},
      "outputs": [
        {
          "name": "stdout",
          "output_type": "stream",
          "text": [
            "All i's are now a's:  Supercalafragalastacexpaaladocaous\n"
          ]
        }
      ],
      "source": [
        "print(\"All i's are now a's: \", my_string.replace('i', 'a'))"
      ]
    },
    {
      "cell_type": "code",
      "execution_count": 61,
      "metadata": {},
      "outputs": [
        {
          "name": "stdout",
          "output_type": "stream",
          "text": [
            "It's raining cats and more cats\n"
          ]
        }
      ],
      "source": [
        "print(\"It's raining cats and dogs\".replace('dogs', 'more cats'))"
      ]
    },
    {
      "cell_type": "markdown",
      "metadata": {},
      "source": [
        "There are also some methods that are unique to strings. The function `upper()` will convert all characters in a string to uppercase, while `lower()` will convert all characters in a string to lowercase!"
      ]
    },
    {
      "cell_type": "markdown",
      "metadata": {},
      "source": [
        "My own example:"
      ]
    },
    {
      "cell_type": "code",
      "execution_count": 62,
      "metadata": {},
      "outputs": [
        {
          "name": "stdout",
          "output_type": "stream",
          "text": [
            "I CAN'T HEAR YOU\n",
            "i said hello\n"
          ]
        }
      ],
      "source": [
        "my_string = \"I can't hear you\"\n",
        "print(my_string.upper())\n",
        "my_string = \"I said HELLO\"\n",
        "print(my_string.lower())"
      ]
    },
    {
      "cell_type": "markdown",
      "metadata": {},
      "source": [
        "### String Formatting\n",
        "\n",
        "Using the `format()` method we can add in variable values and generally format our strings."
      ]
    },
    {
      "cell_type": "markdown",
      "metadata": {},
      "source": [
        "My own example:"
      ]
    },
    {
      "cell_type": "code",
      "execution_count": 63,
      "metadata": {},
      "outputs": [
        {
          "name": "stdout",
          "output_type": "stream",
          "text": [
            "Marco Polo\n"
          ]
        }
      ],
      "source": [
        "my_string = \"{0} {1}\".format('Marco', 'Polo')\n",
        "print(my_string)"
      ]
    },
    {
      "cell_type": "code",
      "execution_count": 64,
      "metadata": {},
      "outputs": [
        {
          "name": "stdout",
          "output_type": "stream",
          "text": [
            "Polo Marco\n"
          ]
        }
      ],
      "source": [
        "my_string = \"{1} {0}\".format('Marco', 'Polo')\n",
        "print(my_string)"
      ]
    },
    {
      "cell_type": "markdown",
      "metadata": {},
      "source": [
        "We use braces (`{}`) to indicate parts of the string that will be filled in later and we use the arguments of the `format()` function to provide the values to substitute. The numbers within the braces indicate the index of the value in the `format()` arguments."
      ]
    },
    {
      "cell_type": "markdown",
      "metadata": {},
      "source": [
        "See the `format()` [documentation](https://docs.python.org/2/library/string.html#format-examples) for additional examples."
      ]
    },
    {
      "cell_type": "markdown",
      "metadata": {},
      "source": [
        "If you need some quick and dirty formatting, you can instead use the `%` symbol, called the string formatting operator. "
      ]
    },
    {
      "cell_type": "markdown",
      "metadata": {},
      "source": [
        "My own example:"
      ]
    },
    {
      "cell_type": "code",
      "execution_count": 65,
      "metadata": {},
      "outputs": [
        {
          "name": "stdout",
          "output_type": "stream",
          "text": [
            "insert value here\n"
          ]
        }
      ],
      "source": [
        "print('insert %s here' % 'value')"
      ]
    },
    {
      "cell_type": "markdown",
      "metadata": {},
      "source": [
        "The `%` symbol basically cues Python to create a placeholder. Whatever character follows the `%` (in the string) indicates what sort of type the value put into the placeholder will have. This character is called a *conversion type*. Once the string has been closed, we need another `%` that will be followed by the values to insert. In the case of one value, you can just put it there. If you are inserting more than one value, they must be enclosed in a tuple."
      ]
    },
    {
      "cell_type": "markdown",
      "metadata": {},
      "source": [
        "My own example:"
      ]
    },
    {
      "cell_type": "code",
      "execution_count": 66,
      "metadata": {},
      "outputs": [
        {
          "name": "stdout",
          "output_type": "stream",
          "text": [
            "There are 13 cats in my apartment\n"
          ]
        }
      ],
      "source": [
        "print('There are %s cats in my %s' % (13, 'apartment'))"
      ]
    },
    {
      "cell_type": "markdown",
      "metadata": {},
      "source": [
        "In these examples, the `%s` indicates that Python should convert the values into strings. There are multiple conversion types that you can use to get more specific with the the formatting. See the string formatting [documentation](https://docs.python.org/2/library/stdtypes.html#string-formatting) for additional examples and more complete details on use."
      ]
    },
    {
      "cell_type": "markdown",
      "metadata": {},
      "source": [
        "## Logical Operators\n",
        "### Basic Logic\n",
        "\n",
        "Logical operators deal with `boolean` values, as we briefly covered before. If you recall, a `bool` takes on one of two values, `True` or `False` (or $1$ or $0$). The basic logical statements that we can make are defined using the built-in comparators. These are `==` (equal), `!=` (not equal), `<` (less than), `>` (greater than), `<=` (less than or equal to), and `>=` (greater than or equal to)."
      ]
    },
    {
      "cell_type": "markdown",
      "metadata": {},
      "source": [
        "My own example:"
      ]
    },
    {
      "cell_type": "code",
      "execution_count": 67,
      "metadata": {},
      "outputs": [
        {
          "name": "stdout",
          "output_type": "stream",
          "text": [
            "False\n"
          ]
        }
      ],
      "source": [
        "print(6 == 5)"
      ]
    },
    {
      "cell_type": "code",
      "execution_count": 68,
      "metadata": {},
      "outputs": [
        {
          "name": "stdout",
          "output_type": "stream",
          "text": [
            "False\n"
          ]
        }
      ],
      "source": [
        "print(5 > 5)"
      ]
    },
    {
      "cell_type": "markdown",
      "metadata": {},
      "source": [
        "These comparators also work in conjunction with variables."
      ]
    },
    {
      "cell_type": "markdown",
      "metadata": {},
      "source": [
        "My own example:"
      ]
    },
    {
      "cell_type": "code",
      "execution_count": 69,
      "metadata": {},
      "outputs": [
        {
          "name": "stdout",
          "output_type": "stream",
          "text": [
            "True\n"
          ]
        }
      ],
      "source": [
        "m = 2\n",
        "n = 23\n",
        "print(m < n)"
      ]
    },
    {
      "cell_type": "markdown",
      "metadata": {},
      "source": [
        "We can string these comparators together to make more complex logical statements using the logical operators `or`, `and`, and `not`. "
      ]
    },
    {
      "cell_type": "markdown",
      "metadata": {},
      "source": [
        "My own example:"
      ]
    },
    {
      "cell_type": "code",
      "execution_count": 70,
      "metadata": {},
      "outputs": [
        {
          "name": "stdout",
          "output_type": "stream",
          "text": [
            "Statement 1 truth value: True\n",
            "Statement 2 truth value: True\n",
            "Statement 1 and Statement 2: True\n"
          ]
        }
      ],
      "source": [
        "statement_1 = 10 > 2\n",
        "statement_2 = 4 <= 6\n",
        "print(\"Statement 1 truth value: {0}\".format(statement_1))\n",
        "print(\"Statement 2 truth value: {0}\".format(statement_2))\n",
        "print(\"Statement 1 and Statement 2: {0}\".format(statement_1 and statement_2))"
      ]
    },
    {
      "cell_type": "markdown",
      "metadata": {},
      "source": [
        "The `or` operator performs a logical `or` calculation. This is an inclusive `or`, so if either component paired together by `or` is `True`, the whole statement will be `True`. The `and` statement only outputs `True` if all components that are `and`ed together are True. Otherwise it will output `False`. The `not` statement simply inverts the truth value of whichever statement follows it. So a `True` statement will be evaluated as `False` when a `not` is placed in front of it. Similarly, a `False` statement will become `True` when a `not` is in front of it.\n",
        "\n",
        "Say that we have two logical statements, or assertions, $P$ and $Q$. The truth table for the basic logical operators is as follows:\n",
        "\n",
        "|  P  |  Q  | `not` P| P `and` Q | P `or` Q|\n",
        "|:-----:|:-----:|:---:|:---:|:---:|\n",
        "| `True` | `True` | `False` | `True` | `True` |\n",
        "| `False` | `True` | `True` | `False` | `True` |\n",
        "| `True` | `False` | `False` | `False` | `True` |\n",
        "| `False` | `False` | `True` | `False` | `False` |\n",
        "\n",
        "We can string multiple logical statements together using the logical operators."
      ]
    },
    {
      "cell_type": "markdown",
      "metadata": {},
      "source": [
        "My own example:"
      ]
    },
    {
      "cell_type": "code",
      "execution_count": 71,
      "metadata": {},
      "outputs": [
        {
          "name": "stdout",
          "output_type": "stream",
          "text": [
            "True\n"
          ]
        },
        {
          "data": {
            "text/plain": [
              "False"
            ]
          },
          "execution_count": 71,
          "metadata": {},
          "output_type": "execute_result"
        }
      ],
      "source": [
        "print ((2 < 3) and (3 > 0)) or ((5 > 6) and not (4 < 2))"
      ]
    },
    {
      "cell_type": "markdown",
      "metadata": {},
      "source": [
        "Logical statements can be as simple or complex as we like, depending on what we need to express. Evaluating the above logical statement step by step we see that we are evaluating (`True and True`) `or` (`False and not False`). This becomes `True or (False and True`), subsequently becoming `True or False`, ultimately being evaluated as `True`."
      ]
    },
    {
      "cell_type": "markdown",
      "metadata": {},
      "source": [
        "#### Truthiness\n",
        "\n",
        "Data types in Python have a fun characteristic called truthiness. What this means is that most built-in types will evaluate as either `True` or `False` when a boolean value is needed (such as with an if-statement). As a general rule, containers like strings, tuples, dictionaries, lists, and sets, will return `True` if they contain anything at all and `False` if they contain nothing."
      ]
    },
    {
      "cell_type": "markdown",
      "metadata": {},
      "source": [
        "My own example:"
      ]
    },
    {
      "cell_type": "code",
      "execution_count": 72,
      "metadata": {},
      "outputs": [
        {
          "name": "stdout",
          "output_type": "stream",
          "text": [
            "False\n"
          ]
        }
      ],
      "source": [
        "# Similar to how float() and int() work, bool() forces a value to be considered a boolean!\n",
        "print(bool(''))"
      ]
    },
    {
      "cell_type": "code",
      "execution_count": 73,
      "metadata": {},
      "outputs": [
        {
          "name": "stdout",
          "output_type": "stream",
          "text": [
            "True\n"
          ]
        }
      ],
      "source": [
        "print(bool('I have character!'))"
      ]
    },
    {
      "cell_type": "code",
      "execution_count": 74,
      "metadata": {},
      "outputs": [
        {
          "name": "stdout",
          "output_type": "stream",
          "text": [
            "False\n"
          ]
        }
      ],
      "source": [
        "print(bool([]))"
      ]
    },
    {
      "cell_type": "code",
      "execution_count": 75,
      "metadata": {},
      "outputs": [
        {
          "name": "stdout",
          "output_type": "stream",
          "text": [
            "True\n"
          ]
        }
      ],
      "source": [
        "print(bool([1, 2, 3]))"
      ]
    },
    {
      "cell_type": "markdown",
      "metadata": {},
      "source": [
        "And so on, for the other collections and containers. `None` also evaluates as `False`. The number `1` is equivalent to `True` and the number `0` is equivalent to `False` as well, in a boolean context."
      ]
    },
    {
      "cell_type": "markdown",
      "metadata": {},
      "source": [
        "### If-statements\n",
        "\n",
        "We can create segments of code that only execute if a set of conditions is met. We use if-statements in conjunction with logical statements in order to create branches in our code. \n",
        "\n",
        "An `if` block gets entered when the condition is considered to be `True`. If condition is evaluated as `False`, the `if` block will simply be skipped unless there is an `else` block to accompany it. Conditions are made using either logical operators or by using the truthiness of values in Python. An if-statement is defined with a colon and a block of indented text."
      ]
    },
    {
      "cell_type": "code",
      "execution_count": null,
      "metadata": {},
      "outputs": [],
      "source": [
        "# This is the basic format of an if statement. This is a vacuous example. \n",
        "# The string \"Condition\" will always evaluated as True because it is a\n",
        "# non-empty string. he purpose of this code is to show the formatting of\n",
        "# an if-statement.\n",
        "if \"Condition\": \n",
        "    # This block of code will execute because the string is non-empty\n",
        "    # Everything on these indented lines\n",
        "    print True\n",
        "else:\n",
        "    # So if the condition that we examined with if is in fact False\n",
        "    # This block of code will execute INSTEAD of the first block of code\n",
        "    # Everything on these indented lines\n",
        "    print False\n",
        "# The else block here will never execute because \"Condition\" is a non-empty string."
      ]
    },
    {
      "cell_type": "markdown",
      "metadata": {},
      "source": [
        "My own example:"
      ]
    },
    {
      "cell_type": "code",
      "execution_count": 78,
      "metadata": {},
      "outputs": [
        {
          "name": "stdout",
          "output_type": "stream",
          "text": [
            "The variable i has a value of 5\n"
          ]
        }
      ],
      "source": [
        "i = 5\n",
        "if i == 5:\n",
        "    print('The variable i has a value of 5')"
      ]
    },
    {
      "cell_type": "markdown",
      "metadata": {},
      "source": [
        "Because in this example `i = 4` and the if-statement is only looking for whether `i` is equal to `5`, the print statement will never be executed. We can add in an `else` statement to create a contingency block of code in case the condition in the if-statement is not evaluated as `True`."
      ]
    },
    {
      "cell_type": "markdown",
      "metadata": {},
      "source": [
        "My own example:"
      ]
    },
    {
      "cell_type": "code",
      "execution_count": 79,
      "metadata": {},
      "outputs": [
        {
          "name": "stdout",
          "output_type": "stream",
          "text": [
            "All lines in this indented block are part of this block\n",
            "The variable i is not equal to 5\n"
          ]
        }
      ],
      "source": [
        "i = 4\n",
        "if i == 5:\n",
        "    print(\"All lines in this indented block are part of this block\")\n",
        "    print('The variable i has a value of 5')\n",
        "else:\n",
        "    print(\"All lines in this indented block are part of this block\")\n",
        "    print('The variable i is not equal to 5')"
      ]
    },
    {
      "cell_type": "markdown",
      "metadata": {},
      "source": [
        "We can implement other branches off of the same if-statement by using `elif`, an abbreviation of \"else if\". We can include as many `elifs` as we like until we have exhausted all the logical branches of a condition."
      ]
    },
    {
      "cell_type": "markdown",
      "metadata": {},
      "source": [
        "My own example:"
      ]
    },
    {
      "cell_type": "code",
      "execution_count": 80,
      "metadata": {},
      "outputs": [
        {
          "name": "stdout",
          "output_type": "stream",
          "text": [
            "The variable i has a value of 1\n"
          ]
        }
      ],
      "source": [
        "i = 1\n",
        "if i == 1:\n",
        "    print('The variable i has a value of 1')\n",
        "elif i == 2:\n",
        "    print('The variable i has a value of 2')\n",
        "elif i == 3:\n",
        "    print('The variable i has a value of 3')\n",
        "else:\n",
        "    print(\"I don't care what i is\")"
      ]
    },
    {
      "cell_type": "markdown",
      "metadata": {},
      "source": [
        "You can also nest if-statements within if-statements to check for further conditions."
      ]
    },
    {
      "cell_type": "markdown",
      "metadata": {},
      "source": [
        "My own example:"
      ]
    },
    {
      "cell_type": "code",
      "execution_count": 81,
      "metadata": {},
      "outputs": [
        {
          "name": "stdout",
          "output_type": "stream",
          "text": [
            "i is divisible by both 2 and 5! Wow!\n"
          ]
        }
      ],
      "source": [
        "i = 10\n",
        "if i % 2 == 0:\n",
        "    if i % 3 == 0:\n",
        "        print('i is divisible by both 2 and 3! Wow!')\n",
        "    elif i % 5 == 0:\n",
        "        print('i is divisible by both 2 and 5! Wow!')\n",
        "    else:\n",
        "        print('i is divisible by 2, but not 3 or 5. Meh.')\n",
        "else:\n",
        "    print('I guess that i is an odd number. Boring.')"
      ]
    },
    {
      "cell_type": "markdown",
      "metadata": {},
      "source": [
        "Remember that we can group multiple conditions together by using the logical operators!"
      ]
    },
    {
      "cell_type": "markdown",
      "metadata": {},
      "source": [
        "My own example:"
      ]
    },
    {
      "cell_type": "code",
      "execution_count": 82,
      "metadata": {},
      "outputs": [
        {
          "name": "stdout",
          "output_type": "stream",
          "text": [
            "5 is less than 10 and 12 is greater than 11! How novel and interesting!\n"
          ]
        }
      ],
      "source": [
        "i = 5\n",
        "j = 12\n",
        "if i < 10 and j > 11:\n",
        "    print('{0} is less than 10 and {1} is greater than 11! How novel and interesting!'.format(i, j))"
      ]
    },
    {
      "cell_type": "markdown",
      "metadata": {},
      "source": [
        "You can use the logical comparators to compare strings!"
      ]
    },
    {
      "cell_type": "markdown",
      "metadata": {},
      "source": [
        "My own example:"
      ]
    },
    {
      "cell_type": "code",
      "execution_count": 83,
      "metadata": {},
      "outputs": [
        {
          "name": "stdout",
          "output_type": "stream",
          "text": [
            "And so it was! For the glory of Rome!\n"
          ]
        }
      ],
      "source": [
        "my_string = \"Carthago delenda est\"\n",
        "if my_string == \"Carthago delenda est\":\n",
        "    print('And so it was! For the glory of Rome!')\n",
        "else:\n",
        "    print('War elephants are TERRIFYING. I am staying home.')"
      ]
    },
    {
      "cell_type": "markdown",
      "metadata": {},
      "source": [
        "As with other data types, `==` will check for whether the two things on either side of it have the same value. In this case, we compare whether the value of the strings are the same. Using `>` or `<` or any of the other comparators is not quite so intuitive, however, so we will stay from using comparators with strings in this lecture. Comparators will examine the [lexicographical order](https://en.wikipedia.org/wiki/Lexicographical_order) of the strings, which might be a bit more in-depth than you might like."
      ]
    },
    {
      "cell_type": "markdown",
      "metadata": {},
      "source": [
        "Some built-in functions return a boolean value, so they can be used as conditions in an if-statement. User-defined functions can also be constructed so that they return a boolean value. This will be covered later with function definition!\n",
        "\n",
        "The `in` keyword is generally used to check membership of a value within another value. We can check memebership in the context of an if-statement and use it to output a truth value."
      ]
    },
    {
      "cell_type": "markdown",
      "metadata": {},
      "source": [
        "My own example:"
      ]
    },
    {
      "cell_type": "code",
      "execution_count": 84,
      "metadata": {},
      "outputs": [
        {
          "name": "stdout",
          "output_type": "stream",
          "text": [
            "Those are my favorite vowels!\n"
          ]
        }
      ],
      "source": [
        "if 'a' in my_string or 'e' in my_string:\n",
        "    print('Those are my favorite vowels!')"
      ]
    },
    {
      "cell_type": "markdown",
      "metadata": {},
      "source": [
        "Here we use `in` to check whether the variable `my_string` contains any particular letters. We will later use `in` to iterate through lists!"
      ]
    },
    {
      "cell_type": "markdown",
      "metadata": {},
      "source": [
        "My own example:"
      ]
    },
    {
      "cell_type": "markdown",
      "metadata": {},
      "source": [
        "## Loop Structures\n",
        "\n",
        "Loop structures are one of the most important parts of programming. The `for` loop and the `while` loop provide a way to repeatedly run a block of code repeatedly. A `while` loop will iterate until a certain condition has been met. If at any point after an iteration that condition is no longer satisfied, the loop terminates. A `for` loop will iterate over a sequence of values and terminate when the sequence has ended. You can instead include conditions within the `for` loop to decide whether it should terminate early or you could simply let it run its course."
      ]
    },
    {
      "cell_type": "markdown",
      "metadata": {},
      "source": [
        "My own example:"
      ]
    },
    {
      "cell_type": "code",
      "execution_count": 85,
      "metadata": {},
      "outputs": [
        {
          "name": "stdout",
          "output_type": "stream",
          "text": [
            "I am looping! 4 more to go!\n",
            "I am looping! 3 more to go!\n",
            "I am looping! 2 more to go!\n",
            "I am looping! 1 more to go!\n",
            "I am looping! 0 more to go!\n"
          ]
        }
      ],
      "source": [
        "i = 5\n",
        "while i > 0: # We can write this as 'while i:' because 0 is False!\n",
        "    i -= 1\n",
        "    print('I am looping! {0} more to go!'.format(i))"
      ]
    },
    {
      "cell_type": "markdown",
      "metadata": {},
      "source": [
        "\n",
        "With `while` loops we need to make sure that something actually changes from iteration to iteration so that that the loop actually terminates. In this case, we use the shorthand `i -= 1` (short for `i = i - 1`) so that the value of `i` gets smaller with each iteration. Eventually `i` will be reduced to `0`, rendering the condition `False` and exiting the loop."
      ]
    },
    {
      "cell_type": "markdown",
      "metadata": {},
      "source": [
        "A `for` loop iterates a set number of times, determined when you state the entry into the loop. In this case we are iterating over the list returned from `range()`. The `for` loop selects a value from the list, in order, and temporarily assigns the value of `i` to it so that operations can be performed with the value."
      ]
    },
    {
      "cell_type": "markdown",
      "metadata": {},
      "source": [
        "My own example:"
      ]
    },
    {
      "cell_type": "code",
      "execution_count": 86,
      "metadata": {},
      "outputs": [
        {
          "name": "stdout",
          "output_type": "stream",
          "text": [
            "I am looping! I have looped 1 times!\n",
            "I am looping! I have looped 2 times!\n",
            "I am looping! I have looped 3 times!\n",
            "I am looping! I have looped 4 times!\n",
            "I am looping! I have looped 5 times!\n"
          ]
        }
      ],
      "source": [
        "for i in range(5):\n",
        "    print('I am looping! I have looped {0} times!'.format(i + 1))"
      ]
    },
    {
      "cell_type": "markdown",
      "metadata": {},
      "source": [
        "Note that in this `for` loop we use the `in` keyword. Use of the `in` keyword is not limited to checking for membership as in the if-statement example. You can iterate over any collection with a `for` loop by using the `in` keyword.\n",
        "\n",
        "In this next example, we will iterate over a `set` because we want to check for containment and add to a new set."
      ]
    },
    {
      "cell_type": "markdown",
      "metadata": {},
      "source": [
        "My own example:"
      ]
    },
    {
      "cell_type": "code",
      "execution_count": 87,
      "metadata": {},
      "outputs": [
        {
          "name": "stdout",
          "output_type": "stream",
          "text": [
            "{'bats', 'dogs', 'humans', 'cows', 'cats'}\n"
          ]
        }
      ],
      "source": [
        "my_list = {'cats', 'dogs', 'lizards', 'cows', 'bats', 'sponges', 'humans'} # Lists all the animals in the world\n",
        "mammal_list = {'cats', 'dogs', 'cows', 'bats', 'humans'} # Lists all the mammals in the world\n",
        "my_new_list = set()\n",
        "for animal in my_list:\n",
        "    if animal in mammal_list:\n",
        "        # This adds any animal that is both in my_list and mammal_list to my_new_list\n",
        "        my_new_list.add(animal)\n",
        "        \n",
        "print(my_new_list)"
      ]
    },
    {
      "cell_type": "markdown",
      "metadata": {},
      "source": [
        "There are two statements that are very helpful in dealing with both `for` and `while` loops. These are `break` and `continue`. If `break` is encountered at any point while a loop is executing, the loop will immediately end."
      ]
    },
    {
      "cell_type": "markdown",
      "metadata": {},
      "source": [
        "My own example:"
      ]
    },
    {
      "cell_type": "code",
      "execution_count": 88,
      "metadata": {},
      "outputs": [
        {
          "name": "stdout",
          "output_type": "stream",
          "text": [
            "11\n",
            "12\n",
            "13\n",
            "14\n"
          ]
        }
      ],
      "source": [
        "i = 10\n",
        "while True:\n",
        "    if i == 14:\n",
        "        break\n",
        "    i += 1 # This is shorthand for i = i + 1. It increments i with each iteration.\n",
        "    print(i)"
      ]
    },
    {
      "cell_type": "code",
      "execution_count": 89,
      "metadata": {},
      "outputs": [
        {
          "name": "stdout",
          "output_type": "stream",
          "text": [
            "0\n",
            "1\n"
          ]
        }
      ],
      "source": [
        "for i in range(5):\n",
        "    if i == 2:\n",
        "        break\n",
        "    print(i)"
      ]
    },
    {
      "cell_type": "markdown",
      "metadata": {},
      "source": [
        "The `continue` statement will tell the loop to immediately end this iteration and continue onto the next iteration of the loop."
      ]
    },
    {
      "cell_type": "markdown",
      "metadata": {},
      "source": [
        "My own example:"
      ]
    },
    {
      "cell_type": "code",
      "execution_count": 90,
      "metadata": {},
      "outputs": [
        {
          "name": "stdout",
          "output_type": "stream",
          "text": [
            "1\n",
            "2\n",
            "4\n",
            "5\n"
          ]
        }
      ],
      "source": [
        "i = 0\n",
        "while i < 5:\n",
        "    i += 1\n",
        "    if i == 3:\n",
        "        continue\n",
        "    print(i)"
      ]
    },
    {
      "cell_type": "markdown",
      "metadata": {},
      "source": [
        "This loop skips printing the number $3$ because of the `continue` statement that executes when we enter the if-statement. The code never sees the command to print the number $3$ because it has already moved to the next iteration. The `break` and `continue` statements are further tools to help you control the flow of your loops and, as a result, your code."
      ]
    },
    {
      "cell_type": "markdown",
      "metadata": {},
      "source": [
        "The variable that we use to iterate over a loop will retain its value when the loop exits. Similarly, any variables defined within the context of the loop will continue to exist outside of it."
      ]
    },
    {
      "cell_type": "markdown",
      "metadata": {},
      "source": [
        "My own example:"
      ]
    },
    {
      "cell_type": "code",
      "execution_count": 91,
      "metadata": {},
      "outputs": [
        {
          "name": "stdout",
          "output_type": "stream",
          "text": [
            "I am eternal! I am 0 and I exist everywhere!\n",
            "I am eternal! I am 1 and I exist everywhere!\n",
            "I am eternal! I am 2 and I exist everywhere!\n",
            "I am eternal! I am 3 and I exist everywhere!\n",
            "I am eternal! I am 4 and I exist everywhere!\n",
            "I persist! My value is 4\n",
            "I transcend the loop!\n"
          ]
        }
      ],
      "source": [
        "for i in range(5):\n",
        "    loop_string = 'I transcend the loop!'\n",
        "    print('I am eternal! I am {0} and I exist everywhere!'.format(i))\n",
        "\n",
        "print('I persist! My value is {0}'.format(i))\n",
        "print(loop_string)"
      ]
    },
    {
      "cell_type": "markdown",
      "metadata": {},
      "source": [
        "We can also iterate over a dictionary!"
      ]
    },
    {
      "cell_type": "markdown",
      "metadata": {},
      "source": [
        "My own example:"
      ]
    },
    {
      "cell_type": "code",
      "execution_count": null,
      "metadata": {},
      "outputs": [],
      "source": [
        "my_dict = {'firstname' : 'Inigo', 'lastname' : 'Montoya', 'nemesis' : 'Rugen'}"
      ]
    },
    {
      "cell_type": "code",
      "execution_count": null,
      "metadata": {},
      "outputs": [
        {
          "name": "stdout",
          "output_type": "stream",
          "text": [
            "High Fantasy\n",
            "Sci-fi\n",
            "Weird Fiction\n",
            "Historical Fiction\n"
          ]
        }
      ],
      "source": [
        "for key in my_dict:\n",
        "    print(key)"
      ]
    },
    {
      "cell_type": "markdown",
      "metadata": {},
      "source": [
        "If we just iterate over a dictionary without doing anything else, we will only get the keys. We can either use the keys to get the values, like so:"
      ]
    },
    {
      "cell_type": "markdown",
      "metadata": {},
      "source": [
        "My own example:"
      ]
    },
    {
      "cell_type": "code",
      "execution_count": null,
      "metadata": {},
      "outputs": [
        {
          "name": "stdout",
          "output_type": "stream",
          "text": [
            "['Wheel of Time', 'Lord of the Rings']\n",
            "I can't read\n",
            "['At the Mountains of Madness', 'The House on the Borderland']\n",
            "['Pillars of the Earth']\n"
          ]
        }
      ],
      "source": [
        "for key in my_dict:\n",
        "    print(my_dict[key])"
      ]
    },
    {
      "cell_type": "markdown",
      "metadata": {},
      "source": [
        "Or we can use the `items()` function to get both key and value at the same time."
      ]
    },
    {
      "cell_type": "markdown",
      "metadata": {},
      "source": [
        "My own example:"
      ]
    },
    {
      "cell_type": "code",
      "execution_count": null,
      "metadata": {},
      "outputs": [
        {
          "name": "stdout",
          "output_type": "stream",
          "text": [
            "High Fantasy : ['Wheel of Time', 'Lord of the Rings']\n",
            "Sci-fi : I can't read\n",
            "Weird Fiction : ['At the Mountains of Madness', 'The House on the Borderland']\n",
            "Historical Fiction : ['Pillars of the Earth']\n"
          ]
        }
      ],
      "source": [
        "for key, value in my_dict.items():\n",
        "    print(key, ':', value)"
      ]
    },
    {
      "cell_type": "markdown",
      "metadata": {},
      "source": [
        "The `items()` function creates a tuple of each key-value pair and the for loop unpacks that tuple into `key, value` on each separate execution of the loop!"
      ]
    },
    {
      "cell_type": "markdown",
      "metadata": {},
      "source": [
        "My own example:"
      ]
    },
    {
      "cell_type": "markdown",
      "metadata": {},
      "source": [
        "## Functions\n",
        "\n",
        "A function is a reusable block of code that you can call repeatedly to make calculations, output data, or really do anything that you want. This is one of the key aspects of using a programming language. To add to the built-in functions in Python, you can define your own!"
      ]
    },
    {
      "cell_type": "markdown",
      "metadata": {},
      "source": [
        "My own example:"
      ]
    },
    {
      "cell_type": "code",
      "execution_count": null,
      "metadata": {},
      "outputs": [
        {
          "name": "stdout",
          "output_type": "stream",
          "text": [
            "Hello, world!\n"
          ]
        }
      ],
      "source": [
        "def hello_world():\n",
        "    \"\"\" Prints Hello, world! \"\"\"\n",
        "    print('Hello, world!')\n",
        "\n",
        "hello_world()"
      ]
    },
    {
      "cell_type": "code",
      "execution_count": null,
      "metadata": {},
      "outputs": [
        {
          "name": "stdout",
          "output_type": "stream",
          "text": [
            "Hello, world!\n",
            "Hello, world!\n",
            "Hello, world!\n",
            "Hello, world!\n",
            "Hello, world!\n"
          ]
        }
      ],
      "source": [
        "for i in range(5):\n",
        "    hello_world()"
      ]
    },
    {
      "cell_type": "markdown",
      "metadata": {},
      "source": [
        "Functions are defined with `def`, a function name, a list of parameters, and a colon. Everything indented below the colon will be included in the definition of the function.\n",
        "\n",
        "We can have our functions do anything that you can do with a normal block of code. For example, our `hello_world()` function prints a string every time it is called. If we want to keep a value that a function calculates, we can define the function so that it will `return` the value we want. This is a very important feature of functions, as any variable defined purely within a function will not exist outside of it."
      ]
    },
    {
      "cell_type": "markdown",
      "metadata": {},
      "source": [
        "My own example:"
      ]
    },
    {
      "cell_type": "code",
      "execution_count": null,
      "metadata": {},
      "outputs": [
        {
          "ename": "NameError",
          "evalue": "name 'in_function_string' is not defined",
          "output_type": "error",
          "traceback": [
            "\u001b[0;31m---------------------------------------------------------------------------\u001b[0m\n",
            "\u001b[0;31mNameError\u001b[0m                                 Traceback (most recent call last)\n",
            "\u001b[1;32m/home/stiven/Documentos/Universidad/Algortimos/notebook.ipynb Cell 282'\u001b[0m in \u001b[0;36m<cell line: 5>\u001b[0;34m()\u001b[0m\n",
            "\u001b[1;32m      <a href='vscode-notebook-cell:/home/stiven/Documentos/Universidad/Algortimos/notebook.ipynb#ch0000196?line=1'>2</a>\u001b[0m     in_function_string \u001b[39m=\u001b[39m \u001b[39m\"\u001b[39m\u001b[39mI\u001b[39m\u001b[39m'\u001b[39m\u001b[39mm stuck in here!\u001b[39m\u001b[39m\"\u001b[39m\n",
            "\u001b[1;32m      <a href='vscode-notebook-cell:/home/stiven/Documentos/Universidad/Algortimos/notebook.ipynb#ch0000196?line=3'>4</a>\u001b[0m see_the_scope()\n",
            "\u001b[0;32m----> <a href='vscode-notebook-cell:/home/stiven/Documentos/Universidad/Algortimos/notebook.ipynb#ch0000196?line=4'>5</a>\u001b[0m \u001b[39mprint\u001b[39m(in_function_string)\n",
            "\n",
            "\u001b[0;31mNameError\u001b[0m: name 'in_function_string' is not defined"
          ]
        }
      ],
      "source": [
        "def see_the_scope():\n",
        "    in_function_string = \"I'm stuck in here!\"\n",
        "\n",
        "see_the_scope()\n",
        "print(in_function_string)"
      ]
    },
    {
      "cell_type": "markdown",
      "metadata": {},
      "source": [
        " The **scope** of a variable is the part of a block of code where that variable is tied to a particular value. Functions in Python have an enclosed scope, making it so that variables defined within them can only be accessed directly within them. If we pass those values to a return statement we can get them out of the function. This makes it so that the function call returns values so that you can store them in variables that have a greater scope.\n",
        " \n",
        "In this case specifically, including a return statement allows us to keep the string value that we define in the function."
      ]
    },
    {
      "cell_type": "markdown",
      "metadata": {},
      "source": [
        "My own example:"
      ]
    },
    {
      "cell_type": "code",
      "execution_count": null,
      "metadata": {},
      "outputs": [
        {
          "name": "stdout",
          "output_type": "stream",
          "text": [
            "Anything you can do I can do better!\n"
          ]
        }
      ],
      "source": [
        "def free_the_scope():\n",
        "    in_function_string = \"Anything you can do I can do better!\"\n",
        "    return in_function_string\n",
        "my_string = free_the_scope()\n",
        "print(my_string)"
      ]
    },
    {
      "cell_type": "markdown",
      "metadata": {},
      "source": [
        "Just as we can get values out of a function, we can also put values into a function. We do this by defining our function with parameters."
      ]
    },
    {
      "cell_type": "markdown",
      "metadata": {},
      "source": [
        "My own example:"
      ]
    },
    {
      "cell_type": "code",
      "execution_count": null,
      "metadata": {},
      "outputs": [
        {
          "name": "stdout",
          "output_type": "stream",
          "text": [
            "4\n",
            "20\n"
          ]
        }
      ],
      "source": [
        "def multiply_by_five(x):\n",
        "    \"\"\" Multiplies an input number by 5 \"\"\"\n",
        "    return x * 5\n",
        "\n",
        "n = 4\n",
        "print(n)\n",
        "print(multiply_by_five(n))"
      ]
    },
    {
      "cell_type": "markdown",
      "metadata": {},
      "source": [
        "In this example we only had one parameter for our function, `x`. We can easily add more parameters, separating everything with a comma."
      ]
    },
    {
      "cell_type": "markdown",
      "metadata": {},
      "source": [
        "My own example:"
      ]
    },
    {
      "cell_type": "code",
      "execution_count": null,
      "metadata": {},
      "outputs": [],
      "source": [
        "def calculate_area(length, width):\n",
        "    \"\"\" Calculates the area of a rectangle \"\"\"\n",
        "    return length * width"
      ]
    },
    {
      "cell_type": "code",
      "execution_count": null,
      "metadata": {},
      "outputs": [
        {
          "name": "stdout",
          "output_type": "stream",
          "text": [
            "Area:  50\n",
            "Length:  5\n",
            "Width:  10\n"
          ]
        }
      ],
      "source": [
        "l = 5\n",
        "w = 10\n",
        "print('Area: ', calculate_area(l, w))\n",
        "print('Length: ', l)\n",
        "print('Width: ', w)"
      ]
    },
    {
      "cell_type": "code",
      "execution_count": null,
      "metadata": {},
      "outputs": [],
      "source": [
        "def calculate_volume(length, width, depth):\n",
        "    \"\"\" Calculates the volume of a rectangular prism \"\"\"\n",
        "    return length * width * depth"
      ]
    },
    {
      "cell_type": "markdown",
      "metadata": {},
      "source": [
        "If we want to, we can define a function so that it takes an arbitrary number of parameters. We tell Python that we want this by using an asterisk (`*`)."
      ]
    },
    {
      "cell_type": "markdown",
      "metadata": {},
      "source": [
        "My own example:"
      ]
    },
    {
      "cell_type": "code",
      "execution_count": null,
      "metadata": {},
      "outputs": [],
      "source": [
        "def sum_values(*args):\n",
        "    sum_val = 0\n",
        "    for i in args:\n",
        "        sum_val += i\n",
        "    return sum_val"
      ]
    },
    {
      "cell_type": "code",
      "execution_count": null,
      "metadata": {},
      "outputs": [
        {
          "name": "stdout",
          "output_type": "stream",
          "text": [
            "6\n",
            "150\n",
            "343\n"
          ]
        }
      ],
      "source": [
        "print(sum_values(1, 2, 3))\n",
        "print(sum_values(10, 20, 30, 40, 50))\n",
        "print(sum_values(4, 2, 5, 1, 10, 249, 25, 24, 13, 6, 4))"
      ]
    },
    {
      "cell_type": "markdown",
      "metadata": {},
      "source": [
        "The time to use `*args` as a parameter for your function is when you do not know how many values may be passed to it, as in the case of our sum function. The asterisk in this case is the syntax that tells Python that you are going to pass an arbitrary number of parameters into your function. These parameters are stored in the form of a tuple."
      ]
    },
    {
      "cell_type": "markdown",
      "metadata": {},
      "source": [
        "My own example:"
      ]
    },
    {
      "cell_type": "code",
      "execution_count": null,
      "metadata": {},
      "outputs": [
        {
          "name": "stdout",
          "output_type": "stream",
          "text": [
            "<class 'tuple'>\n"
          ]
        }
      ],
      "source": [
        "def test_args(*args):\n",
        "    print(type(args))\n",
        "\n",
        "test_args(1, 2, 3, 4, 5, 6)"
      ]
    },
    {
      "cell_type": "markdown",
      "metadata": {},
      "source": [
        "We can put as many elements into the `args` tuple as we want to when we call the function. However, because `args` is a tuple, we cannot modify it after it has been created.\n",
        "\n",
        "The `args` name of the variable is purely by convention. You could just as easily name your parameter `*vars` or `*things`. You can treat the `args` tuple like you would any other tuple, easily accessing `arg`'s values and iterating over it, as in the above `sum_values(*args)` function."
      ]
    },
    {
      "cell_type": "markdown",
      "metadata": {},
      "source": [
        "Our functions can return any data type. This makes it easy for us to create functions that check for conditions that we might want to monitor.\n",
        "\n",
        "Here we define a function that returns a boolean value. We can easily use this in conjunction with if-statements and  other situations that require a boolean."
      ]
    },
    {
      "cell_type": "markdown",
      "metadata": {},
      "source": [
        "My own example:"
      ]
    },
    {
      "cell_type": "code",
      "execution_count": null,
      "metadata": {},
      "outputs": [],
      "source": [
        "def has_a_vowel(word):\n",
        "    \"\"\" \n",
        "    Checks to see whether a word contains a vowel \n",
        "    If it doesn't contain a conventional vowel, it\n",
        "    will check for the presence of 'y' or 'w'. Does\n",
        "    not check to see whether those are in the word\n",
        "    in a vowel context.\n",
        "    \"\"\"\n",
        "    vowel_list = ['a', 'e', 'i', 'o', 'u']\n",
        "    \n",
        "    for vowel in vowel_list:\n",
        "        if vowel in word:\n",
        "            return True\n",
        "    # If there is a vowel in the word, the function returns, preventing anything after this loop from running\n",
        "    return False"
      ]
    },
    {
      "cell_type": "code",
      "execution_count": null,
      "metadata": {},
      "outputs": [
        {
          "name": "stdout",
          "output_type": "stream",
          "text": [
            "How surprising, an english word contains a vowel.\n"
          ]
        }
      ],
      "source": [
        "my_word = 'catnapping'\n",
        "if has_a_vowel(my_word):\n",
        "    print('How surprising, an english word contains a vowel.')\n",
        "else:\n",
        "    print('This is actually surprising.')"
      ]
    },
    {
      "cell_type": "code",
      "execution_count": null,
      "metadata": {},
      "outputs": [],
      "source": [
        "def point_maker(x, y):\n",
        "    \"\"\" Groups x and y values into a point, technically a tuple \"\"\"\n",
        "    return x, y"
      ]
    },
    {
      "cell_type": "markdown",
      "metadata": {},
      "source": [
        "This above function returns an ordered pair of the input parameters, stored as a tuple."
      ]
    },
    {
      "cell_type": "markdown",
      "metadata": {},
      "source": [
        "My own example:"
      ]
    },
    {
      "cell_type": "code",
      "execution_count": null,
      "metadata": {
        "scrolled": true
      },
      "outputs": [
        {
          "name": "stdout",
          "output_type": "stream",
          "text": [
            "The slope between a and b is -1.4\n"
          ]
        }
      ],
      "source": [
        "a = point_maker(0, 10)\n",
        "b = point_maker(5, 3)\n",
        "def calculate_slope(point_a, point_b):\n",
        "    \"\"\" Calculates the linear slope between two points \"\"\"\n",
        "    return (point_b[1] - point_a[1])/(point_b[0] - point_a[0])\n",
        "print(\"The slope between a and b is {0}\".format(calculate_slope(a, b)))"
      ]
    },
    {
      "cell_type": "markdown",
      "metadata": {},
      "source": [
        "And that one calculates the slope between two points!"
      ]
    },
    {
      "cell_type": "markdown",
      "metadata": {},
      "source": [
        "My own example:"
      ]
    },
    {
      "cell_type": "code",
      "execution_count": null,
      "metadata": {},
      "outputs": [
        {
          "name": "stdout",
          "output_type": "stream",
          "text": [
            "The slope-intercept form of the line between a and b, using point a, is: y - 10 = -1.4(x - 0)\n"
          ]
        }
      ],
      "source": [
        "print(\"The slope-intercept form of the line between a and b, using point a, is: y - {0} = {2}(x - {1})\".format(a[1], a[0], calculate_slope(a, b)))"
      ]
    },
    {
      "cell_type": "markdown",
      "metadata": {},
      "source": [
        "With the proper syntax, you can define functions to do whatever calculations you want. This makes them an indispensible part of programming in any language."
      ]
    },
    {
      "cell_type": "markdown",
      "metadata": {},
      "source": [
        "## Next Steps\n",
        "\n",
        "This was a lot of material and there is still even more to cover! Make sure you play around with the cells in each notebook to accustom yourself to the syntax featured here and to figure out any limitations. If you want to delve even deeper into the material, the [documentation for Python](https://docs.python.org/2/) is all available online. We are in the process of developing a second part to this Python tutorial, designed to provide you with even more programming knowledge, so keep an eye on the [Quantopian Lectures Page](quantopian.com/lectures) and the [forums](quantopian.com/posts) for any new lectures."
      ]
    },
    {
      "cell_type": "markdown",
      "metadata": {
        "id": "eQzBbvyKQymx"
      },
      "source": [
        "<div align=\"center\">\n",
        "<img style=\"display: block; margin: auto;\" alt=\"photo\" src=\"https://cdn.quantconnect.com/web/i/icon.png\">\n",
        "\n",
        "Quantconnect\n",
        "\n",
        "Introduction to Financial Python\n",
        "</div>\n",
        "\n",
        "# 01 Data Types and Data Structures\n",
        "\n",
        "# Introduction\n",
        "\n",
        "This tutorial provides a basic introduction to the Python programming language. If you are new to Python, you should run the code snippets while reading this tutorial. If you are an advanced Python user, please feel free to skip this chapter.\n",
        "\n",
        "# Basic Variable Types\n",
        "The basic types of variables in Python are: strings, integers, floating point numbers and booleans.\n",
        "\n",
        "Strings in python are identified as a contiguous set of characters represented in either single quotes (' ') or double quotes (\" \").\n"
      ]
    },
    {
      "cell_type": "markdown",
      "metadata": {},
      "source": [
        "My own example:"
      ]
    },
    {
      "cell_type": "code",
      "execution_count": 4,
      "metadata": {
        "colab": {
          "base_uri": "https://localhost:8080/"
        },
        "id": "N5t-UrcfOqid",
        "outputId": "6588ae94-97f4-4566-bec8-16064c7ab680"
      },
      "outputs": [
        {
          "name": "stdout",
          "output_type": "stream",
          "text": [
            "Welcome to algorithm's class\n"
          ]
        }
      ],
      "source": [
        "my_string1 = 'Welcome to'\n",
        "my_string2 = \"algorithm's class\"\n",
        "print(my_string1 + ' ' + my_string2)"
      ]
    },
    {
      "cell_type": "markdown",
      "metadata": {
        "id": "bXHnxZyHSd1M"
      },
      "source": [
        "An integer is a round number with no values after the decimal point."
      ]
    },
    {
      "cell_type": "markdown",
      "metadata": {},
      "source": [
        "My own example:"
      ]
    },
    {
      "cell_type": "code",
      "execution_count": 5,
      "metadata": {
        "colab": {
          "base_uri": "https://localhost:8080/"
        },
        "id": "pNjuz3toOqif",
        "outputId": "d543c41e-0f15-487d-93f2-c0f4beab09bb"
      },
      "outputs": [
        {
          "name": "stdout",
          "output_type": "stream",
          "text": [
            "3\n",
            "<class 'int'>\n"
          ]
        }
      ],
      "source": [
        "my_int = 3\n",
        "print(my_int)\n",
        "print(type(my_int))"
      ]
    },
    {
      "cell_type": "markdown",
      "metadata": {
        "id": "_1ZanWrYSnzF"
      },
      "source": [
        "The built-in function int() can convert a string into an integer."
      ]
    },
    {
      "cell_type": "markdown",
      "metadata": {},
      "source": [
        "My own example:"
      ]
    },
    {
      "cell_type": "code",
      "execution_count": 6,
      "metadata": {
        "colab": {
          "base_uri": "https://localhost:8080/"
        },
        "id": "zPwGb20FOqif",
        "outputId": "578dce75-668e-4668-c593-f72214175888"
      },
      "outputs": [
        {
          "name": "stdout",
          "output_type": "stream",
          "text": [
            "<class 'str'>\n",
            "<class 'int'>\n"
          ]
        }
      ],
      "source": [
        "my_string = \"87\"\n",
        "print(type(my_string))\n",
        "my_int = int(my_string)\n",
        "print(type(my_int))"
      ]
    },
    {
      "cell_type": "markdown",
      "metadata": {
        "id": "WqMDPDTHSrE9"
      },
      "source": [
        "A floating point number, or a float, is a real number in mathematics. In Python we need to include a value after a decimal point to define it as a float"
      ]
    },
    {
      "cell_type": "markdown",
      "metadata": {},
      "source": [
        "My own example:"
      ]
    },
    {
      "cell_type": "code",
      "execution_count": 7,
      "metadata": {
        "colab": {
          "base_uri": "https://localhost:8080/"
        },
        "id": "otCzKKW9Oqig",
        "outputId": "a86233ed-3b60-44dd-dbbb-a6ba7b212918"
      },
      "outputs": [
        {
          "name": "stdout",
          "output_type": "stream",
          "text": [
            "<class 'float'>\n",
            "<class 'int'>\n"
          ]
        }
      ],
      "source": [
        "my_float = 3.0\n",
        "\n",
        "print(type(my_float))\n",
        "my_int = 1\n",
        "print(type(my_int))"
      ]
    },
    {
      "cell_type": "markdown",
      "metadata": {
        "id": "2iuyv8Q7StTJ"
      },
      "source": [
        "As you can see above, if we don't include a decimal value, the variable would be defined as an integer. The built-in function float() can convert a string or an integer into a float."
      ]
    },
    {
      "cell_type": "markdown",
      "metadata": {},
      "source": [
        "My own example:"
      ]
    },
    {
      "cell_type": "code",
      "execution_count": 8,
      "metadata": {
        "colab": {
          "base_uri": "https://localhost:8080/"
        },
        "id": "wwLw5VthOqig",
        "outputId": "d9da1137-5370-4cdb-bced-c27acb8ccf68"
      },
      "outputs": [
        {
          "name": "stdout",
          "output_type": "stream",
          "text": [
            "True\n",
            "<class 'bool'>\n"
          ]
        }
      ],
      "source": [
        "my_bool = True \n",
        "print(my_bool)\n",
        "print(type(my_bool))"
      ]
    },
    {
      "cell_type": "markdown",
      "metadata": {
        "id": "bnGMwH21Szr_"
      },
      "source": [
        "A boolean, or bool, is a binary variable. Its value can only be True or False. It is useful when we do some logic operations, which would be covered in our next chapter."
      ]
    },
    {
      "cell_type": "markdown",
      "metadata": {},
      "source": [
        "My own example:"
      ]
    },
    {
      "cell_type": "code",
      "execution_count": 9,
      "metadata": {
        "colab": {
          "base_uri": "https://localhost:8080/"
        },
        "id": "DMa6pDl5Oqig",
        "outputId": "c95fb06b-10d2-4860-ee5c-70c3e768ae75"
      },
      "outputs": [
        {
          "name": "stdout",
          "output_type": "stream",
          "text": [
            "Addition  10\n",
            "Subtraction  -6\n",
            "Multiplication  81\n",
            "Division  2.0\n",
            "exponent 256\n"
          ]
        }
      ],
      "source": [
        "print(\"Addition \", 6+4)\n",
        "print(\"Subtraction \", 3-9)\n",
        "print(\"Multiplication \", 9*9)\n",
        "print(\"Division \", 14/7)\n",
        "print('exponent', 4**4)"
      ]
    },
    {
      "cell_type": "markdown",
      "metadata": {
        "id": "AN5Oa3DoS_Nf"
      },
      "source": [
        "# Data Collections\n",
        "\n",
        "##  List\n",
        "A list is an ordered collection of values. A list is mutable, which means you can change a list's value without changing the list itself. Creating a list is simply putting different comma-separated values between square brackets."
      ]
    },
    {
      "cell_type": "markdown",
      "metadata": {},
      "source": [
        "My own example:"
      ]
    },
    {
      "cell_type": "code",
      "execution_count": 10,
      "metadata": {
        "colab": {
          "base_uri": "https://localhost:8080/"
        },
        "id": "-tQdNqCvOqig",
        "outputId": "946aa60d-c7d5-4e4c-860a-1b2fa00c3ceb"
      },
      "outputs": [
        {
          "name": "stdout",
          "output_type": "stream",
          "text": [
            "[\"Algorithm's\", 'class', 4, 5, 3]\n"
          ]
        }
      ],
      "source": [
        "my_list = ['Algorithm\\'s', 'class', 4,5,3]\n",
        "print(my_list)"
      ]
    },
    {
      "cell_type": "markdown",
      "metadata": {
        "id": "1O0TsgZCTHrM"
      },
      "source": [
        "The values in a list are called \"elements\". We can access list elements by indexing. Python index starts from 0. So if you have a list of length n, the index of the first element will be 0, and that of the last element will be n − 1. By the way, the length of a list can be obtained by the built-in function len()."
      ]
    },
    {
      "cell_type": "markdown",
      "metadata": {},
      "source": [
        "My own example:"
      ]
    },
    {
      "cell_type": "code",
      "execution_count": 11,
      "metadata": {
        "colab": {
          "base_uri": "https://localhost:8080/"
        },
        "id": "QhuVhRR5Oqih",
        "outputId": "e8fa26aa-353f-4697-9701-6e8111a46ce4"
      },
      "outputs": [
        {
          "name": "stdout",
          "output_type": "stream",
          "text": [
            "5\n",
            "Algorithm's\n",
            "3\n"
          ]
        }
      ],
      "source": [
        "my_list = ['Algorithm\\'s', 'Class', 4,5,3]\n",
        "print(len(my_list))\n",
        "print(my_list[0])\n",
        "print(my_list[len(my_list) -1])"
      ]
    },
    {
      "cell_type": "markdown",
      "metadata": {
        "id": "jgSZy1VGTKSc"
      },
      "source": [
        "You can also change the elements in the list by accessing an index and assigning a new value."
      ]
    },
    {
      "cell_type": "markdown",
      "metadata": {},
      "source": [
        "My own example:"
      ]
    },
    {
      "cell_type": "code",
      "execution_count": 12,
      "metadata": {
        "colab": {
          "base_uri": "https://localhost:8080/"
        },
        "id": "NQBNLjAvOqih",
        "outputId": "476b8e55-d299-41aa-9215-9c0098bbf43c"
      },
      "outputs": [
        {
          "name": "stdout",
          "output_type": "stream",
          "text": [
            "[\"Algorithm's\", 'Class', 'rocks', 3, 7]\n"
          ]
        }
      ],
      "source": [
        "my_list = ['Algorithm\\'s','Class',1,3,7]\n",
        "my_list[2] = 'rocks'\n",
        "print(my_list)"
      ]
    },
    {
      "cell_type": "markdown",
      "metadata": {
        "id": "EQPs5ojoTVrk"
      },
      "source": [
        "A list can also be sliced with a colon:"
      ]
    },
    {
      "cell_type": "markdown",
      "metadata": {},
      "source": [
        "My own example:"
      ]
    },
    {
      "cell_type": "code",
      "execution_count": 13,
      "metadata": {
        "colab": {
          "base_uri": "https://localhost:8080/"
        },
        "id": "keNX2RbtOqii",
        "outputId": "01219718-8be6-4b02-b241-f1747bea9ab5"
      },
      "outputs": [
        {
          "name": "stdout",
          "output_type": "stream",
          "text": [
            "['Class', 1]\n"
          ]
        }
      ],
      "source": [
        "my_list = ['Algorithm\\'s','Class',1,3,7]\n",
        "print(my_list[1:3])"
      ]
    },
    {
      "cell_type": "markdown",
      "metadata": {
        "id": "AZqQd0K8TYul"
      },
      "source": [
        "The slice starts from the first element indicated, but excludes the last element indicated. Here we select all elements starting from index 1, which refers to the second element:"
      ]
    },
    {
      "cell_type": "markdown",
      "metadata": {},
      "source": [
        "My own example:"
      ]
    },
    {
      "cell_type": "code",
      "execution_count": 14,
      "metadata": {
        "colab": {
          "base_uri": "https://localhost:8080/"
        },
        "id": "0-76sLfkOqii",
        "outputId": "e0507043-0cd4-491b-bb9f-26100bf5ffd1"
      },
      "outputs": [
        {
          "name": "stdout",
          "output_type": "stream",
          "text": [
            "['Class', 1, 3, 7]\n"
          ]
        }
      ],
      "source": [
        "print(my_list[1:])"
      ]
    },
    {
      "cell_type": "markdown",
      "metadata": {
        "id": "XBqvhUdZVKWs"
      },
      "source": [
        "And all elements up to but excluding index 3:"
      ]
    },
    {
      "cell_type": "markdown",
      "metadata": {},
      "source": [
        "My own example:"
      ]
    },
    {
      "cell_type": "code",
      "execution_count": 15,
      "metadata": {
        "colab": {
          "base_uri": "https://localhost:8080/"
        },
        "id": "5NWr75L9Oqii",
        "outputId": "4b51d4c2-40d5-495c-cc54-cefab7fbea0e"
      },
      "outputs": [
        {
          "name": "stdout",
          "output_type": "stream",
          "text": [
            "[\"Algorithm's\", 'Class', 1]\n"
          ]
        }
      ],
      "source": [
        "print(my_list[:3])"
      ]
    },
    {
      "cell_type": "markdown",
      "metadata": {
        "id": "eAFmM6bkTZz9"
      },
      "source": [
        "If you wish to add or remove an element from a list, you can use the append() and remove() methods for lists as follows:"
      ]
    },
    {
      "cell_type": "markdown",
      "metadata": {},
      "source": [
        "My own example:"
      ]
    },
    {
      "cell_type": "code",
      "execution_count": 16,
      "metadata": {
        "colab": {
          "base_uri": "https://localhost:8080/"
        },
        "id": "pHmgTPElTo19",
        "outputId": "ec107852-3c63-4766-a60e-5ac8afc66008"
      },
      "outputs": [
        {
          "name": "stdout",
          "output_type": "stream",
          "text": [
            "[\"Algorithm's\", 'Class', 'Hello']\n"
          ]
        }
      ],
      "source": [
        "my_list = ['Algorithm\\'s', 'Class']\n",
        "my_list.append('Hello')\n",
        "print(my_list)\n",
        "\n"
      ]
    },
    {
      "cell_type": "markdown",
      "metadata": {},
      "source": [
        "My own example:"
      ]
    },
    {
      "cell_type": "code",
      "execution_count": 17,
      "metadata": {
        "colab": {
          "base_uri": "https://localhost:8080/"
        },
        "id": "4C4U1Yf0Tr8l",
        "outputId": "e53d3f80-9f08-4bc7-8659-655418704265"
      },
      "outputs": [
        {
          "name": "stdout",
          "output_type": "stream",
          "text": [
            "[\"Algorithm's\", 'Class']\n"
          ]
        }
      ],
      "source": [
        "my_list.remove('Hello')\n",
        "print(my_list)"
      ]
    },
    {
      "cell_type": "markdown",
      "metadata": {
        "id": "11W1gG-cVmOU"
      },
      "source": [
        "When there are repeated instances of \"Hello\", the first one is removed.\n",
        "\n",
        "##  Tuple\n",
        "A tuple is a data structure type similar to a list. The difference is that a tuple is immutable, which means you can't change the elements in it once it's defined. We create a tuple by putting comma-separated values between parentheses."
      ]
    },
    {
      "cell_type": "markdown",
      "metadata": {},
      "source": [
        "My own example:"
      ]
    },
    {
      "cell_type": "code",
      "execution_count": 18,
      "metadata": {
        "collapsed": true,
        "id": "vPmn6BAaOqii"
      },
      "outputs": [],
      "source": [
        "my_tuple = ('Welcome','to','Algorithm\\'s', 'Class')"
      ]
    },
    {
      "cell_type": "markdown",
      "metadata": {
        "id": "zMIme4dDV0Wz"
      },
      "source": [
        "Just like a list, a tuple can be sliced by using index."
      ]
    },
    {
      "cell_type": "markdown",
      "metadata": {},
      "source": [
        "My own example:"
      ]
    },
    {
      "cell_type": "code",
      "execution_count": 19,
      "metadata": {
        "colab": {
          "base_uri": "https://localhost:8080/"
        },
        "id": "8P-ddO0sOqii",
        "outputId": "59410ade-8f39-420d-e0cc-cae6c015e1cf"
      },
      "outputs": [
        {
          "name": "stdout",
          "output_type": "stream",
          "text": [
            "('to', \"Algorithm's class\")\n"
          ]
        }
      ],
      "source": [
        "my_tuple = ('Welcome','to','Algorithm\\'s class')\n",
        "print(my_tuple[1:])"
      ]
    },
    {
      "cell_type": "markdown",
      "metadata": {
        "id": "l2JqbusAV1Y2"
      },
      "source": [
        "##  Set\n",
        "A set is an **unordered**  collection with **no duplicate** elements. The built-in function **set()** can be used to create sets."
      ]
    },
    {
      "cell_type": "markdown",
      "metadata": {},
      "source": [
        "My own example:"
      ]
    },
    {
      "cell_type": "code",
      "execution_count": 20,
      "metadata": {
        "colab": {
          "base_uri": "https://localhost:8080/"
        },
        "id": "Plau8r-UOqij",
        "outputId": "38956220-c75c-4046-ebfa-810880ea19f4"
      },
      "outputs": [
        {
          "name": "stdout",
          "output_type": "stream",
          "text": [
            "{'Apple', 'Feik', 'Google', 'IBM', 'Facebook'}\n"
          ]
        }
      ],
      "source": [
        "stock_list = ['Apple','Google','IBM','Apple','IBM','Facebook','Feik','Google']\n",
        "stock_set = set(stock_list)\n",
        "print(stock_set)"
      ]
    },
    {
      "cell_type": "markdown",
      "metadata": {
        "id": "Jyb4GGIoWIHk"
      },
      "source": [
        "Set is an easy way to remove duplicate elements from a list.\n",
        "\n",
        "##  Dictionary\n",
        "A dictionary is one of the most important data structures in Python. Unlike sequences which are indexed by integers, dictionaries are indexed by keys which can be either strings or floats.\n",
        "\n",
        "A dictionary is an **unordered** collection of key : value pairs, with the requirement that the keys are unique. We create a dictionary by placing a comma-separated list of key : value pairs within the braces."
      ]
    },
    {
      "cell_type": "markdown",
      "metadata": {},
      "source": [
        "My own example:"
      ]
    },
    {
      "cell_type": "code",
      "execution_count": 21,
      "metadata": {
        "collapsed": true,
        "id": "36mTe5BaOqij"
      },
      "outputs": [],
      "source": [
        "my_dic = {'AAPL':'apple', 'FB':'facebook', 'GOOG':'google'}"
      ]
    },
    {
      "cell_type": "markdown",
      "metadata": {
        "id": "gSicoNqDWP4c"
      },
      "source": [
        "After defining a dictionary, we can access any value by indicating its key in brackets."
      ]
    },
    {
      "cell_type": "markdown",
      "metadata": {},
      "source": [
        "My own example:"
      ]
    },
    {
      "cell_type": "code",
      "execution_count": 22,
      "metadata": {},
      "outputs": [
        {
          "name": "stdout",
          "output_type": "stream",
          "text": [
            "google\n"
          ]
        }
      ],
      "source": [
        "\n",
        "print(my_dic['GOOG'])"
      ]
    },
    {
      "cell_type": "markdown",
      "metadata": {
        "id": "M9sDsTEMWQvc"
      },
      "source": [
        "We can also change the value associated with a specified key:"
      ]
    },
    {
      "cell_type": "markdown",
      "metadata": {},
      "source": [
        "My own example:"
      ]
    },
    {
      "cell_type": "code",
      "execution_count": 23,
      "metadata": {},
      "outputs": [
        {
          "name": "stdout",
          "output_type": "stream",
          "text": [
            "Algorithm's class\n"
          ]
        }
      ],
      "source": [
        "\n",
        "my_dic['GOOG'] = 'Algorithm\\'s class'\n",
        "print(my_dic['GOOG'])"
      ]
    },
    {
      "cell_type": "markdown",
      "metadata": {
        "id": "VPuDinlwWS9D"
      },
      "source": [
        "The built-in method of the dictionary object dict.keys() returns a list of all the keys used in the dictionary."
      ]
    },
    {
      "cell_type": "code",
      "execution_count": 24,
      "metadata": {},
      "outputs": [
        {
          "name": "stdout",
          "output_type": "stream",
          "text": [
            "dict_keys(['AAPL', 'FB', 'GOOG'])\n"
          ]
        }
      ],
      "source": [
        "\n",
        "print(my_dic.keys())"
      ]
    },
    {
      "cell_type": "markdown",
      "metadata": {
        "id": "kSGzgNb2Womz"
      },
      "source": [
        "# Common String Operations\n",
        "A string is an immutable sequence of characters. It can be sliced by index just like a tuple:"
      ]
    },
    {
      "cell_type": "markdown",
      "metadata": {},
      "source": [
        "My own example:"
      ]
    },
    {
      "cell_type": "code",
      "execution_count": 25,
      "metadata": {
        "colab": {
          "base_uri": "https://localhost:8080/"
        },
        "id": "xPojDnm9Oqik",
        "outputId": "6566c80c-e15d-4a63-e34a-6e3c9393d71e"
      },
      "outputs": [
        {
          "name": "stdout",
          "output_type": "stream",
          "text": [
            "to algorithm's class\n"
          ]
        }
      ],
      "source": [
        "my_str = 'Welcome to algorithm\\'s class'\n",
        "print(my_str[8:])"
      ]
    },
    {
      "cell_type": "markdown",
      "metadata": {
        "id": "wuJYy7tvWtM7"
      },
      "source": [
        "There are many methods associated with strings. We can use string.count() to count the occurrences of a character in a string, use string.find() to return the index of a specific character, and use string.replace() to replace characters"
      ]
    },
    {
      "cell_type": "markdown",
      "metadata": {},
      "source": [
        "My own example:"
      ]
    },
    {
      "cell_type": "code",
      "execution_count": 26,
      "metadata": {
        "colab": {
          "base_uri": "https://localhost:8080/"
        },
        "id": "u9deZq1SOqik",
        "outputId": "76dd7ace-0e6c-4768-f67d-4eaeac8d5bd8"
      },
      "outputs": [
        {
          "name": "stdout",
          "output_type": "stream",
          "text": [
            "6\n",
            "14\n",
            "Todus lus ues de estu orución se vuelven ues\n"
          ]
        }
      ],
      "source": [
        "print('Estoy contando el número de oes en esta oración'.count('o'))\n",
        "print('El índice de la primera a en esta oración'.find('a'))\n",
        "print('Todas las aes de esta oración se vuelven ues'.replace('a','u'))"
      ]
    },
    {
      "cell_type": "markdown",
      "metadata": {
        "id": "sJPn3rkvWwHN"
      },
      "source": [
        "The most commonly used method for strings is string.split(). This method will split the string by the indicated character and return a list:"
      ]
    },
    {
      "cell_type": "markdown",
      "metadata": {},
      "source": [
        "My own example:"
      ]
    },
    {
      "cell_type": "code",
      "execution_count": 27,
      "metadata": {
        "colab": {
          "base_uri": "https://localhost:8080/"
        },
        "id": "hbIaFLFHOqik",
        "outputId": "e135eb46-22eb-4a87-8042-eed2ad79c828"
      },
      "outputs": [
        {
          "name": "stdout",
          "output_type": "stream",
          "text": [
            "01-04-2022 16:14:43\n",
            "16\n"
          ]
        }
      ],
      "source": [
        "Time = '01-04-2022 16:14:43'\n",
        "splited_list = Time.split(' ')\n",
        "date = splited_list[0]\n",
        "time = splited_list[1]\n",
        "print(date, time)\n",
        "hour = time.split(':')[0]\n",
        "print(hour)"
      ]
    },
    {
      "cell_type": "markdown",
      "metadata": {
        "id": "9cJQGk96WyVc"
      },
      "source": [
        "We can replace parts of a string by our variable. This is called string formatting."
      ]
    },
    {
      "cell_type": "markdown",
      "metadata": {},
      "source": [
        "My own example:"
      ]
    },
    {
      "cell_type": "code",
      "execution_count": 28,
      "metadata": {
        "colab": {
          "base_uri": "https://localhost:8080/"
        },
        "id": "-E_rIvv6Oqik",
        "outputId": "bec9b731-c4d5-4905-9154-ef979efd6dd0"
      },
      "outputs": [
        {
          "name": "stdout",
          "output_type": "stream",
          "text": [
            "Hour: 16, Minute:15\n"
          ]
        }
      ],
      "source": [
        "my_time = 'Hour: {}, Minute:{}'.format('16','15')\n",
        "print(my_time)"
      ]
    },
    {
      "cell_type": "markdown",
      "metadata": {
        "id": "1_NbVldpWzAs"
      },
      "source": [
        "Another way to format a string is to use the % symbol."
      ]
    },
    {
      "cell_type": "markdown",
      "metadata": {},
      "source": [
        "My own example:"
      ]
    },
    {
      "cell_type": "code",
      "execution_count": 29,
      "metadata": {
        "colab": {
          "base_uri": "https://localhost:8080/"
        },
        "id": "4rZ4rkD2Oqik",
        "outputId": "cd5d93b8-56d7-4406-9c43-d84144bded85"
      },
      "outputs": [
        {
          "name": "stdout",
          "output_type": "stream",
          "text": [
            "the euler number is 2.710000\n",
            "Welcome to Algorithm's Class\n"
          ]
        }
      ],
      "source": [
        "print('the euler number is %f'%2.71)\n",
        "print('%s to %s'%('Welcome','Algorithm\\'s Class'))"
      ]
    },
    {
      "cell_type": "markdown",
      "metadata": {
        "id": "v_5cocrDW3MN"
      },
      "source": [
        "# Summary\n",
        "\n",
        "Weave seen the basic data types and data structures in Python. It's important to keep practicing to become familiar with these data structures. In the next tutorial, we will cover for and while loops and logical operations in Python."
      ]
    },
    {
      "cell_type": "markdown",
      "metadata": {
        "id": "QL6dNxwCXNEt"
      },
      "source": [
        "<div align=\"center\">\n",
        "<img style=\"display: block; margin: auto;\" alt=\"photo\" src=\"https://cdn.quantconnect.com/web/i/icon.png\">\n",
        "\n",
        "Quantconnect\n",
        "\n",
        "Introduction to Financial Python\n",
        "</div>\n",
        "\n",
        "# 02 Logical Operations and Loops\n",
        "\n",
        "# Introduction\n",
        "We discussed the basic data types and data structures in Python in the last tutorial. This chapter covers logical operations and loops in Python, which are very common in programming.\n",
        "\n",
        "# Logical Operations\n",
        "Like most programming languages, Python has comparison operators:"
      ]
    },
    {
      "cell_type": "markdown",
      "metadata": {},
      "source": [
        "My own example:"
      ]
    },
    {
      "cell_type": "code",
      "execution_count": 30,
      "metadata": {
        "colab": {
          "base_uri": "https://localhost:8080/"
        },
        "id": "70Guys_rOv7a",
        "outputId": "220ac34e-d9dd-4a30-9400-0fd74d9a0158"
      },
      "outputs": [
        {
          "name": "stdout",
          "output_type": "stream",
          "text": [
            "False\n",
            "True\n",
            "True\n",
            "True\n",
            "False\n"
          ]
        }
      ],
      "source": [
        "print(34 == 69)\n",
        "print(7 == 7)\n",
        "print(34 != 69)\n",
        "print(99 >= 99)\n",
        "print(0 >= 1)"
      ]
    },
    {
      "cell_type": "markdown",
      "metadata": {
        "id": "8aFHYDj-YTXt"
      },
      "source": [
        "Each statement above has a boolean value, which must be either True or False, but not both.\n",
        "\n",
        "We can combine simple statements P and Q to form complex statements using logical operators:\n",
        "\n",
        "- The statement \"P and Q\" is true if both P and Q are true, otherwise it is false.\n",
        "- The statement \"P or Q\" is false if both P and Q are false, otherwise it is true.\n",
        "- The statement \"not P\" is true if P is false, and vice versa."
      ]
    },
    {
      "cell_type": "markdown",
      "metadata": {},
      "source": [
        "My own example:"
      ]
    },
    {
      "cell_type": "code",
      "execution_count": 31,
      "metadata": {
        "colab": {
          "base_uri": "https://localhost:8080/"
        },
        "id": "O5YEEcUbOv7d",
        "outputId": "b0b66a4b-5e0b-493a-912d-ea3970a5026c"
      },
      "outputs": [
        {
          "name": "stdout",
          "output_type": "stream",
          "text": [
            "True\n",
            "False\n",
            "True\n",
            "False\n"
          ]
        }
      ],
      "source": [
        "print(100 > 0 and 50 > 1)\n",
        "print(50 > 3 and 1897 < 9) \n",
        "print(2022 > 1999 or 1984 < 2022)\n",
        "print(1001 < 1 and 5000 < 5)"
      ]
    },
    {
      "cell_type": "markdown",
      "metadata": {
        "id": "Dy7yzoSXYXmL"
      },
      "source": [
        "When dealing with a very complex logical statement that involves in several statements, we can use brackets to separate and combine them."
      ]
    },
    {
      "cell_type": "markdown",
      "metadata": {},
      "source": [
        "My own example:"
      ]
    },
    {
      "cell_type": "code",
      "execution_count": 32,
      "metadata": {
        "colab": {
          "base_uri": "https://localhost:8080/"
        },
        "id": "QZ-W2xJZOv7d",
        "outputId": "25b7e3d0-7d41-4af4-ade3-bb35f2d469b9"
      },
      "outputs": [
        {
          "name": "stdout",
          "output_type": "stream",
          "text": [
            "False\n",
            "True\n"
          ]
        }
      ],
      "source": [
        "print((5000 > 1984 or 9 < 5000) and (9!=5000 and 4>5000) and not ( 5000 < 1984 or 9 < 5000 and (9!=5000 and 4>5000)))\n",
        "print(5000 > 1984 or 666 < 1984 and (666!=1984 and 9999>1984) and not ( 1984 < 1984 or 666 < 1984 and (666!=1984 and 9999>1984)))"
      ]
    },
    {
      "cell_type": "markdown",
      "metadata": {
        "id": "s95xoRYMYaPD"
      },
      "source": [
        "Comparing the above two statements, we can see that it's wise to use brackets when we make a complex logical statement.\n",
        "\n",
        "# If Statement\n",
        "An if statement executes a segment of code only if its condition is true. A standard if statement consists of 3 segments: if, elif and else."
      ]
    },
    {
      "cell_type": "markdown",
      "metadata": {
        "id": "aRzMMitAaBOL"
      },
      "source": [
        "```python\n",
        "if statement1:\n",
        "    # if the statement1 is true, execute the code here.\n",
        "    # code.....\n",
        "    # code.....\n",
        "elif statement2:\n",
        "    # if the statement 1 is false, skip the codes above to this part.\n",
        "    # code......\n",
        "    # code......\n",
        "else:\n",
        "    # if none of the above statements is True, skip to this part\n",
        "    # code......\n",
        "```"
      ]
    },
    {
      "cell_type": "markdown",
      "metadata": {
        "id": "l59R2AS8aH2K"
      },
      "source": [
        "An if statement doesn't necessarily has elif and else part. If it's not specified, the indented block of code will be executed when the condition is true, otherwise the whole if statement will be skipped."
      ]
    },
    {
      "cell_type": "markdown",
      "metadata": {},
      "source": [
        "My own example:"
      ]
    },
    {
      "cell_type": "code",
      "execution_count": 31,
      "metadata": {
        "colab": {
          "base_uri": "https://localhost:8080/"
        },
        "id": "FZ5GoTXfOv7e",
        "outputId": "3e491f24-5e60-4ae8-8708-6af02357a24f"
      },
      "outputs": [
        {
          "name": "stdout",
          "output_type": "stream",
          "text": [
            "i==0 is True\n"
          ]
        }
      ],
      "source": [
        "condition = 1\n",
        "if condition == 1:\n",
        "    print('condition==1 is True')"
      ]
    },
    {
      "cell_type": "markdown",
      "metadata": {
        "id": "nPNW-l5eaJn8"
      },
      "source": [
        "As we mentioned above, we can write some complex statements here:"
      ]
    },
    {
      "cell_type": "markdown",
      "metadata": {},
      "source": [
        "My own example:"
      ]
    },
    {
      "cell_type": "code",
      "execution_count": 34,
      "metadata": {
        "colab": {
          "base_uri": "https://localhost:8080/"
        },
        "id": "gh-U6nMzOv7e",
        "outputId": "278c09cc-10be-4372-f22e-29c1a5ee5f8b"
      },
      "outputs": [
        {
          "name": "stdout",
          "output_type": "stream",
          "text": [
            "p and q is true\n"
          ]
        }
      ],
      "source": [
        "p = 2022 > 2019\n",
        "q = 1984 > 1951\n",
        "if p and q:\n",
        "    print('p and q is true')\n",
        "elif p and not q:\n",
        "    print('q is false')\n",
        "elif q and not p:\n",
        "    print('p is false')\n",
        "else:\n",
        "    print('None of p and q is true')"
      ]
    },
    {
      "cell_type": "markdown",
      "metadata": {
        "id": "tgRDwiAsaMOL"
      },
      "source": [
        "# Loop Structure\n",
        "Loops are an essential part of programming. The \"for\" and \"while\" loops run a block of code repeatedly.\n",
        "\n",
        "##  While Loop\n",
        "A \"while\" loop will run repeatedly until a certain condition has been met."
      ]
    },
    {
      "cell_type": "markdown",
      "metadata": {},
      "source": [
        "My own example:"
      ]
    },
    {
      "cell_type": "code",
      "execution_count": 35,
      "metadata": {
        "colab": {
          "base_uri": "https://localhost:8080/"
        },
        "id": "uQLau8d5Ov7f",
        "outputId": "aa7e27c1-cbf5-4347-89fb-a2b9558c5e78"
      },
      "outputs": [
        {
          "name": "stdout",
          "output_type": "stream",
          "text": [
            "10\n",
            "12\n",
            "14\n",
            "16\n",
            "18\n"
          ]
        }
      ],
      "source": [
        "i = 10\n",
        "while i < 20:\n",
        "    print(i)\n",
        "    i += 2 "
      ]
    },
    {
      "cell_type": "markdown",
      "metadata": {
        "id": "ydLddFAPaTOE"
      },
      "source": [
        "When making a while loop, we need to ensure that something changes from iteration to iteration so that the while loop will terminate, otherwise, it will run forever. Here we used i += 1 (short for i = i + 1) to make i larger after each iteration. This is the most commonly used method to control a while loop.\n",
        "\n",
        "##  For Loop\n",
        "A \"for\" loop will iterate over a sequence of value and terminate when the sequence has ended."
      ]
    },
    {
      "cell_type": "markdown",
      "metadata": {},
      "source": [
        "My own example"
      ]
    },
    {
      "cell_type": "code",
      "execution_count": 39,
      "metadata": {
        "colab": {
          "base_uri": "https://localhost:8080/"
        },
        "id": "kt8Ie8u1Ov7f",
        "outputId": "3e598608-0d6f-4e1c-b3fc-34d06ff14eb8"
      },
      "outputs": [
        {
          "name": "stdout",
          "output_type": "stream",
          "text": [
            "1\n",
            "4\n",
            "9\n",
            "16\n",
            "25\n",
            "36\n",
            "49\n",
            "64\n",
            "81\n",
            "100\n"
          ]
        }
      ],
      "source": [
        "for i in [x*x for x in range(1,11)]:\n",
        "    print(i)"
      ]
    },
    {
      "cell_type": "markdown",
      "metadata": {
        "id": "yWStqpreaX-T"
      },
      "source": [
        "We can also add if statements in a for loop. Here is a real example from our pairs trading algorithm:"
      ]
    },
    {
      "cell_type": "markdown",
      "metadata": {},
      "source": [
        "My own example:"
      ]
    },
    {
      "cell_type": "code",
      "execution_count": 41,
      "metadata": {
        "colab": {
          "base_uri": "https://localhost:8080/"
        },
        "id": "kElmffvFOv7f",
        "outputId": "6161e9da-cf62-44a5-fa80-ad45276473f7"
      },
      "outputs": [
        {
          "name": "stdout",
          "output_type": "stream",
          "text": [
            "['google', 'facebook', 'feik', 'vtube', 'gloria', 'google earth']\n"
          ]
        }
      ],
      "source": [
        "stocks = ['apple','google','ibm','facebook','feik','vtube', 'gloria', 'google earth']\n",
        "selected = ['apple','ibm']\n",
        "new_list = []\n",
        "for i in stocks:\n",
        "    if i not in selected:\n",
        "        new_list.append(i)\n",
        "print(new_list)"
      ]
    },
    {
      "cell_type": "markdown",
      "metadata": {
        "id": "wb2hry9dahE0"
      },
      "source": [
        "Here we iterated all the elements in the list 'stocks'. Later in this chapter, we will introduce a smarter way to do this, which is just a one-line code.\n",
        "\n",
        "##  Break and continue\n",
        "These are two commonly used commands in a for loop. If \"break\" is triggered while a loop is executing, the loop will terminate immediately:"
      ]
    },
    {
      "cell_type": "markdown",
      "metadata": {},
      "source": [
        "My own example:"
      ]
    },
    {
      "cell_type": "code",
      "execution_count": 42,
      "metadata": {
        "colab": {
          "base_uri": "https://localhost:8080/"
        },
        "id": "yF5wMVItOv7g",
        "outputId": "2eb40fb9-fe33-4936-b6dd-84614f6dcba9"
      },
      "outputs": [
        {
          "name": "stdout",
          "output_type": "stream",
          "text": [
            "apple\n",
            "google\n",
            "ibm\n",
            "facebook\n"
          ]
        }
      ],
      "source": [
        "stocks = ['apple','google','ibm','facebook','feik','vtube', 'gloria', 'google earth']\n",
        "for i in stocks:\n",
        "    print(i)\n",
        "    if i == 'facebook':\n",
        "        break"
      ]
    },
    {
      "cell_type": "markdown",
      "metadata": {
        "id": "R0toxyp3ao0T"
      },
      "source": [
        "The \"continue\" command tells the loop to end this iteration and skip to the next iteration:"
      ]
    },
    {
      "cell_type": "markdown",
      "metadata": {},
      "source": [
        "My own example:"
      ]
    },
    {
      "cell_type": "code",
      "execution_count": 43,
      "metadata": {
        "colab": {
          "base_uri": "https://localhost:8080/"
        },
        "id": "Stg-CH6IOv7g",
        "outputId": "7bff9c13-2d53-4ccc-e070-f4de7234d8cf"
      },
      "outputs": [
        {
          "name": "stdout",
          "output_type": "stream",
          "text": [
            "apple\n",
            "google\n",
            "ibm\n",
            "vtube\n",
            "gloria\n",
            "google earth\n"
          ]
        }
      ],
      "source": [
        "stocks = ['apple','google','ibm','facebook','vtube', 'gloria', 'google earth']\n",
        "for i in stocks:\n",
        "    if i == 'facebook':\n",
        "        continue\n",
        "    print(i)"
      ]
    },
    {
      "cell_type": "markdown",
      "metadata": {
        "id": "4NusvdhBaxpZ"
      },
      "source": [
        "# List Comprehension\n",
        "List comprehension is a Pythonic way to create lists. Common applications are to make new lists where each element is the result of some operations applied to each member of another sequence. For example, if we want to create a list of cubes using for loop:"
      ]
    },
    {
      "cell_type": "markdown",
      "metadata": {},
      "source": [
        "My own example:"
      ]
    },
    {
      "cell_type": "code",
      "execution_count": 44,
      "metadata": {
        "colab": {
          "base_uri": "https://localhost:8080/"
        },
        "id": "bdxxeOABOv7h",
        "outputId": "4c976f98-d139-4d13-afbf-4b2f45a6698e"
      },
      "outputs": [
        {
          "name": "stdout",
          "output_type": "stream",
          "text": [
            "[1, 8, 27, 64, 125]\n"
          ]
        }
      ],
      "source": [
        "cubes = []\n",
        "for i in [1,2,3,4,5,6,7,8,9,10]:\n",
        "    cubes.append(i**3)\n",
        "print(cubes)"
      ]
    },
    {
      "cell_type": "markdown",
      "metadata": {
        "id": "--KliJBOa1CC"
      },
      "source": [
        "Using list comprehension:"
      ]
    },
    {
      "cell_type": "markdown",
      "metadata": {},
      "source": [
        "My own example:"
      ]
    },
    {
      "cell_type": "code",
      "execution_count": 45,
      "metadata": {
        "colab": {
          "base_uri": "https://localhost:8080/"
        },
        "id": "440-yjG8Ov7h",
        "outputId": "69947293-8145-425e-da94-197658f07e4b"
      },
      "outputs": [
        {
          "name": "stdout",
          "output_type": "stream",
          "text": [
            "[1, 8, 27, 64, 125, 216, 343, 512, 729, 1000]\n"
          ]
        }
      ],
      "source": [
        "list = [1,2,3,4,5,6,7,8,9,10]\n",
        "cubes = [x**3 for x in list]\n",
        "print(cubes)"
      ]
    },
    {
      "cell_type": "markdown",
      "metadata": {
        "id": "uMuCfR3ya3zT"
      },
      "source": [
        "Recall the example above where we used a for loop to select stocks. Here we use list comprehension:"
      ]
    },
    {
      "cell_type": "markdown",
      "metadata": {},
      "source": [
        "My own example:"
      ]
    },
    {
      "cell_type": "code",
      "execution_count": 47,
      "metadata": {
        "colab": {
          "base_uri": "https://localhost:8080/"
        },
        "id": "ZGtCtog2Ov7h",
        "outputId": "97ebb092-5c56-4e1b-ab4c-6486642252bb"
      },
      "outputs": [
        {
          "name": "stdout",
          "output_type": "stream",
          "text": [
            "['google', 'facebook', 'feik', 'vtubes', 'gloria', 'google earth']\n"
          ]
        }
      ],
      "source": [
        "stocks = ['apple','google','ibm','facebook','feik','vtubes', 'gloria', 'google earth']\n",
        "selected = ['apple','ibm']\n",
        "new_list = [x for x in stocks if not x in selected]\n",
        "print(new_list)"
      ]
    },
    {
      "cell_type": "markdown",
      "metadata": {
        "id": "EPeUv6Lia5oD"
      },
      "source": [
        "A list comprehension consists of square brackets containing an expression followed by a \"for\" clause, and possibly \"for\" or \"if\" clauses. For example:"
      ]
    },
    {
      "cell_type": "markdown",
      "metadata": {},
      "source": [
        "My own example:"
      ]
    },
    {
      "cell_type": "code",
      "execution_count": 48,
      "metadata": {
        "colab": {
          "base_uri": "https://localhost:8080/"
        },
        "id": "O1AMB5d7Ov7i",
        "outputId": "3585c3be-f0d4-4340-fcb1-dcd256dc8504"
      },
      "outputs": [
        {
          "name": "stdout",
          "output_type": "stream",
          "text": [
            "[(2, 3), (2, 6), (2, 6), (4, 3), (4, 6), (4, 6), (6, 3)]\n",
            "['apple vs feik', 'apple vs vtube', 'apple vs gloria', 'apple vs google earth', 'google vs feik', 'google vs vtube', 'google vs gloria', 'google vs google earth', 'ibm vs feik', 'ibm vs vtube', 'ibm vs gloria', 'ibm vs google earth', 'facebook vs feik', 'facebook vs vtube', 'facebook vs gloria', 'facebook vs google earth']\n"
          ]
        }
      ],
      "source": [
        "print([(x, y) for x in [2,4,6] for y in [3,6,6] if x != y])\n",
        "print([str(x)+' vs '+str(y) for x in ['apple','google','ibm','facebook'] for y in ['feik','vtube','gloria','google earth'] if x!=y])"
      ]
    },
    {
      "cell_type": "markdown",
      "metadata": {
        "id": "jJpvq-o4a8P7"
      },
      "source": [
        "List comprehension is an elegant way to organize one or more for loops when creating a list.\n",
        "\n",
        "# Summary\n",
        "This chapter has introduced logical operations, loops, and list comprehension. In the next chapter, we will introduce functions and object-oriented programming, which will enable us to make our codes clean and versatile."
      ]
    },
    {
      "cell_type": "markdown",
      "metadata": {
        "id": "Tef_X2wJbdhn"
      },
      "source": [
        "<div align=\"center\">\n",
        "<img style=\"display: block; margin: auto;\" alt=\"photo\" src=\"https://cdn.quantconnect.com/web/i/icon.png\">\n",
        "\n",
        "Quantconnect\n",
        "\n",
        "Introduction to Financial Python\n",
        "</div>\n",
        "\n",
        "# 03 Functions and Objective-Oriented Programming\n",
        "\n",
        "# Introduction\n",
        "\n",
        "In the last tutorial we introduced logical operations, loops and list comprehension. We will introduce functions and object-oriented programming in this chapter, which will enable us to build complex algorithms in more flexible ways.\n",
        "\n",
        "# Functions\n",
        "A function is a reusable block of code. We can use a function to output a value, or do anything else we want. We can easily define our own function by using the keyword \"def\"."
      ]
    },
    {
      "cell_type": "markdown",
      "metadata": {},
      "source": [
        "My own example:"
      ]
    },
    {
      "cell_type": "code",
      "execution_count": 50,
      "metadata": {
        "colab": {
          "base_uri": "https://localhost:8080/"
        },
        "id": "eE_NkTiSO2PO",
        "outputId": "d2492acb-e355-4f23-88eb-9a8a410aec5e"
      },
      "outputs": [
        {
          "name": "stdout",
          "output_type": "stream",
          "text": [
            "69\n",
            "666\n"
          ]
        }
      ],
      "source": [
        "def multiplication(x,y):\n",
        "    return x*y\n",
        "print(multiplication(23,3))\n",
        "print(multiplication(111,6))"
      ]
    },
    {
      "cell_type": "markdown",
      "metadata": {
        "id": "4oRU_dVJbsdD"
      },
      "source": [
        "The keyword \"def\" is followed by the function name and the parenthesized list of formal parameters. The statements that form the body of the function start at the next line, and must be indented. The product() function above has \"x\" and \"y\" as its parameters. A function doesn't necessarily have parameters:"
      ]
    },
    {
      "cell_type": "markdown",
      "metadata": {},
      "source": [
        "My own example:"
      ]
    },
    {
      "cell_type": "code",
      "execution_count": 51,
      "metadata": {
        "colab": {
          "base_uri": "https://localhost:8080/"
        },
        "id": "JhdWVLbUO2PQ",
        "outputId": "0c544747-1d2c-444f-cc68-81d53a29aa66"
      },
      "outputs": [
        {
          "name": "stdout",
          "output_type": "stream",
          "text": [
            "Welcome to algorithm's class\n"
          ]
        }
      ],
      "source": [
        "def say_hi():\n",
        "    print('Welcome to algorithm\\'s class')\n",
        "say_hi()"
      ]
    },
    {
      "cell_type": "markdown",
      "metadata": {
        "id": "lHwqVpWVb1Jr"
      },
      "source": [
        "# Built-in Function\n",
        "**range()** is a function that creates a list containing an arithmetic sequence. It's often used in for loops. The arguments must be integers. If the \"step\" argument is omitted, it defaults to 1."
      ]
    },
    {
      "cell_type": "markdown",
      "metadata": {},
      "source": [
        "My own example:"
      ]
    },
    {
      "cell_type": "code",
      "execution_count": 52,
      "metadata": {
        "colab": {
          "base_uri": "https://localhost:8080/"
        },
        "id": "VVOTELcIO2PQ",
        "outputId": "aa49027e-a8d9-4e49-af6b-e9524ba564b5"
      },
      "outputs": [
        {
          "name": "stdout",
          "output_type": "stream",
          "text": [
            "range(0, 100)\n",
            "range(1, 111)\n",
            "range(2, 222, 2)\n"
          ]
        }
      ],
      "source": [
        "print(range(100))\n",
        "print(range(1,111))\n",
        "print(range(2,222,2))"
      ]
    },
    {
      "cell_type": "markdown",
      "metadata": {
        "id": "PD0cSgiwcQ4L"
      },
      "source": [
        "**len()** is another function used together with range() to create a for loop. This function returns the length of an object. The argument must be a sequence or a collection."
      ]
    },
    {
      "cell_type": "markdown",
      "metadata": {},
      "source": [
        "My own example:"
      ]
    },
    {
      "cell_type": "code",
      "execution_count": 54,
      "metadata": {
        "colab": {
          "base_uri": "https://localhost:8080/"
        },
        "id": "Hg18c7v-O2PR",
        "outputId": "c96a69f4-c7d1-41bb-e266-c8cacb3913b3"
      },
      "outputs": [
        {
          "name": "stdout",
          "output_type": "stream",
          "text": [
            "The length of tickers is 8\n",
            "1 apple\n",
            "2 google\n",
            "3 ibm\n",
            "4 facebook\n",
            "5 feik\n",
            "6 vtube\n",
            "7 gloria\n",
            "8 google earth\n"
          ]
        }
      ],
      "source": [
        "tickers = ['apple','google','ibm','facebook','feik','vtube', 'gloria', 'google earth']\n",
        "print('The length of tickers is {}'.format(len(tickers)))\n",
        "for i in range(len(tickers)):\n",
        "    print(i+1,tickers[i])"
      ]
    },
    {
      "cell_type": "markdown",
      "metadata": {
        "id": "OIQSuub1cWgi"
      },
      "source": [
        "Note: If you want to print only the tickers without those numbers, then simply write \"for ticker in tickers: print ticker\"\n",
        "\n",
        "**map(**) is a function that applies a specific function to every item of a sequence or collection, and returns a list of the results."
      ]
    },
    {
      "cell_type": "markdown",
      "metadata": {},
      "source": [
        "My own example:"
      ]
    },
    {
      "cell_type": "code",
      "execution_count": 61,
      "metadata": {
        "colab": {
          "base_uri": "https://localhost:8080/"
        },
        "id": "lJBs5ECT4mSq",
        "outputId": "d6fde10d-09a7-434e-b516-8431b48918fe"
      },
      "outputs": [
        {
          "name": "stdout",
          "output_type": "stream",
          "text": [
            "{3, 4, 5, 6, 8, 12}\n"
          ]
        }
      ],
      "source": [
        "tickers = ['apple','google','ibm','facebook','feik','vtube', 'gloria', 'google earth']\n",
        "print(set(map(len,tickers)))"
      ]
    },
    {
      "cell_type": "markdown",
      "metadata": {
        "id": "mvr06UM7ca7b"
      },
      "source": [
        "The **lambda operator** is a way to create small anonymous functions. These functions are just needed where they have been created. For example:"
      ]
    },
    {
      "cell_type": "markdown",
      "metadata": {},
      "source": [
        "My own example:"
      ]
    },
    {
      "cell_type": "code",
      "execution_count": 63,
      "metadata": {
        "colab": {
          "base_uri": "https://localhost:8080/"
        },
        "id": "pAEHADYXO2PR",
        "outputId": "945610e9-76a7-4671-f760-4013ac4aa143"
      },
      "outputs": [
        {
          "data": {
            "text/plain": [
              "{0, 1, 4, 9, 16, 25, 36, 49, 64, 81}"
            ]
          },
          "execution_count": 63,
          "metadata": {},
          "output_type": "execute_result"
        }
      ],
      "source": [
        "set(map(lambda x: x**2, range(10)))"
      ]
    },
    {
      "cell_type": "markdown",
      "metadata": {
        "id": "Mgixpxomcj3T"
      },
      "source": [
        "map() can be applied to more than one list. The lists have to have the same length."
      ]
    },
    {
      "cell_type": "markdown",
      "metadata": {},
      "source": [
        "My own example:"
      ]
    },
    {
      "cell_type": "code",
      "execution_count": 65,
      "metadata": {
        "colab": {
          "base_uri": "https://localhost:8080/"
        },
        "id": "HtckhAaJO2PS",
        "outputId": "8b24472e-2eef-4a71-c36c-b872f8e128db"
      },
      "outputs": [
        {
          "data": {
            "text/plain": [
              "{12}"
            ]
          },
          "execution_count": 65,
          "metadata": {},
          "output_type": "execute_result"
        }
      ],
      "source": [
        "set(map(lambda x, y: x+y, [2,4,6,8,10],[10,8,6,4,2]))"
      ]
    },
    {
      "cell_type": "markdown",
      "metadata": {
        "id": "ZDnMTH-KcklT"
      },
      "source": [
        "**sorted()** takes a list or set and returns a new sorted list"
      ]
    },
    {
      "cell_type": "markdown",
      "metadata": {},
      "source": [
        "My own exercise:"
      ]
    },
    {
      "cell_type": "code",
      "execution_count": 66,
      "metadata": {
        "colab": {
          "base_uri": "https://localhost:8080/"
        },
        "id": "P0sHUMFWO2PS",
        "outputId": "ff293907-8b01-47e8-b872-f362d3a63832"
      },
      "outputs": [
        {
          "data": {
            "text/plain": [
              "[-18, 0, 1, 99, 1999]"
            ]
          },
          "execution_count": 66,
          "metadata": {},
          "output_type": "execute_result"
        }
      ],
      "source": [
        "sorted([1,0,99,-18,1999])"
      ]
    },
    {
      "cell_type": "markdown",
      "metadata": {
        "id": "-N5_EDOFcnsc"
      },
      "source": [
        "We can add a \"key\" parameter to specify a function to be called on each list element prior to making comparisons. For example:"
      ]
    },
    {
      "cell_type": "markdown",
      "metadata": {},
      "source": [
        "My own exercise:"
      ]
    },
    {
      "cell_type": "code",
      "execution_count": 67,
      "metadata": {
        "colab": {
          "base_uri": "https://localhost:8080/"
        },
        "id": "0i3peZ0bO2PS",
        "outputId": "abb2ae1e-0b2d-4623-8d4f-c66d62985249"
      },
      "outputs": [
        {
          "data": {
            "text/plain": [
              "[('microsoft', 69),\n",
              " ('apple', 191.77),\n",
              " ('google', 485.14),\n",
              " ('nose', 752.2),\n",
              " ('facebook', 951)]"
            ]
          },
          "execution_count": 67,
          "metadata": {},
          "output_type": "execute_result"
        }
      ],
      "source": [
        "price_list = [('apple',191.77),('google',485.14),('microsoft',69),('facebook',951),('nose',752.2)]\n",
        "sorted(price_list, key = lambda x: x[1])"
      ]
    },
    {
      "cell_type": "markdown",
      "metadata": {
        "id": "yun2zptKcxe_"
      },
      "source": [
        "By default the values are sorted by ascending order. We can change it to descending by adding an optional parameter \"reverse'."
      ]
    },
    {
      "cell_type": "markdown",
      "metadata": {},
      "source": [
        "My own example:"
      ]
    },
    {
      "cell_type": "code",
      "execution_count": 68,
      "metadata": {
        "colab": {
          "base_uri": "https://localhost:8080/"
        },
        "id": "dEZqdl94O2PT",
        "outputId": "7a707211-8b7e-49ea-cf7e-8d7c87e53778"
      },
      "outputs": [
        {
          "data": {
            "text/plain": [
              "[('facebook', 951),\n",
              " ('nose', 752.2),\n",
              " ('google', 485.14),\n",
              " ('apple', 191.77),\n",
              " ('microsoft', 69)]"
            ]
          },
          "execution_count": 68,
          "metadata": {},
          "output_type": "execute_result"
        }
      ],
      "source": [
        "price_list = [('apple',191.77),('google',485.14),('microsoft',69),('facebook',951),('nose',752.2)]\n",
        "sorted(price_list, key = lambda x: x[1], reverse=True)"
      ]
    },
    {
      "cell_type": "markdown",
      "metadata": {
        "id": "OA2wYAa0c6Dn"
      },
      "source": [
        "Lists also have a function list.sort(). This function takes the same \"key\" and \"reverse\" arguments as sorted(), but it doesn't return a new list."
      ]
    },
    {
      "cell_type": "markdown",
      "metadata": {},
      "source": [
        "My own example:"
      ]
    },
    {
      "cell_type": "code",
      "execution_count": 69,
      "metadata": {
        "colab": {
          "base_uri": "https://localhost:8080/"
        },
        "id": "pG9VQCLnO2PT",
        "outputId": "bf1b0694-5364-4e2f-f032-21ed620aab77"
      },
      "outputs": [
        {
          "name": "stdout",
          "output_type": "stream",
          "text": [
            "[('microsoft', 69), ('apple', 191.77), ('google', 485.14), ('nose', 752.2), ('facebook', 951)]\n"
          ]
        }
      ],
      "source": [
        "price_list = [('apple',191.77),('google',485.14),('microsoft',69),('facebook',951),('nose',752.2)]\n",
        "price_list.sort(key = lambda x: x[1])\n",
        "print(price_list)"
      ]
    },
    {
      "cell_type": "markdown",
      "metadata": {
        "id": "mxljL1W1c_c5"
      },
      "source": [
        "# Object-Oriented Programming\n",
        "Python is an object-oriented programming language. It's important to understand the concept of \"objects\" because almost every kind of data from QuantConnect API is an object.\n",
        "\n",
        "##  Class\n",
        "A class is a type of data, just like a string, float, or list. When we create an object of that data type, we call it an instance of a class.\n",
        "\n",
        "In Python, everything is an object - everything is an instance of some class. The data stored inside an object are called attributes, and the functions which are associated with the object are called methods.\n",
        "\n",
        "For example, as mentioned above, a list is an object of the \"list\" class, and it has a method list.sort().\n",
        "\n",
        "We can create our own objects by defining a class. We would do this when it's helpful to group certain functions together. For example, we define a class named \"Figure\" here:"
      ]
    },
    {
      "cell_type": "markdown",
      "metadata": {},
      "source": [
        "My own example:"
      ]
    },
    {
      "cell_type": "code",
      "execution_count": 16,
      "metadata": {},
      "outputs": [],
      "source": [
        "import math\n",
        "class Figure:\n",
        "    def __init__(self,length=0, sides=0,perimeter=0, area=0):\n",
        "        self.length = length\n",
        "        self.sides = sides\n",
        "        self.perimeter = perimeter\n",
        "        self.area = area\n",
        "        self.apothem = length/(2*math.tan(math.pi/self.sides))\n",
        "\n",
        "    def update(self, length, perimeter, area):\n",
        "        self.length = length\n",
        "        self.perimeter = perimeter\n",
        "        self.area = area\n",
        "        self.apothem = length/(2*math.tan(math.pi/self.sides))\n",
        "\n",
        "    def print_apothem(self):\n",
        "        print(self.apothem)"
      ]
    },
    {
      "cell_type": "markdown",
      "metadata": {
        "id": "rV06INT5dETi"
      },
      "source": [
        "The \"Figure\" class has attributes \"length\", \"sides, \"perimeter\", \"area\" and \"apothem\". Inside the class body, the first method is called __init__, which is a special method. When we create a new instance of the class, the __init__ method is immediately executed with all the parameters that we pass to the \"Figure\" object. The purpose of this method is to set up a new \"Figure\" object using data we have provided.\n",
        "\n",
        "Here we create two Figure objects named \"triangle\" and \"square\"."
      ]
    },
    {
      "cell_type": "markdown",
      "metadata": {},
      "source": [
        "\n",
        "My own example:"
      ]
    },
    {
      "cell_type": "code",
      "execution_count": 17,
      "metadata": {
        "id": "8tIpNk93O2PU"
      },
      "outputs": [],
      "source": [
        "triangle = Figure(1,3,3,math.sqrt(3)/2)\n",
        "square = Figure(1,4,4,1)"
      ]
    },
    {
      "cell_type": "markdown",
      "metadata": {
        "id": "VxmELNiHdPKS"
      },
      "source": [
        "Figure objects also have two other methods: update() and print_apothem(). We can access the attribues of a Figure object and call its methods:"
      ]
    },
    {
      "cell_type": "markdown",
      "metadata": {},
      "source": [
        "\n",
        "My own example:"
      ]
    },
    {
      "cell_type": "code",
      "execution_count": 18,
      "metadata": {
        "colab": {
          "base_uri": "https://localhost:8080/"
        },
        "id": "SsiIkmekO2PU",
        "outputId": "c525fccb-c3b3-4a9f-8fe8-38c620cca9a1"
      },
      "outputs": [
        {
          "name": "stdout",
          "output_type": "stream",
          "text": [
            "0.5000000000000001\n",
            "1.0000000000000002\n"
          ]
        }
      ],
      "source": [
        "triangle.length\n",
        "square.print_apothem()\n",
        "square.update(2,8,4)\n",
        "square.print_apothem()"
      ]
    },
    {
      "cell_type": "markdown",
      "metadata": {
        "id": "Q8fl7keNdVKF"
      },
      "source": [
        "By calling the update() function, we updated the length of the sides, the area and perimeter of the figure. Please note that when we use the attributes or call the methods **inside a class**, we need to specify them as self.attribute or self.method(), otherwise Python will deem them as global variables and thus raise an error.\n",
        "\n",
        "We can add an attribute to an object anywhere:"
      ]
    },
    {
      "cell_type": "markdown",
      "metadata": {},
      "source": [
        "\n",
        "My own example:"
      ]
    },
    {
      "cell_type": "code",
      "execution_count": 19,
      "metadata": {
        "colab": {
          "base_uri": "https://localhost:8080/",
          "height": 35
        },
        "id": "rO4OLnqOO2PU",
        "outputId": "37a33902-755c-4c5f-be78-c8c136ece3aa"
      },
      "outputs": [
        {
          "data": {
            "text/plain": [
              "60"
            ]
          },
          "execution_count": 19,
          "metadata": {},
          "output_type": "execute_result"
        }
      ],
      "source": [
        "triangle.angle= 60\n",
        "triangle.angle"
      ]
    },
    {
      "cell_type": "markdown",
      "metadata": {
        "id": "WyfnFgVidh4J"
      },
      "source": [
        "We can check what names (i.e. attributes and methods) are defined on an object using the dir() function:"
      ]
    },
    {
      "cell_type": "markdown",
      "metadata": {},
      "source": [
        "My own example:"
      ]
    },
    {
      "cell_type": "code",
      "execution_count": 20,
      "metadata": {
        "colab": {
          "base_uri": "https://localhost:8080/"
        },
        "id": "pPoz0LA8O2PU",
        "outputId": "4dcea2e2-771b-4d71-c743-5cb63c81f277"
      },
      "outputs": [
        {
          "data": {
            "text/plain": [
              "['__class__',\n",
              " '__delattr__',\n",
              " '__dict__',\n",
              " '__dir__',\n",
              " '__doc__',\n",
              " '__eq__',\n",
              " '__format__',\n",
              " '__ge__',\n",
              " '__getattribute__',\n",
              " '__gt__',\n",
              " '__hash__',\n",
              " '__init__',\n",
              " '__init_subclass__',\n",
              " '__le__',\n",
              " '__lt__',\n",
              " '__module__',\n",
              " '__ne__',\n",
              " '__new__',\n",
              " '__reduce__',\n",
              " '__reduce_ex__',\n",
              " '__repr__',\n",
              " '__setattr__',\n",
              " '__sizeof__',\n",
              " '__str__',\n",
              " '__subclasshook__',\n",
              " '__weakref__',\n",
              " 'angle',\n",
              " 'apothem',\n",
              " 'area',\n",
              " 'length',\n",
              " 'perimeter',\n",
              " 'print_apothem',\n",
              " 'sides',\n",
              " 'update']"
            ]
          },
          "execution_count": 20,
          "metadata": {},
          "output_type": "execute_result"
        }
      ],
      "source": [
        "dir(triangle)"
      ]
    },
    {
      "cell_type": "markdown",
      "metadata": {
        "id": "Qpemj1UZd2aa"
      },
      "source": [
        "##  Inheritance\n",
        "Inheritance is a way of arranging classes in a hierarchy from the most general to the most specific. A \"child\" class is a more specific type of a \"parent\" class because a child class will inherit all the attribues and methods of its parent. For example, we define a class named \"Polygon\" which inherits \"Figure\":"
      ]
    },
    {
      "cell_type": "markdown",
      "metadata": {},
      "source": [
        "\n",
        "My own example:"
      ]
    },
    {
      "cell_type": "code",
      "execution_count": 23,
      "metadata": {
        "id": "UELXnxomO2PV"
      },
      "outputs": [],
      "source": [
        "class Polygon(Figure):\n",
        "    def __init__(self, sides, angle):\n",
        "        self.sides = sides\n",
        "        self.angle = angle"
      ]
    },
    {
      "cell_type": "markdown",
      "metadata": {},
      "source": [
        "Then we create an object:"
      ]
    },
    {
      "cell_type": "markdown",
      "metadata": {},
      "source": [
        "\n",
        "My own example:"
      ]
    },
    {
      "cell_type": "code",
      "execution_count": 24,
      "metadata": {
        "colab": {
          "base_uri": "https://localhost:8080/"
        },
        "id": "ffS2THZyO2PV",
        "outputId": "0b5d99cf-477c-48a1-8f5c-4e523612a028"
      },
      "outputs": [
        {
          "name": "stdout",
          "output_type": "stream",
          "text": [
            "72\n",
            "5\n",
            "1.720477400588967\n",
            "0.6881909602355868\n"
          ]
        }
      ],
      "source": [
        "pentagon = Polygon(5,72)\n",
        "print(pentagon.angle)\n",
        "\n",
        "pentagon.update(1,5,1)\n",
        "pentagon.update(1,5,pentagon.apothem*pentagon.perimeter/2)\n",
        "print(pentagon.perimeter)\n",
        "print(pentagon.area)\n",
        "pentagon.print_apothem()"
      ]
    },
    {
      "cell_type": "markdown",
      "metadata": {
        "id": "pdIEjUv2eJqL"
      },
      "source": [
        "As seen above, the new class Polygon has inherited the methods from Figure.\n",
        "\n",
        "##  Summary \n",
        "\n",
        "In this chapter we have introduced functions and classes. When we write a QuantConnect algorithm, we would define our algorithm as a class (QCAlgorithm). This means our algorithm inherited the QC API methods from QCAlgorithm class.\n",
        "\n",
        "In the next chapter, we will introduce NumPy and Pandas, which enable us to conduct scientific calculations in Python."
      ]
    },
    {
      "cell_type": "markdown",
      "metadata": {
        "id": "dQbENH6mexTd"
      },
      "source": [
        "<div align=\"center\">\n",
        "<img style=\"display: block; margin: auto;\" alt=\"photo\" src=\"https://cdn.quantconnect.com/web/i/icon.png\">\n",
        "\n",
        "Quantconnect\n",
        "\n",
        "Introduction to Financial Python\n",
        "</div>\n",
        "\n",
        "# 04 NumPy and Basic Pandas\n",
        "\n",
        "# Introduction\n",
        "\n",
        "Now that we have introduced the fundamentals of Python, it's time to learn about NumPy and Pandas.\n",
        "\n",
        "# NumPy\n",
        "NumPy is the core library for scientific computing in Python. It provides a high-performance multidimensional array object, and tools for working with these arrays. It also has strong integration with Pandas, which is another powerful tool for manipulating financial data.\n",
        "\n",
        "Python packages like NumPy and Pandas contain classes and methods which we can use by importing the package:"
      ]
    },
    {
      "cell_type": "code",
      "execution_count": 26,
      "metadata": {
        "id": "aIESp-rdO58h"
      },
      "outputs": [],
      "source": [
        "import numpy as np"
      ]
    },
    {
      "cell_type": "markdown",
      "metadata": {
        "id": "GScHHJ5ke7ea"
      },
      "source": [
        "##  Basic NumPy Arrays\n",
        "A NumPy array is a grid of values, all of the same type, and is indexed by a tuple of nonnegative integers. Here we make an array by passing a list of Apple stock prices:"
      ]
    },
    {
      "cell_type": "markdown",
      "metadata": {},
      "source": [
        "My own example:"
      ]
    },
    {
      "cell_type": "code",
      "execution_count": 27,
      "metadata": {
        "colab": {
          "base_uri": "https://localhost:8080/"
        },
        "id": "lZI1wkwDO58i",
        "outputId": "7792634b-b0f5-47d4-f998-be207f9fb485"
      },
      "outputs": [
        {
          "name": "stdout",
          "output_type": "stream",
          "text": [
            "[174.71 172.85 173.    43.   172.2  173.03 173.99] <class 'numpy.ndarray'>\n"
          ]
        }
      ],
      "source": [
        "price_list = [174.71, 172.85, 173,43, 172.20, 173.03, 173.99]\n",
        "price_array = np.array(price_list)\n",
        "print(price_array, type(price_array))"
      ]
    },
    {
      "cell_type": "markdown",
      "metadata": {
        "id": "-5Yj6u9ifB-t"
      },
      "source": [
        "Notice that the type of array is \"ndarray\" which is a multi-dimensional array. If we pass np.array() a list of lists, it will create a 2-dimensional array."
      ]
    },
    {
      "cell_type": "markdown",
      "metadata": {},
      "source": [
        "My own example:"
      ]
    },
    {
      "cell_type": "code",
      "execution_count": 28,
      "metadata": {
        "colab": {
          "base_uri": "https://localhost:8080/"
        },
        "id": "obvIZrK-O58j",
        "outputId": "7bf6293a-350d-4167-a431-2fabb6353a74"
      },
      "outputs": [
        {
          "name": "stdout",
          "output_type": "stream",
          "text": [
            "[[1 2 3 4 5 6 7 8 9]\n",
            " [9 8 7 6 5 4 3 2 1]] <class 'numpy.ndarray'>\n"
          ]
        }
      ],
      "source": [
        "Ar = np.array([[1,2,3,4,5,6,7,8,9],[9,8,7,6,5,4,3,2,1]])\n",
        "print(Ar, type(Ar))"
      ]
    },
    {
      "cell_type": "markdown",
      "metadata": {
        "id": "uDdfLD9HfHkl"
      },
      "source": [
        "We get the dimensions of an ndarray using the .shape attribute:"
      ]
    },
    {
      "cell_type": "markdown",
      "metadata": {},
      "source": [
        "My own example:"
      ]
    },
    {
      "cell_type": "code",
      "execution_count": 29,
      "metadata": {
        "colab": {
          "base_uri": "https://localhost:8080/"
        },
        "id": "G2txdn73O58j",
        "outputId": "b6539a1f-7794-47bc-fd6f-744683e69ab7"
      },
      "outputs": [
        {
          "name": "stdout",
          "output_type": "stream",
          "text": [
            "(2, 9)\n"
          ]
        }
      ],
      "source": [
        "print(Ar.shape)"
      ]
    },
    {
      "cell_type": "markdown",
      "metadata": {
        "id": "87W5ueORfPEy"
      },
      "source": [
        "If we create an 2-dimensional array (i.e. matrix), each row can be accessed by index:"
      ]
    },
    {
      "cell_type": "markdown",
      "metadata": {},
      "source": [
        "My own example:"
      ]
    },
    {
      "cell_type": "code",
      "execution_count": 30,
      "metadata": {
        "colab": {
          "base_uri": "https://localhost:8080/"
        },
        "id": "x_QV9aPbO58j",
        "outputId": "ceaeabd6-af8c-435b-f376-0f73fa6af72e"
      },
      "outputs": [
        {
          "name": "stdout",
          "output_type": "stream",
          "text": [
            "[1 2 3 4 5 6 7 8 9]\n",
            "[9 8 7 6 5 4 3 2 1]\n"
          ]
        }
      ],
      "source": [
        "print(Ar[0])\n",
        "print(Ar[1])"
      ]
    },
    {
      "cell_type": "markdown",
      "metadata": {
        "id": "5Hke7Vt-fSGB"
      },
      "source": [
        "If we want to access the matrix by column instead:"
      ]
    },
    {
      "cell_type": "markdown",
      "metadata": {},
      "source": [
        "My own example:"
      ]
    },
    {
      "cell_type": "code",
      "execution_count": 33,
      "metadata": {
        "colab": {
          "base_uri": "https://localhost:8080/"
        },
        "id": "gHVwbPfOO58j",
        "outputId": "fbc8f0ca-38bf-4f98-d85f-1e95b30bb6f3"
      },
      "outputs": [
        {
          "name": "stdout",
          "output_type": "stream",
          "text": [
            "the first column:  [1 9]\n",
            "the second column:  [2 8]\n",
            "the third column:  [3 7]\n",
            "the fourth column:  [4 6]\n",
            "the fifth column:  [5 5]\n",
            "the sixth column:  [6 4]\n",
            "the seventh column:  [7 3]\n",
            "the eighth column:  [8 2]\n",
            "the ninth column:  [9 1]\n"
          ]
        }
      ],
      "source": [
        "print('the first column: ', Ar[:,0])\n",
        "print('the second column: ', Ar[:,1])\n",
        "print('the third column: ', Ar[:,2])\n",
        "print('the fourth column: ', Ar[:,3])\n",
        "print('the fifth column: ', Ar[:,4])\n",
        "print('the sixth column: ', Ar[:,5])\n",
        "print('the seventh column: ', Ar[:,6])\n",
        "print('the eighth column: ', Ar[:,7])\n",
        "print('the ninth column: ', Ar[:,8])"
      ]
    },
    {
      "cell_type": "markdown",
      "metadata": {
        "id": "T61cD0HMfStB"
      },
      "source": [
        "##  Array Functions\n",
        "Some functions built in NumPy that allow us to perform calculations on arrays. For example, we can apply the natural logarithm to each element of an array:"
      ]
    },
    {
      "cell_type": "markdown",
      "metadata": {},
      "source": [
        "My own example:"
      ]
    },
    {
      "cell_type": "code",
      "execution_count": 34,
      "metadata": {
        "colab": {
          "base_uri": "https://localhost:8080/"
        },
        "id": "PKhwtJ7XO58k",
        "outputId": "5734372b-2ffa-44e4-8146-5906268cd6c8"
      },
      "outputs": [
        {
          "name": "stdout",
          "output_type": "stream",
          "text": [
            "[5.16312746 5.15242417 5.15329159 3.76120012 5.14865659 5.15346499\n",
            " 5.15899783]\n"
          ]
        }
      ],
      "source": [
        "print(np.log(price_array))"
      ]
    },
    {
      "cell_type": "markdown",
      "metadata": {
        "id": "uzjBRFBLfZ-D"
      },
      "source": [
        "Other functions return a single value:"
      ]
    },
    {
      "cell_type": "markdown",
      "metadata": {},
      "source": [
        "My own example:"
      ]
    },
    {
      "cell_type": "code",
      "execution_count": 35,
      "metadata": {
        "colab": {
          "base_uri": "https://localhost:8080/"
        },
        "id": "nQuABZqUO58k",
        "outputId": "42151fdc-de6a-4a12-aebc-6689f288d9fa"
      },
      "outputs": [
        {
          "name": "stdout",
          "output_type": "stream",
          "text": [
            "154.68285714285713\n",
            "45.60066343949887\n",
            "1082.78\n",
            "174.71\n"
          ]
        }
      ],
      "source": [
        "print(np.mean(price_array))\n",
        "print(np.std(price_array))\n",
        "print(np.sum(price_array))\n",
        "print(np.max(price_array))"
      ]
    },
    {
      "cell_type": "markdown",
      "metadata": {
        "id": "IRW95BsifgDB"
      },
      "source": [
        "The functions above return the mean, standard deviation, total and maximum value of an array.\n",
        "\n",
        "# Pandas\n",
        "Pandas is one of the most powerful tools for dealing with financial data. \n",
        "\n",
        "First we need to import Pandas:"
      ]
    },
    {
      "cell_type": "code",
      "execution_count": 36,
      "metadata": {
        "id": "xIYH4oUfO58k"
      },
      "outputs": [],
      "source": [
        "import pandas as pd"
      ]
    },
    {
      "cell_type": "markdown",
      "metadata": {
        "id": "zOig5gORfnJU"
      },
      "source": [
        "##  Series\n",
        "Series is a one-dimensional labeled array capable of holding any data type (integers, strings, float, Python object, etc.)\n",
        "\n",
        "We create a Series by calling pd.Series(data), where data can be a dictionary, an array or just a scalar value."
      ]
    },
    {
      "cell_type": "markdown",
      "metadata": {},
      "source": [
        "My own example:"
      ]
    },
    {
      "cell_type": "code",
      "execution_count": 47,
      "metadata": {
        "colab": {
          "base_uri": "https://localhost:8080/"
        },
        "id": "JmzoNzrPO58k",
        "outputId": "b366da70-894e-4be5-fb47-9c8c6c09baae"
      },
      "outputs": [
        {
          "data": {
            "text/plain": [
              "0    174.71\n",
              "1    172.85\n",
              "2    173.43\n",
              "3    172.20\n",
              "4    173.03\n",
              "5    173.99\n",
              "dtype: float64"
            ]
          },
          "execution_count": 47,
          "metadata": {},
          "output_type": "execute_result"
        }
      ],
      "source": [
        "price= [174.71, 172.85, 173.43, 172.20, 173.03, 173.99]\n",
        "s = pd.Series(price)\n",
        "s"
      ]
    },
    {
      "cell_type": "markdown",
      "metadata": {
        "id": "tP5iDnunfq46"
      },
      "source": [
        "We can customize the indices of a new Series:"
      ]
    },
    {
      "cell_type": "markdown",
      "metadata": {},
      "source": [
        "My own example:"
      ]
    },
    {
      "cell_type": "code",
      "execution_count": 48,
      "metadata": {
        "colab": {
          "base_uri": "https://localhost:8080/"
        },
        "id": "eswQC3ZPO58l",
        "outputId": "6c6e3ff1-bc50-4ec9-8345-24f2af8feb18"
      },
      "outputs": [
        {
          "data": {
            "text/plain": [
              "z    174.71\n",
              "y    172.85\n",
              "x    173.43\n",
              "w    172.20\n",
              "v    173.03\n",
              "u    173.99\n",
              "dtype: float64"
            ]
          },
          "execution_count": 48,
          "metadata": {},
          "output_type": "execute_result"
        }
      ],
      "source": [
        "s = pd.Series(price,index = ['z','y','x','w','v','u'])\n",
        "s"
      ]
    },
    {
      "cell_type": "markdown",
      "metadata": {
        "id": "wdZrb8pEfuua"
      },
      "source": [
        "Or we can change the indices of an existing Series:"
      ]
    },
    {
      "cell_type": "markdown",
      "metadata": {},
      "source": [
        "My own example:"
      ]
    },
    {
      "cell_type": "code",
      "execution_count": 49,
      "metadata": {
        "colab": {
          "base_uri": "https://localhost:8080/"
        },
        "id": "MwlRnPF6O58l",
        "outputId": "6f1d38f9-b562-40a7-8c69-cf7605ddf732"
      },
      "outputs": [
        {
          "data": {
            "text/plain": [
              "a    174.71\n",
              "j    172.85\n",
              "k    173.43\n",
              "b    172.20\n",
              "d    173.03\n",
              "y    173.99\n",
              "dtype: float64"
            ]
          },
          "execution_count": 49,
          "metadata": {},
          "output_type": "execute_result"
        }
      ],
      "source": [
        "s.index = ['a','j','k','b','d','y'] \n",
        "s"
      ]
    },
    {
      "cell_type": "markdown",
      "metadata": {
        "id": "6cGNQZwLfxIz"
      },
      "source": [
        "Series is like a list since it can be sliced by index:"
      ]
    },
    {
      "cell_type": "markdown",
      "metadata": {},
      "source": [
        "My own example:"
      ]
    },
    {
      "cell_type": "code",
      "execution_count": 50,
      "metadata": {
        "colab": {
          "base_uri": "https://localhost:8080/"
        },
        "id": "N9bBSg6cO58l",
        "outputId": "4fed1936-9b14-44ca-a4e8-6873d9b706d8"
      },
      "outputs": [
        {
          "name": "stdout",
          "output_type": "stream",
          "text": [
            "k    173.43\n",
            "b    172.20\n",
            "d    173.03\n",
            "y    173.99\n",
            "dtype: float64\n",
            "Series([], dtype: float64)\n"
          ]
        }
      ],
      "source": [
        "print(s[2:])\n",
        "print(s[:-8])"
      ]
    },
    {
      "cell_type": "markdown",
      "metadata": {
        "id": "5V25nViZfz3Z"
      },
      "source": [
        "Series is also like a dictionary whose values can be set or fetched by index label:"
      ]
    },
    {
      "cell_type": "markdown",
      "metadata": {},
      "source": [
        "My own example:"
      ]
    },
    {
      "cell_type": "code",
      "execution_count": 52,
      "metadata": {
        "colab": {
          "base_uri": "https://localhost:8080/"
        },
        "id": "b3Y0kKGYO58l",
        "outputId": "beb4aa36-3e49-4d1a-cf11-5309214e9e60"
      },
      "outputs": [
        {
          "name": "stdout",
          "output_type": "stream",
          "text": [
            "173.03\n",
            "a    174.71\n",
            "j    172.85\n",
            "k    173.43\n",
            "b    172.20\n",
            "d    174.02\n",
            "y    173.99\n",
            "dtype: float64\n"
          ]
        }
      ],
      "source": [
        "print(s[4])\n",
        "s[4] = 174.02 \n",
        "print(s)"
      ]
    },
    {
      "cell_type": "markdown",
      "metadata": {
        "id": "RQ1P7Gkyf060"
      },
      "source": [
        "Series can also have a name attribute, which will be used when we make up a Pandas DataFrame using several series."
      ]
    },
    {
      "cell_type": "markdown",
      "metadata": {},
      "source": [
        "My own example:"
      ]
    },
    {
      "cell_type": "code",
      "execution_count": 53,
      "metadata": {
        "colab": {
          "base_uri": "https://localhost:8080/"
        },
        "id": "ZeD4-p7KO58m",
        "outputId": "add952eb-4ac8-49d4-c63b-59fe3da953a5"
      },
      "outputs": [
        {
          "name": "stdout",
          "output_type": "stream",
          "text": [
            "0    174.71\n",
            "1    172.85\n",
            "2    173.43\n",
            "3    172.20\n",
            "4    173.03\n",
            "5    173.99\n",
            "Name: Updated Apple Price List, dtype: float64\n",
            "Updated Apple Price List\n"
          ]
        }
      ],
      "source": [
        "s = pd.Series(price, name = 'Updated Apple Price List')\n",
        "print(s)\n",
        "print(s.name)"
      ]
    },
    {
      "cell_type": "markdown",
      "metadata": {
        "id": "geJb1pGHf5Et"
      },
      "source": [
        "We can get the statistical summaries of a Series:"
      ]
    },
    {
      "cell_type": "markdown",
      "metadata": {},
      "source": [
        "My own example:"
      ]
    },
    {
      "cell_type": "code",
      "execution_count": 54,
      "metadata": {
        "colab": {
          "base_uri": "https://localhost:8080/"
        },
        "id": "mGPtFcjegm4i",
        "outputId": "c755fd81-f5cc-4e33-ac06-0286c3710356"
      },
      "outputs": [
        {
          "name": "stdout",
          "output_type": "stream",
          "text": [
            "count      6.000000\n",
            "mean     173.368333\n",
            "std        0.887523\n",
            "min      172.200000\n",
            "25%      172.895000\n",
            "50%      173.230000\n",
            "75%      173.850000\n",
            "max      174.710000\n",
            "Name: Updated Apple Price List, dtype: float64\n"
          ]
        }
      ],
      "source": [
        "print(s.describe())"
      ]
    },
    {
      "cell_type": "markdown",
      "metadata": {
        "id": "LkdZu-CDgvlR"
      },
      "source": [
        "##  Time Index\n",
        "Pandas has a built-in function specifically for creating date indices: pd.date_range(). We use it to create a new index for our Series:"
      ]
    },
    {
      "cell_type": "markdown",
      "metadata": {},
      "source": [
        "My own example:"
      ]
    },
    {
      "cell_type": "code",
      "execution_count": 70,
      "metadata": {
        "colab": {
          "base_uri": "https://localhost:8080/"
        },
        "id": "HJe5hU4zO58m",
        "outputId": "9d621c1b-9219-4df0-e281-c205122a501e"
      },
      "outputs": [
        {
          "name": "stdout",
          "output_type": "stream",
          "text": [
            "DatetimeIndex(['2021-10-31', '2021-11-30', '2021-12-31', '2022-01-31',\n",
            "               '2022-02-28', '2022-03-31'],\n",
            "              dtype='datetime64[ns]', freq='M')\n",
            "2021-10-31    174.71\n",
            "2021-11-30    172.85\n",
            "2021-12-31    173.43\n",
            "2022-01-31    172.20\n",
            "2022-02-28    173.03\n",
            "2022-03-31    173.99\n",
            "Freq: M, Name: Updated Apple Price List, dtype: float64\n"
          ]
        }
      ],
      "source": [
        "time_index = pd.date_range('2021-10-01',periods = len(s),freq = 'M')\n",
        "print(time_index)\n",
        "s.index = time_index\n",
        "print(s)"
      ]
    },
    {
      "cell_type": "markdown",
      "metadata": {
        "id": "7WedejFZg19J"
      },
      "source": [
        "Series are usually accessed using the iloc[] and loc[] methods. iloc[] is used to access elements by integer index, and loc[] is used to access the index of the series.\n",
        "\n",
        "iloc[] is necessary when the index of a series are integers, take our previous defined series as example:"
      ]
    },
    {
      "cell_type": "markdown",
      "metadata": {},
      "source": [
        "My own example:"
      ]
    },
    {
      "cell_type": "code",
      "execution_count": 65,
      "metadata": {
        "colab": {
          "base_uri": "https://localhost:8080/"
        },
        "id": "KrVSOyMvO58m",
        "outputId": "53834718-43c5-4490-e361-2888f8651f96"
      },
      "outputs": [
        {
          "name": "stdout",
          "output_type": "stream",
          "text": [
            "a    174.71\n",
            "b    172.85\n",
            "c    173.43\n",
            "d    172.20\n",
            "e    173.03\n",
            "f    173.99\n",
            "Name: Updated Apple Price List, dtype: float64\n",
            "172.85\n"
          ]
        }
      ],
      "source": [
        "s.index = ['a','b','c','d','e','f']\n",
        "print(s)\n",
        "print(s[1])"
      ]
    },
    {
      "cell_type": "markdown",
      "metadata": {
        "id": "r30VKPtpg61p"
      },
      "source": [
        "If we intended to take the second element of the series, we would make a mistake here, because the index are integers. In order to access to the element we want, we use iloc[] here:"
      ]
    },
    {
      "cell_type": "markdown",
      "metadata": {},
      "source": [
        "My own example:"
      ]
    },
    {
      "cell_type": "code",
      "execution_count": 66,
      "metadata": {
        "colab": {
          "base_uri": "https://localhost:8080/"
        },
        "id": "bHukfaAmO58m",
        "outputId": "a75ed573-3d6e-45db-ece3-16aff3ced012"
      },
      "outputs": [
        {
          "name": "stdout",
          "output_type": "stream",
          "text": [
            "173.03\n"
          ]
        }
      ],
      "source": [
        "print(s.iloc[4])"
      ]
    },
    {
      "cell_type": "markdown",
      "metadata": {
        "id": "kHVBRL_Rg84j"
      },
      "source": [
        "While working with time series data, we often use time as the index. Pandas provides us with various methods to access the data by time index"
      ]
    },
    {
      "cell_type": "markdown",
      "metadata": {},
      "source": [
        "My own example:"
      ]
    },
    {
      "cell_type": "code",
      "execution_count": 74,
      "metadata": {
        "colab": {
          "base_uri": "https://localhost:8080/"
        },
        "id": "FCf8Hg7jO58n",
        "outputId": "b095c269-31ed-40e4-e4a8-d6d0b0b1a46d"
      },
      "outputs": [
        {
          "name": "stdout",
          "output_type": "stream",
          "text": [
            "173.43\n"
          ]
        }
      ],
      "source": [
        "s.index = time_index\n",
        "print(s['2021-12-31'])"
      ]
    },
    {
      "cell_type": "markdown",
      "metadata": {
        "id": "XJXcrSFpg-To"
      },
      "source": [
        "We can even access to a range of dates:"
      ]
    },
    {
      "cell_type": "markdown",
      "metadata": {},
      "source": [
        "My own example:"
      ]
    },
    {
      "cell_type": "code",
      "execution_count": 75,
      "metadata": {
        "colab": {
          "base_uri": "https://localhost:8080/"
        },
        "id": "NsE-Lr_9O58n",
        "outputId": "ecfd6e32-3661-4448-d4d7-9bf37fbe74c9"
      },
      "outputs": [
        {
          "name": "stdout",
          "output_type": "stream",
          "text": [
            "2021-11-30    172.85\n",
            "2021-12-31    173.43\n",
            "2022-01-31    172.20\n",
            "Freq: M, Name: Updated Apple Price List, dtype: float64\n"
          ]
        }
      ],
      "source": [
        "print(s['2021-11-30':'2022-01-31'])"
      ]
    },
    {
      "cell_type": "markdown",
      "metadata": {
        "id": "cWA3NCXEhCLB"
      },
      "source": [
        "Series[] provides us a very flexible way to index data. We can add any condition in the square brackets:"
      ]
    },
    {
      "cell_type": "markdown",
      "metadata": {},
      "source": [
        "My own example:"
      ]
    },
    {
      "cell_type": "code",
      "execution_count": 77,
      "metadata": {
        "colab": {
          "base_uri": "https://localhost:8080/"
        },
        "id": "aawbrg2EO58n",
        "outputId": "2df57a9d-6d50-4e9a-fbf9-b281692ec3d2"
      },
      "outputs": [
        {
          "name": "stdout",
          "output_type": "stream",
          "text": [
            "2021-11-30    172.85\n",
            "2022-01-31    172.20\n",
            "2022-02-28    173.03\n",
            "Name: Updated Apple Price List, dtype: float64\n",
            "[2021-10-31    False\n",
            "2021-11-30    False\n",
            "2021-12-31     True\n",
            "2022-01-31    False\n",
            "2022-02-28    False\n",
            "2022-03-31     True\n",
            "Freq: M, Name: Updated Apple Price List, dtype: bool]\n"
          ]
        }
      ],
      "source": [
        "print(s[s < np.mean(s)] )\n",
        "print([(s > np.mean(s)) & (s < np.mean(s) + 1.02*np.std(s))])"
      ]
    },
    {
      "cell_type": "markdown",
      "metadata": {
        "id": "jAByChIwhEuI"
      },
      "source": [
        "As demonstrated, we can use logical operators like & (and), | (or) and ~ (not) to group multiple conditions.\n",
        "\n",
        "# Summary\n",
        "Here we have introduced NumPy and Pandas for scientific computing in Python. In the next chapter, we will dive into Pandas to learn resampling and manipulating Pandas DataFrame, which are commonly used in financial data analysis."
      ]
    },
    {
      "cell_type": "markdown",
      "metadata": {
        "id": "OtjOpw6oJp6z"
      },
      "source": [
        "<div align=\"center\">\n",
        "<img style=\"display: block; margin: auto;\" alt=\"photo\" src=\"https://cdn.quantconnect.com/web/i/icon.png\"> <img style=\"display: block; margin: auto;\" alt=\"photo\" src=\"https://www.marketing-branding.com/wp-content/uploads/2020/07/google-colaboratory-colab-guia-completa.jpg \" width=\"50\" height=\"50\">\n",
        "<img style=\"display: block; margin: auto;\" alt=\"photo\" src=\"https://upload.wikimedia.org/wikipedia/commons/d/da/Yahoo_Finance_Logo_2019.svg\" width=\"50\" height=\"50\">  \n",
        "\n",
        "Quantconnect -> Google Colab with Yahoo Finance data\n",
        "\n",
        "Introduction to Financial Python\n",
        "</div>\n",
        "\n",
        "# 05 Pandas-Resampling and DataFrame\n",
        "\n",
        "# Introduction\n",
        "In the last chapter we had a glimpse of Pandas. In this chapter we will learn about resampling methods and the DataFrame object, which is a powerful tool for financial data analysis.\n",
        "\n",
        "# Fetching Data\n",
        "Here we use the Yahoo Finance to retrieve data.\n"
      ]
    },
    {
      "cell_type": "markdown",
      "metadata": {},
      "source": [
        "Unable to my own example:"
      ]
    },
    {
      "cell_type": "code",
      "execution_count": 1,
      "metadata": {
        "colab": {
          "base_uri": "https://localhost:8080/"
        },
        "id": "luU8mZTsHW9x",
        "outputId": "76b8f8ba-d5ad-4c26-bf56-496ec9168fdd"
      },
      "outputs": [
        {
          "name": "stdout",
          "output_type": "stream",
          "text": [
            "Defaulting to user installation because normal site-packages is not writeable\n",
            "Requirement already satisfied: yfinance in /home/stiven/.local/lib/python3.10/site-packages (0.1.70)\n",
            "Requirement already satisfied: pandas>=0.24.0 in /usr/lib/python3.10/site-packages (from yfinance) (1.4.2)\n",
            "Requirement already satisfied: multitasking>=0.0.7 in /home/stiven/.local/lib/python3.10/site-packages (from yfinance) (0.0.10)\n",
            "Requirement already satisfied: lxml>=4.5.1 in /usr/lib/python3.10/site-packages (from yfinance) (4.8.0)\n",
            "Requirement already satisfied: requests>=2.26 in /usr/lib/python3.10/site-packages (from yfinance) (2.27.1)\n",
            "Requirement already satisfied: numpy>=1.15 in /home/stiven/.local/lib/python3.10/site-packages (from yfinance) (1.22.3)\n",
            "Requirement already satisfied: python-dateutil>=2.8.1 in /usr/lib/python3.10/site-packages (from pandas>=0.24.0->yfinance) (2.8.2)\n",
            "Requirement already satisfied: pytz>=2020.1 in /usr/lib/python3.10/site-packages (from pandas>=0.24.0->yfinance) (2022.1)\n",
            "Requirement already satisfied: six>=1.5 in /usr/lib/python3.10/site-packages (from python-dateutil>=2.8.1->pandas>=0.24.0->yfinance) (1.16.0)\n",
            "Requirement already satisfied: chardet>=3.0.2 in /usr/lib/python3.10/site-packages (from requests>=2.26->yfinance) (4.0.0)\n",
            "Requirement already satisfied: idna>=2.5 in /usr/lib/python3.10/site-packages (from requests>=2.26->yfinance) (3.3)\n",
            "Requirement already satisfied: urllib3>=1.21.1 in /usr/lib/python3.10/site-packages (from requests>=2.26->yfinance) (1.26.9)\n"
          ]
        }
      ],
      "source": [
        "!pip install yfinance"
      ]
    },
    {
      "cell_type": "markdown",
      "metadata": {},
      "source": [
        "My own example:"
      ]
    },
    {
      "cell_type": "code",
      "execution_count": 3,
      "metadata": {
        "colab": {
          "base_uri": "https://localhost:8080/",
          "height": 492
        },
        "id": "mWZ-nirTZHrE",
        "outputId": "212824b1-073d-4f95-a676-43101376d281"
      },
      "outputs": [
        {
          "name": "stdout",
          "output_type": "stream",
          "text": [
            "{'zip': '95014', 'sector': 'Technology', 'fullTimeEmployees': 100000, 'longBusinessSummary': 'Apple Inc. designs, manufactures, and markets smartphones, personal computers, tablets, wearables, and accessories worldwide. It also sells various related services. In addition, the company offers iPhone, a line of smartphones; Mac, a line of personal computers; iPad, a line of multi-purpose tablets; AirPods Max, an over-ear wireless headphone; and wearables, home, and accessories comprising AirPods, Apple TV, Apple Watch, Beats products, HomePod, and iPod touch. Further, it provides AppleCare support services; cloud services store services; and operates various platforms, including the App Store that allow customers to discover and download applications and digital content, such as books, music, video, games, and podcasts. Additionally, the company offers various services, such as Apple Arcade, a game subscription service; Apple Music, which offers users a curated listening experience with on-demand radio stations; Apple News+, a subscription news and magazine service; Apple TV+, which offers exclusive original content; Apple Card, a co-branded credit card; and Apple Pay, a cashless payment service, as well as licenses its intellectual property. The company serves consumers, and small and mid-sized businesses; and the education, enterprise, and government markets. It distributes third-party applications for its products through the App Store. The company also sells its products through its retail and online stores, and direct sales force; and third-party cellular network carriers, wholesalers, retailers, and resellers. Apple Inc. was incorporated in 1977 and is headquartered in Cupertino, California.', 'city': 'Cupertino', 'phone': '408 996 1010', 'state': 'CA', 'country': 'United States', 'companyOfficers': [], 'website': 'https://www.apple.com', 'maxAge': 1, 'address1': 'One Apple Park Way', 'industry': 'Consumer Electronics', 'ebitdaMargins': 0.33890998, 'profitMargins': 0.26579002, 'grossMargins': 0.43019, 'operatingCashflow': 112241000448, 'revenueGrowth': 0.112, 'operatingMargins': 0.309, 'ebitda': 128217997312, 'targetLowPrice': 160, 'recommendationKey': 'buy', 'grossProfits': 152836000000, 'freeCashflow': 80153247744, 'targetMedianPrice': 199.5, 'currentPrice': 174.31, 'earningsGrowth': 0.25, 'currentRatio': 1.038, 'returnOnAssets': 0.19875, 'numberOfAnalystOpinions': 44, 'targetMeanPrice': 193.53, 'debtToEquity': 170.714, 'returnOnEquity': 1.45567, 'targetHighPrice': 215, 'totalCash': 63913000960, 'totalDebt': 122797998080, 'totalRevenue': 378323009536, 'totalCashPerShare': 3.916, 'financialCurrency': 'USD', 'revenuePerShare': 22.838, 'quickRatio': 0.875, 'recommendationMean': 1.8, 'exchange': 'NMS', 'shortName': 'Apple Inc.', 'longName': 'Apple Inc.', 'exchangeTimezoneName': 'America/New_York', 'exchangeTimezoneShortName': 'EDT', 'isEsgPopulated': False, 'gmtOffSetMilliseconds': '-14400000', 'quoteType': 'EQUITY', 'symbol': 'AAPL', 'messageBoardId': 'finmb_24937', 'market': 'us_market', 'annualHoldingsTurnover': None, 'enterpriseToRevenue': 7.675, 'beta3Year': None, 'enterpriseToEbitda': 22.645, '52WeekChange': 0.38451147, 'morningStarRiskRating': None, 'forwardEps': 6.56, 'revenueQuarterlyGrowth': None, 'sharesOutstanding': 16319399936, 'fundInceptionDate': None, 'annualReportExpenseRatio': None, 'totalAssets': None, 'bookValue': 4.402, 'sharesShort': 111286790, 'sharesPercentSharesOut': 0.0068, 'fundFamily': None, 'lastFiscalYearEnd': 1632528000, 'heldPercentInstitutions': 0.59365004, 'netIncomeToCommon': 100554997760, 'trailingEps': 6.015, 'lastDividendValue': 0.22, 'SandP52WeekChange': 0.11475241, 'priceToBook': 39.59791, 'heldPercentInsiders': 0.0007, 'nextFiscalYearEnd': 1695600000, 'yield': None, 'mostRecentQuarter': 1640390400, 'shortRatio': 1.21, 'sharesShortPreviousMonthDate': 1644883200, 'floatShares': 16302795170, 'beta': 1.185531, 'enterpriseValue': 2903526866944, 'priceHint': 2, 'threeYearAverageReturn': None, 'lastSplitDate': 1598832000, 'lastSplitFactor': '4:1', 'legalType': None, 'lastDividendDate': 1643932800, 'morningStarOverallRating': None, 'earningsQuarterlyGrowth': 0.204, 'priceToSalesTrailing12Months': 7.5190635, 'dateShortInterest': 1647302400, 'pegRatio': 1.91, 'ytdReturn': None, 'forwardPE': 26.571646, 'lastCapGain': None, 'shortPercentOfFloat': 0.0068, 'sharesShortPriorMonth': 108944701, 'impliedSharesOutstanding': 0, 'category': None, 'fiveYearAverageReturn': None, 'previousClose': 174.61, 'regularMarketOpen': 174.03, 'twoHundredDayAverage': 156.7106, 'trailingAnnualDividendYield': 0.004953897, 'payoutRatio': 0.1434, 'volume24Hr': None, 'regularMarketDayHigh': 174.88, 'navPrice': None, 'averageDailyVolume10Day': 91142730, 'regularMarketPreviousClose': 174.61, 'fiftyDayAverage': 167.021, 'trailingAnnualDividendRate': 0.865, 'open': 174.03, 'toCurrency': None, 'averageVolume10days': 91142730, 'expireDate': None, 'algorithm': None, 'dividendRate': 0.88, 'exDividendDate': 1643932800, 'circulatingSupply': None, 'startDate': None, 'regularMarketDayLow': 171.94, 'currency': 'USD', 'trailingPE': 28.97922, 'regularMarketVolume': 78751328, 'lastMarket': None, 'maxSupply': None, 'openInterest': None, 'marketCap': 2844634644480, 'volumeAllCurrencies': None, 'strikePrice': None, 'averageVolume': 95007943, 'dayLow': 171.94, 'ask': 174.04, 'askSize': 800, 'volume': 78751328, 'fiftyTwoWeekHigh': 182.94, 'fromCurrency': None, 'fiveYearAvgDividendYield': 1.11, 'fiftyTwoWeekLow': 122.25, 'bid': 174, 'tradeable': False, 'dividendYield': 0.005, 'bidSize': 1000, 'dayHigh': 174.88, 'regularMarketPrice': 174.31, 'preMarketPrice': None, 'logo_url': 'https://logo.clearbit.com/apple.com', 'trailingPegRatio': 3.4758}\n"
          ]
        },
        {
          "data": {
            "text/html": [
              "<div>\n",
              "<style scoped>\n",
              "    .dataframe tbody tr th:only-of-type {\n",
              "        vertical-align: middle;\n",
              "    }\n",
              "\n",
              "    .dataframe tbody tr th {\n",
              "        vertical-align: top;\n",
              "    }\n",
              "\n",
              "    .dataframe thead th {\n",
              "        text-align: right;\n",
              "    }\n",
              "</style>\n",
              "<table border=\"1\" class=\"dataframe\">\n",
              "  <thead>\n",
              "    <tr style=\"text-align: right;\">\n",
              "      <th></th>\n",
              "      <th>Open</th>\n",
              "      <th>High</th>\n",
              "      <th>Low</th>\n",
              "      <th>Close</th>\n",
              "      <th>Volume</th>\n",
              "      <th>Dividends</th>\n",
              "      <th>Stock Splits</th>\n",
              "    </tr>\n",
              "    <tr>\n",
              "      <th>Date</th>\n",
              "      <th></th>\n",
              "      <th></th>\n",
              "      <th></th>\n",
              "      <th></th>\n",
              "      <th></th>\n",
              "      <th></th>\n",
              "      <th></th>\n",
              "    </tr>\n",
              "  </thead>\n",
              "  <tbody>\n",
              "    <tr>\n",
              "      <th>2020-01-02</th>\n",
              "      <td>72.883156</td>\n",
              "      <td>73.955840</td>\n",
              "      <td>72.624831</td>\n",
              "      <td>73.894333</td>\n",
              "      <td>135480400</td>\n",
              "      <td>0.0</td>\n",
              "      <td>0.0</td>\n",
              "    </tr>\n",
              "    <tr>\n",
              "      <th>2020-01-03</th>\n",
              "      <td>73.107046</td>\n",
              "      <td>73.950919</td>\n",
              "      <td>72.947130</td>\n",
              "      <td>73.175934</td>\n",
              "      <td>146322800</td>\n",
              "      <td>0.0</td>\n",
              "      <td>0.0</td>\n",
              "    </tr>\n",
              "    <tr>\n",
              "      <th>2020-01-06</th>\n",
              "      <td>72.280383</td>\n",
              "      <td>73.798368</td>\n",
              "      <td>72.024513</td>\n",
              "      <td>73.759003</td>\n",
              "      <td>118387200</td>\n",
              "      <td>0.0</td>\n",
              "      <td>0.0</td>\n",
              "    </tr>\n",
              "    <tr>\n",
              "      <th>2020-01-07</th>\n",
              "      <td>73.768837</td>\n",
              "      <td>74.029625</td>\n",
              "      <td>73.188216</td>\n",
              "      <td>73.412102</td>\n",
              "      <td>108872000</td>\n",
              "      <td>0.0</td>\n",
              "      <td>0.0</td>\n",
              "    </tr>\n",
              "    <tr>\n",
              "      <th>2020-01-08</th>\n",
              "      <td>73.109496</td>\n",
              "      <td>74.900575</td>\n",
              "      <td>73.109496</td>\n",
              "      <td>74.593040</td>\n",
              "      <td>132079200</td>\n",
              "      <td>0.0</td>\n",
              "      <td>0.0</td>\n",
              "    </tr>\n",
              "    <tr>\n",
              "      <th>...</th>\n",
              "      <td>...</td>\n",
              "      <td>...</td>\n",
              "      <td>...</td>\n",
              "      <td>...</td>\n",
              "      <td>...</td>\n",
              "      <td>...</td>\n",
              "      <td>...</td>\n",
              "    </tr>\n",
              "    <tr>\n",
              "      <th>2021-12-23</th>\n",
              "      <td>175.626249</td>\n",
              "      <td>176.624977</td>\n",
              "      <td>175.046985</td>\n",
              "      <td>176.055695</td>\n",
              "      <td>68356600</td>\n",
              "      <td>0.0</td>\n",
              "      <td>0.0</td>\n",
              "    </tr>\n",
              "    <tr>\n",
              "      <th>2021-12-27</th>\n",
              "      <td>176.864657</td>\n",
              "      <td>180.190422</td>\n",
              "      <td>176.844694</td>\n",
              "      <td>180.100540</td>\n",
              "      <td>74919600</td>\n",
              "      <td>0.0</td>\n",
              "      <td>0.0</td>\n",
              "    </tr>\n",
              "    <tr>\n",
              "      <th>2021-12-28</th>\n",
              "      <td>179.930762</td>\n",
              "      <td>181.099272</td>\n",
              "      <td>178.302832</td>\n",
              "      <td>179.061859</td>\n",
              "      <td>79144300</td>\n",
              "      <td>0.0</td>\n",
              "      <td>0.0</td>\n",
              "    </tr>\n",
              "    <tr>\n",
              "      <th>2021-12-29</th>\n",
              "      <td>179.101809</td>\n",
              "      <td>180.400158</td>\n",
              "      <td>177.913321</td>\n",
              "      <td>179.151749</td>\n",
              "      <td>62348900</td>\n",
              "      <td>0.0</td>\n",
              "      <td>0.0</td>\n",
              "    </tr>\n",
              "    <tr>\n",
              "      <th>2021-12-30</th>\n",
              "      <td>179.241640</td>\n",
              "      <td>180.340246</td>\n",
              "      <td>177.863391</td>\n",
              "      <td>177.973251</td>\n",
              "      <td>59773000</td>\n",
              "      <td>0.0</td>\n",
              "      <td>0.0</td>\n",
              "    </tr>\n",
              "  </tbody>\n",
              "</table>\n",
              "<p>504 rows × 7 columns</p>\n",
              "</div>"
            ],
            "text/plain": [
              "                  Open        High         Low       Close     Volume  \\\n",
              "Date                                                                    \n",
              "2020-01-02   72.883156   73.955840   72.624831   73.894333  135480400   \n",
              "2020-01-03   73.107046   73.950919   72.947130   73.175934  146322800   \n",
              "2020-01-06   72.280383   73.798368   72.024513   73.759003  118387200   \n",
              "2020-01-07   73.768837   74.029625   73.188216   73.412102  108872000   \n",
              "2020-01-08   73.109496   74.900575   73.109496   74.593040  132079200   \n",
              "...                ...         ...         ...         ...        ...   \n",
              "2021-12-23  175.626249  176.624977  175.046985  176.055695   68356600   \n",
              "2021-12-27  176.864657  180.190422  176.844694  180.100540   74919600   \n",
              "2021-12-28  179.930762  181.099272  178.302832  179.061859   79144300   \n",
              "2021-12-29  179.101809  180.400158  177.913321  179.151749   62348900   \n",
              "2021-12-30  179.241640  180.340246  177.863391  177.973251   59773000   \n",
              "\n",
              "            Dividends  Stock Splits  \n",
              "Date                                 \n",
              "2020-01-02        0.0           0.0  \n",
              "2020-01-03        0.0           0.0  \n",
              "2020-01-06        0.0           0.0  \n",
              "2020-01-07        0.0           0.0  \n",
              "2020-01-08        0.0           0.0  \n",
              "...               ...           ...  \n",
              "2021-12-23        0.0           0.0  \n",
              "2021-12-27        0.0           0.0  \n",
              "2021-12-28        0.0           0.0  \n",
              "2021-12-29        0.0           0.0  \n",
              "2021-12-30        0.0           0.0  \n",
              "\n",
              "[504 rows x 7 columns]"
            ]
          },
          "execution_count": 3,
          "metadata": {},
          "output_type": "execute_result"
        }
      ],
      "source": [
        "import yfinance as yf\n",
        "\n",
        "aapl = yf.Ticker(\"AAPL\")\n",
        "\n",
        "# get stock info\n",
        "print(aapl.info)\n",
        "\n",
        "# get historical market data\n",
        "aapl_table = aapl.history(start=\"2020-01-01\",  end=\"2021-12-31\")\n",
        "aapl_table"
      ]
    },
    {
      "cell_type": "markdown",
      "metadata": {
        "id": "NkFztSYhJyVA"
      },
      "source": [
        "We will create a Series named \"aapl\" whose values are Apple's daily closing prices, which are of course indexed by dates:"
      ]
    },
    {
      "cell_type": "markdown",
      "metadata": {},
      "source": [
        "My own example:"
      ]
    },
    {
      "cell_type": "code",
      "execution_count": 4,
      "metadata": {
        "id": "QDJbOpCeHW91"
      },
      "outputs": [],
      "source": [
        "aapl = aapl_table['Close']['2021']"
      ]
    },
    {
      "cell_type": "code",
      "execution_count": 5,
      "metadata": {
        "colab": {
          "base_uri": "https://localhost:8080/"
        },
        "id": "SXfgCQJOHW91",
        "outputId": "3edebb45-f7b8-43b4-c41d-1fb005c5c443"
      },
      "outputs": [
        {
          "name": "stdout",
          "output_type": "stream",
          "text": [
            "Date\n",
            "2021-01-04    128.453430\n",
            "2021-01-05    130.041611\n",
            "2021-01-06    125.664207\n",
            "2021-01-07    129.952271\n",
            "2021-01-08    131.073929\n",
            "                 ...    \n",
            "2021-12-23    176.055695\n",
            "2021-12-27    180.100540\n",
            "2021-12-28    179.061859\n",
            "2021-12-29    179.151749\n",
            "2021-12-30    177.973251\n",
            "Name: Close, Length: 251, dtype: float64\n"
          ]
        }
      ],
      "source": [
        "print(aapl)"
      ]
    },
    {
      "cell_type": "markdown",
      "metadata": {
        "id": "waUEgBhzKEcA"
      },
      "source": [
        "Recall that we can fetch a specific data point using series['yyyy-mm-dd']. We can also fetch the data in a specific month using series['yyyy-mm']."
      ]
    },
    {
      "cell_type": "markdown",
      "metadata": {},
      "source": [
        "My own example:"
      ]
    },
    {
      "cell_type": "code",
      "execution_count": 7,
      "metadata": {
        "colab": {
          "base_uri": "https://localhost:8080/"
        },
        "id": "2gS50G0zHW92",
        "outputId": "c964a391-f9db-450d-aa01-52e041570c4e"
      },
      "outputs": [
        {
          "name": "stdout",
          "output_type": "stream",
          "text": [
            "Date\n",
            "2021-03-01    127.034973\n",
            "2021-03-02    124.380745\n",
            "2021-03-03    121.338821\n",
            "2021-03-04    119.420219\n",
            "2021-03-05    120.702599\n",
            "2021-03-08    115.672501\n",
            "2021-03-09    120.374550\n",
            "2021-03-10    119.271118\n",
            "2021-03-11    121.239418\n",
            "2021-03-12    120.314903\n",
            "2021-03-15    123.257423\n",
            "2021-03-16    124.828087\n",
            "2021-03-17    124.022873\n",
            "2021-03-18    119.817856\n",
            "2021-03-19    119.281052\n",
            "2021-03-22    122.660965\n",
            "2021-03-23    121.815979\n",
            "2021-03-24    119.380455\n",
            "2021-03-25    119.877502\n",
            "2021-03-26    120.493843\n",
            "2021-03-29    120.672783\n",
            "2021-03-30    119.191582\n",
            "2021-03-31    121.428284\n",
            "Name: Close, dtype: float64\n"
          ]
        }
      ],
      "source": [
        "print(aapl['2021-3'])"
      ]
    },
    {
      "cell_type": "markdown",
      "metadata": {},
      "source": [
        "My own example:"
      ]
    },
    {
      "cell_type": "code",
      "execution_count": 8,
      "metadata": {
        "colab": {
          "base_uri": "https://localhost:8080/"
        },
        "id": "vpvxGwXtHW92",
        "outputId": "5b1625b9-71e5-4db7-99c4-a4914e3922c2"
      },
      "outputs": [
        {
          "data": {
            "text/plain": [
              "Date\n",
              "2021-01-04    128.453430\n",
              "2021-01-05    130.041611\n",
              "2021-01-06    125.664207\n",
              "2021-01-07    129.952271\n",
              "2021-01-08    131.073929\n",
              "                 ...    \n",
              "2021-04-26    133.924026\n",
              "2021-04-27    133.595963\n",
              "2021-04-28    132.790756\n",
              "2021-04-29    132.691345\n",
              "2021-04-30    130.683289\n",
              "Name: Close, Length: 82, dtype: float64"
            ]
          },
          "execution_count": 8,
          "metadata": {},
          "output_type": "execute_result"
        }
      ],
      "source": [
        "aapl['2021-1':'2021-4']"
      ]
    },
    {
      "cell_type": "markdown",
      "metadata": {
        "id": "lWwoD39pKNKb"
      },
      "source": [
        ".head(N) and .tail(N) are methods for quickly accessing the first or last N elements."
      ]
    },
    {
      "cell_type": "markdown",
      "metadata": {},
      "source": [
        "My own example:"
      ]
    },
    {
      "cell_type": "code",
      "execution_count": 9,
      "metadata": {
        "colab": {
          "base_uri": "https://localhost:8080/"
        },
        "id": "1eU218ALHW93",
        "outputId": "a5c6f29f-9b4e-45ab-ec16-381ebf0defd3"
      },
      "outputs": [
        {
          "name": "stdout",
          "output_type": "stream",
          "text": [
            "Date\n",
            "2021-01-04    128.453430\n",
            "2021-01-05    130.041611\n",
            "2021-01-06    125.664207\n",
            "Name: Close, dtype: float64\n",
            "Date\n",
            "2021-12-21    172.769882\n",
            "2021-12-22    175.416504\n",
            "2021-12-23    176.055695\n",
            "2021-12-27    180.100540\n",
            "2021-12-28    179.061859\n",
            "2021-12-29    179.151749\n",
            "2021-12-30    177.973251\n",
            "Name: Close, dtype: float64\n"
          ]
        }
      ],
      "source": [
        "print(aapl.head(3))\n",
        "print(aapl.tail(7))"
      ]
    },
    {
      "cell_type": "markdown",
      "metadata": {
        "id": "IxhKxtj-KQ66"
      },
      "source": [
        "# Resampling\n",
        "**_series.resample(freq)_** is a class called \"DatetimeIndexResampler\" which groups data in a Series object into regular time intervals. The argument \"freq\" determines the length of each interval.\n",
        "\n",
        "**_series.resample.mean()_** is a complete statement that groups data into intervals, and then compute the mean of each interval. For example, if we want to aggregate the daily data into monthly data by mean:"
      ]
    },
    {
      "cell_type": "markdown",
      "metadata": {},
      "source": [
        "My own example:"
      ]
    },
    {
      "cell_type": "code",
      "execution_count": 13,
      "metadata": {
        "colab": {
          "base_uri": "https://localhost:8080/"
        },
        "id": "rAV8NkHkHW93",
        "outputId": "c29d30ec-ab67-43e8-de4f-ccf601869faf"
      },
      "outputs": [
        {
          "name": "stdout",
          "output_type": "stream",
          "text": [
            "Date\n",
            "2021-01-31    132.053480\n",
            "2021-02-28    130.712249\n",
            "2021-03-31    121.151240\n",
            "2021-04-30    131.034056\n",
            "2021-05-31    126.205239\n",
            "2021-06-30    129.410229\n",
            "2021-07-31    144.527056\n",
            "2021-08-31    147.733710\n",
            "2021-09-30    147.901622\n",
            "2021-10-31    145.166724\n",
            "2021-11-30    154.017752\n",
            "2021-12-31    173.140836\n",
            "Freq: M, Name: Close, dtype: float64\n"
          ]
        }
      ],
      "source": [
        "by_month = aapl.resample('M').mean()\n",
        "print(by_month)"
      ]
    },
    {
      "cell_type": "markdown",
      "metadata": {
        "id": "QDPfVzBEKV6Q"
      },
      "source": [
        "We can also aggregate the data by week:"
      ]
    },
    {
      "cell_type": "markdown",
      "metadata": {},
      "source": [
        "My own example:"
      ]
    },
    {
      "cell_type": "code",
      "execution_count": 14,
      "metadata": {
        "colab": {
          "base_uri": "https://localhost:8080/"
        },
        "id": "aAP3tKkBHW94",
        "outputId": "7a27268b-2052-445d-d0c0-f0d53f680de9"
      },
      "outputs": [
        {
          "name": "stdout",
          "output_type": "stream",
          "text": [
            "Date\n",
            "2021-01-10    129.037090\n",
            "2021-01-17    127.990894\n",
            "2021-01-24    132.959890\n",
            "2021-01-31    138.407327\n",
            "2021-02-07    134.483414\n",
            "Freq: W-SUN, Name: Close, dtype: float64\n"
          ]
        }
      ],
      "source": [
        "by_week = aapl.resample('W').mean()\n",
        "print(by_week.head())"
      ]
    },
    {
      "cell_type": "markdown",
      "metadata": {
        "id": "o_MXSVsILoBS"
      },
      "source": [
        "We can also aggregate the data by month with max:"
      ]
    },
    {
      "cell_type": "markdown",
      "metadata": {},
      "source": [
        "My own example:"
      ]
    },
    {
      "cell_type": "code",
      "execution_count": 15,
      "metadata": {
        "colab": {
          "base_uri": "https://localhost:8080/"
        },
        "id": "gn0wqXBTHW95",
        "outputId": "863ffe25-7dff-480c-eda8-ee995ebbd923"
      },
      "outputs": [
        {
          "data": {
            "text/plain": [
              "Date\n",
              "2021-01-31    142.101807\n",
              "2021-02-28    136.374466\n",
              "2021-03-31    127.034973\n",
              "2021-04-30    134.043320\n",
              "2021-05-31    131.756897\n",
              "2021-06-30    136.382050\n",
              "2021-07-31    148.520599\n",
              "2021-08-31    152.702301\n",
              "2021-09-30    156.262573\n",
              "2021-10-31    152.153809\n",
              "2021-11-30    165.089676\n",
              "2021-12-31    180.100540\n",
              "Freq: M, Name: Close, dtype: float64"
            ]
          },
          "execution_count": 15,
          "metadata": {},
          "output_type": "execute_result"
        }
      ],
      "source": [
        "aapl.resample('M').max()"
      ]
    },
    {
      "cell_type": "markdown",
      "metadata": {
        "id": "Z8r46UFlLdAh"
      },
      "source": [
        "We can choose almost any frequency by using the format 'nf', where 'n' is an integer and 'f' is M for month, W for week and D for day."
      ]
    },
    {
      "cell_type": "markdown",
      "metadata": {},
      "source": [
        "My own example:"
      ]
    },
    {
      "cell_type": "code",
      "execution_count": 16,
      "metadata": {
        "colab": {
          "base_uri": "https://localhost:8080/"
        },
        "id": "kdVB_-JFHW96",
        "outputId": "49704fff-b319-4947-b02e-e3f78f6bb972"
      },
      "outputs": [
        {
          "name": "stdout",
          "output_type": "stream",
          "text": [
            "Date\n",
            "2021-01-04    128.527880\n",
            "2021-01-08    129.550270\n",
            "2021-01-12    127.981964\n",
            "2021-01-16    126.885124\n",
            "2021-01-20    134.984812\n",
            "                 ...    \n",
            "2021-12-14    174.035770\n",
            "2021-12-18    171.151939\n",
            "2021-12-22    175.736099\n",
            "2021-12-26    179.438049\n",
            "2021-12-30    177.973251\n",
            "Freq: 4D, Name: Close, Length: 91, dtype: float64\n",
            "Date\n",
            "2021-01-10    129.037090\n",
            "2021-01-31    133.130762\n",
            "2021-02-21    133.409481\n",
            "2021-03-14    121.703323\n",
            "2021-04-04    121.357282\n",
            "2021-04-25    131.050435\n",
            "2021-05-16    128.920946\n",
            "2021-06-06    125.045803\n",
            "2021-06-27    129.600784\n",
            "2021-07-18    141.855996\n",
            "2021-08-08    145.705798\n",
            "2021-08-29    147.724583\n",
            "2021-09-19    151.143705\n",
            "2021-10-10    142.853907\n",
            "2021-10-31    146.648861\n",
            "2021-11-21    151.258857\n",
            "2021-12-12    165.694611\n",
            "2022-01-02    175.517150\n",
            "Freq: 3W-SUN, Name: Close, dtype: float64\n",
            "Date\n",
            "2021-01-31    132.053480\n",
            "2021-06-30    127.551012\n",
            "2021-11-30    147.868093\n",
            "2022-04-30    173.140836\n",
            "Freq: 5M, Name: Close, dtype: float64\n"
          ]
        }
      ],
      "source": [
        "four_day = aapl.resample('4D').mean()\n",
        "three_week = aapl.resample('3W').mean()\n",
        "five_month = aapl.resample('5M').mean()\n",
        "\n",
        "\n",
        "print(four_day)\n",
        "print(three_week)\n",
        "print(five_month )"
      ]
    },
    {
      "cell_type": "markdown",
      "metadata": {
        "id": "iy4RqsnwL-Bw"
      },
      "source": [
        "Besides the mean() method, other methods can also be used with the resampler:\n",
        "\n"
      ]
    },
    {
      "cell_type": "markdown",
      "metadata": {},
      "source": [
        "My own example:"
      ]
    },
    {
      "cell_type": "code",
      "execution_count": 18,
      "metadata": {
        "colab": {
          "base_uri": "https://localhost:8080/"
        },
        "id": "DNT8Fx9dHW96",
        "outputId": "8b73ed41-5341-44f2-ffc3-478bd92f73f4"
      },
      "outputs": [
        {
          "name": "stdout",
          "output_type": "stream",
          "text": [
            "Date\n",
            "2021-01-31    5.403152\n",
            "2021-02-28    5.234171\n",
            "2021-03-31    2.399595\n",
            "2021-04-30    3.326270\n",
            "2021-05-31    2.166377\n",
            "2021-06-30    4.035028\n",
            "2021-07-31    2.928220\n",
            "2021-08-31    2.133222\n",
            "2021-09-30    4.615193\n",
            "2021-10-31    3.832522\n",
            "2021-11-30    5.507309\n",
            "2021-12-31    5.595869\n",
            "Freq: M, Name: Close, dtype: float64\n",
            "Date\n",
            "2021-01-31    142.101807\n",
            "2021-02-28    136.374466\n",
            "2021-03-31    127.034973\n",
            "2021-04-30    134.043320\n",
            "2021-05-31    131.756897\n",
            "2021-06-30    136.382050\n",
            "2021-07-31    148.520599\n",
            "2021-08-31    152.702301\n",
            "2021-09-30    156.262573\n",
            "2021-10-31    152.153809\n",
            "2021-11-30    165.089676\n",
            "2021-12-31    180.100540\n",
            "Freq: M, Name: Close, dtype: float64\n",
            "Date\n",
            "2021-01-31    125.664207\n",
            "2021-02-28    120.275146\n",
            "2021-03-31    115.672501\n",
            "2021-04-30    122.273270\n",
            "2021-05-31    122.251923\n",
            "2021-06-30    123.018684\n",
            "2021-07-31    136.690750\n",
            "2021-08-31    144.905945\n",
            "2021-09-30    141.113998\n",
            "2021-10-31    138.760437\n",
            "2021-11-30    147.681839\n",
            "2021-12-31    161.634064\n",
            "Freq: M, Name: Close, dtype: float64\n"
          ]
        }
      ],
      "source": [
        "std = aapl.resample('M').std()\n",
        "max = aapl.resample('M').max()\n",
        "min = aapl.resample('M').min()\n",
        "\n",
        "\n",
        "print(std)\n",
        "print(max)\n",
        "print(min)"
      ]
    },
    {
      "cell_type": "markdown",
      "metadata": {
        "id": "uqln0s5DMI3I"
      },
      "source": [
        "Often we want to calculate monthly returns of a stock, based on prices on the last day of each month. To fetch those prices, we use the series.resample.agg() method:"
      ]
    },
    {
      "cell_type": "markdown",
      "metadata": {},
      "source": [
        "My own example:"
      ]
    },
    {
      "cell_type": "code",
      "execution_count": 19,
      "metadata": {
        "colab": {
          "base_uri": "https://localhost:8080/"
        },
        "id": "A6FSYvqbHW97",
        "outputId": "2d8df5ca-cc77-40a4-fe0d-6c80266d3ca7"
      },
      "outputs": [
        {
          "name": "stdout",
          "output_type": "stream",
          "text": [
            "Date\n",
            "2021-01-31    130.984619\n",
            "2021-02-28    120.543549\n",
            "2021-03-31    121.428284\n",
            "2021-04-30    130.683289\n",
            "2021-05-31    124.084167\n",
            "2021-06-30    136.382050\n",
            "2021-07-31    145.244476\n",
            "2021-08-31    151.415817\n",
            "2021-09-30    141.113998\n",
            "2021-10-31    149.391357\n",
            "2021-11-30    165.089676\n",
            "2021-12-31    177.973251\n",
            "Freq: M, Name: Close, dtype: float64\n"
          ]
        }
      ],
      "source": [
        "last_day = aapl.resample('M').agg(lambda x: x[-1])\n",
        "print(last_day)"
      ]
    },
    {
      "cell_type": "markdown",
      "metadata": {
        "id": "uwomY3aXMR46"
      },
      "source": [
        "Or directly calculate the monthly rates of return using the data for the first day and the last day:"
      ]
    },
    {
      "cell_type": "markdown",
      "metadata": {},
      "source": [
        "My own example:"
      ]
    },
    {
      "cell_type": "code",
      "execution_count": 20,
      "metadata": {
        "colab": {
          "base_uri": "https://localhost:8080/"
        },
        "id": "qK2NMJrNHW96",
        "outputId": "b6ef704f-d164-486d-ad77-4b8391d02e5e"
      },
      "outputs": [
        {
          "name": "stdout",
          "output_type": "stream",
          "text": [
            "Date\n",
            "2021-01-10    0.020400\n",
            "2021-01-17   -0.014266\n",
            "2021-01-24    0.087929\n",
            "2021-01-31   -0.076686\n",
            "2021-02-07    0.021055\n",
            "2021-02-14   -0.011248\n",
            "2021-02-21   -0.024927\n",
            "2021-02-28   -0.037619\n",
            "2021-03-07   -0.049847\n",
            "2021-03-14    0.040134\n",
            "2021-03-21   -0.032261\n",
            "2021-03-28   -0.017668\n",
            "2021-04-04    0.013263\n",
            "2021-04-11    0.056394\n",
            "2021-04-18    0.022249\n",
            "2021-04-25   -0.003856\n",
            "2021-05-02   -0.024198\n",
            "2021-05-09   -0.015911\n",
            "2021-05-16    0.004730\n",
            "2021-05-23   -0.006652\n",
            "2021-05-30   -0.019591\n",
            "2021-06-06    0.012955\n",
            "2021-06-13    0.011517\n",
            "2021-06-20   -0.000153\n",
            "2021-06-27    0.006123\n",
            "2021-07-04    0.038433\n",
            "2021-07-11    0.021758\n",
            "2021-07-18    0.013080\n",
            "2021-07-25    0.042892\n",
            "2021-08-01   -0.021008\n",
            "2021-08-08    0.005765\n",
            "2021-08-15    0.020604\n",
            "2021-08-22   -0.019388\n",
            "2021-08-29   -0.007414\n",
            "2021-09-05    0.007706\n",
            "2021-09-12   -0.049269\n",
            "2021-09-19   -0.023337\n",
            "2021-09-26    0.027844\n",
            "2021-10-03   -0.018711\n",
            "2021-10-10    0.027023\n",
            "2021-10-17    0.014215\n",
            "2021-10-24    0.014603\n",
            "2021-10-31    0.007804\n",
            "2021-11-07    0.017057\n",
            "2021-11-14   -0.002991\n",
            "2021-11-21    0.070333\n",
            "2021-11-28   -0.026146\n",
            "2021-12-05    0.009985\n",
            "2021-12-12    0.085471\n",
            "2021-12-19   -0.026175\n",
            "2021-12-26    0.038468\n",
            "2022-01-02   -0.011812\n",
            "Freq: W-SUN, Name: Close, dtype: float64\n"
          ]
        }
      ],
      "source": [
        "monthly_return = aapl.resample('W').agg(lambda x: x[-1]/x[0] - 1)\n",
        "print(monthly_return)"
      ]
    },
    {
      "cell_type": "markdown",
      "metadata": {
        "id": "_DYbMTFWMj8J"
      },
      "source": [
        "Series object also provides us some convenient methods to do some quick calculation."
      ]
    },
    {
      "cell_type": "markdown",
      "metadata": {},
      "source": [
        "My own example:"
      ]
    },
    {
      "cell_type": "code",
      "execution_count": 21,
      "metadata": {
        "colab": {
          "base_uri": "https://localhost:8080/"
        },
        "id": "1Mxc0HwvHW98",
        "outputId": "d3f0a1bf-5cb9-453c-be0c-d672fd27802e"
      },
      "outputs": [
        {
          "name": "stdout",
          "output_type": "stream",
          "text": [
            "0.004204890670342678\n",
            "0.032283914151440156\n",
            "0.08792936986019018\n"
          ]
        }
      ],
      "source": [
        "print(monthly_return.mean())\n",
        "print(monthly_return.std())\n",
        "print(monthly_return.max())"
      ]
    },
    {
      "cell_type": "markdown",
      "metadata": {
        "id": "mn59J5dqMpqX"
      },
      "source": [
        "Another two methods frequently used on Series are .diff() and .pct_change(). The former calculates the difference between consecutive elements, and the latter calculates the percentage change."
      ]
    },
    {
      "cell_type": "markdown",
      "metadata": {},
      "source": [
        "My own example:"
      ]
    },
    {
      "cell_type": "code",
      "execution_count": 22,
      "metadata": {
        "colab": {
          "base_uri": "https://localhost:8080/"
        },
        "id": "DupZTSqqHW99",
        "outputId": "141cb6b9-3a98-4204-b65c-1291020b7745"
      },
      "outputs": [
        {
          "name": "stdout",
          "output_type": "stream",
          "text": [
            "Date\n",
            "2021-01-31          NaN\n",
            "2021-02-28   -10.441071\n",
            "2021-03-31     0.884735\n",
            "2021-04-30     9.255005\n",
            "2021-05-31    -6.599121\n",
            "2021-06-30    12.297882\n",
            "2021-07-31     8.862427\n",
            "2021-08-31     6.171341\n",
            "2021-09-30   -10.301819\n",
            "2021-10-31     8.277359\n",
            "2021-11-30    15.698318\n",
            "2021-12-31    12.883575\n",
            "Freq: M, Name: Close, dtype: float64\n",
            "Date\n",
            "2021-01-31         NaN\n",
            "2021-02-28   -0.079712\n",
            "2021-03-31    0.007340\n",
            "2021-04-30    0.076218\n",
            "2021-05-31   -0.050497\n",
            "2021-06-30    0.099109\n",
            "2021-07-31    0.064982\n",
            "2021-08-31    0.042489\n",
            "2021-09-30   -0.068037\n",
            "2021-10-31    0.058657\n",
            "2021-11-30    0.105082\n",
            "2021-12-31    0.078040\n",
            "Freq: M, Name: Close, dtype: float64\n"
          ]
        }
      ],
      "source": [
        "print(last_day.diff())\n",
        "print(last_day.pct_change())"
      ]
    },
    {
      "cell_type": "markdown",
      "metadata": {
        "id": "RaMAOFepM6Io"
      },
      "source": [
        "Notice that we induced a NaN value while calculating percentage changes i.e. returns.\n",
        "\n",
        "When dealing with NaN values, we usually either removing the data point or fill it with a specific value. Here we fill it with 0:"
      ]
    },
    {
      "cell_type": "markdown",
      "metadata": {},
      "source": [
        "My own example:"
      ]
    },
    {
      "cell_type": "code",
      "execution_count": 23,
      "metadata": {
        "colab": {
          "base_uri": "https://localhost:8080/"
        },
        "id": "-xyLb3A3HW99",
        "outputId": "9831c7d3-abb2-48f4-aaaa-b0451d8a1f53"
      },
      "outputs": [
        {
          "name": "stdout",
          "output_type": "stream",
          "text": [
            "Date\n",
            "2021-01-31    0.000000\n",
            "2021-02-28   -0.079712\n",
            "2021-03-31    0.007340\n",
            "2021-04-30    0.076218\n",
            "2021-05-31   -0.050497\n",
            "2021-06-30    0.099109\n",
            "2021-07-31    0.064982\n",
            "2021-08-31    0.042489\n",
            "2021-09-30   -0.068037\n",
            "2021-10-31    0.058657\n",
            "2021-11-30    0.105082\n",
            "2021-12-31    0.078040\n",
            "Freq: M, Name: Close, dtype: float64\n"
          ]
        }
      ],
      "source": [
        "daily_return = last_day.pct_change()\n",
        "print(daily_return.fillna(0))"
      ]
    },
    {
      "cell_type": "markdown",
      "metadata": {
        "id": "BYS10Om1NQVC"
      },
      "source": [
        "Alternatively, we can fill a NaN with the next fitted value. This is called 'backward fill', or 'bfill' in short:"
      ]
    },
    {
      "cell_type": "markdown",
      "metadata": {},
      "source": [
        "My own example:"
      ]
    },
    {
      "cell_type": "code",
      "execution_count": 24,
      "metadata": {
        "colab": {
          "base_uri": "https://localhost:8080/"
        },
        "id": "J513kHeKHW9-",
        "outputId": "3ab13c91-dcf3-46c7-94dd-39acf7616a79"
      },
      "outputs": [
        {
          "name": "stdout",
          "output_type": "stream",
          "text": [
            "Date\n",
            "2021-01-31   -0.079712\n",
            "2021-02-28   -0.079712\n",
            "2021-03-31    0.007340\n",
            "2021-04-30    0.076218\n",
            "2021-05-31   -0.050497\n",
            "2021-06-30    0.099109\n",
            "2021-07-31    0.064982\n",
            "2021-08-31    0.042489\n",
            "2021-09-30   -0.068037\n",
            "2021-10-31    0.058657\n",
            "2021-11-30    0.105082\n",
            "2021-12-31    0.078040\n",
            "Freq: M, Name: Close, dtype: float64\n"
          ]
        }
      ],
      "source": [
        "daily_return = last_day.pct_change()\n",
        "print(daily_return.fillna(method = 'bfill'))"
      ]
    },
    {
      "cell_type": "markdown",
      "metadata": {
        "id": "bj8QUSgdNepf"
      },
      "source": [
        "As expected, since there is a 'backward fill' method, there must be a 'forward fill' method, or 'ffill' in short. However we can't use it here because the NaN is the first value.\n",
        "\n",
        "We can also simply remove NaN values by **_.dropna()_**"
      ]
    },
    {
      "cell_type": "markdown",
      "metadata": {},
      "source": [
        "My own example:"
      ]
    },
    {
      "cell_type": "code",
      "execution_count": 25,
      "metadata": {
        "colab": {
          "base_uri": "https://localhost:8080/"
        },
        "id": "WG5ux1lqHW9-",
        "outputId": "8de2381f-7731-446b-c31f-be094e559ed3"
      },
      "outputs": [
        {
          "data": {
            "text/plain": [
              "Date\n",
              "2021-02-28   -0.079712\n",
              "2021-03-31    0.007340\n",
              "2021-04-30    0.076218\n",
              "2021-05-31   -0.050497\n",
              "2021-06-30    0.099109\n",
              "2021-07-31    0.064982\n",
              "2021-08-31    0.042489\n",
              "2021-09-30   -0.068037\n",
              "2021-10-31    0.058657\n",
              "2021-11-30    0.105082\n",
              "2021-12-31    0.078040\n",
              "Freq: M, Name: Close, dtype: float64"
            ]
          },
          "execution_count": 25,
          "metadata": {},
          "output_type": "execute_result"
        }
      ],
      "source": [
        "daily_return = last_day.pct_change()\n",
        "daily_return.dropna()"
      ]
    },
    {
      "cell_type": "markdown",
      "metadata": {
        "id": "nQH2eBWkNjdC"
      },
      "source": [
        "# DataFrame\n",
        "The **DataFrame** is the most commonly used data structure in Pandas. It is essentially a table, just like an Excel spreadsheet.\n",
        "\n",
        "More precisely, a DataFrame is a collection of Series objects, each of which may contain different data types. A DataFrame can be created from various data types: dictionary, 2-D numpy.ndarray, a Series or another DataFrame.\n",
        "\n",
        "##  Create DataFrames\n",
        "The most common method of creating a DataFrame is passing a dictionary:"
      ]
    },
    {
      "cell_type": "markdown",
      "metadata": {},
      "source": [
        "My own example:"
      ]
    },
    {
      "cell_type": "code",
      "execution_count": 27,
      "metadata": {
        "colab": {
          "base_uri": "https://localhost:8080/"
        },
        "id": "vd5Wf1ohHW9-",
        "outputId": "44179e64-8f91-4eac-9d41-bc81dac1603c"
      },
      "outputs": [
        {
          "name": "stdout",
          "output_type": "stream",
          "text": [
            "              AAPL     GOOG     IBM\n",
            "2022-03-29  174.34  2800.20  130.03\n",
            "2022-03-30  172.90  2853.42  130.72\n",
            "2022-03-31  177.86  2858.00  131.95\n",
            "2022-04-01  178.99  2838.98  131.42\n",
            "2022-04-02  174.98  2798.50  130.66\n"
          ]
        }
      ],
      "source": [
        "import pandas as pd\n",
        "\n",
        "dict = {'AAPL': [174.34, 172.90, 177.86, 178.99, 174.98],'GOOG':[2800.20, 2853.42, 2858.00, 2838.98, 2798.50],\n",
        "        'IBM':[130.03, 130.72, 131.95, 131.42, 130.66]}\n",
        "data_index = pd.date_range('2022-03-29',periods = 5, freq = 'D')\n",
        "df = pd.DataFrame(dict, index = data_index)\n",
        "print(df)"
      ]
    },
    {
      "cell_type": "markdown",
      "metadata": {
        "id": "0uYmLQTgOPnX"
      },
      "source": [
        "##  Manipulating DataFrames\n",
        "We can fetch values in a DataFrame by columns and index. Each column in a DataFrame is essentially a Pandas Series. We can fetch a column by square brackets: **df['column_name']**\n",
        "\n",
        "If a column name contains no spaces, then we can also use df.column_name to fetch a column:"
      ]
    },
    {
      "cell_type": "markdown",
      "metadata": {},
      "source": [
        "My own example:"
      ]
    },
    {
      "cell_type": "code",
      "execution_count": 29,
      "metadata": {
        "colab": {
          "base_uri": "https://localhost:8080/"
        },
        "id": "2pB2f7lBHW9_",
        "outputId": "fd17e613-08f4-470e-981d-727c3ddfb954"
      },
      "outputs": [
        {
          "name": "stdout",
          "output_type": "stream",
          "text": [
            "Date\n",
            "2021-12-27    180.100540\n",
            "2021-12-28    179.061859\n",
            "2021-12-29    179.151749\n",
            "2021-12-30    177.973251\n",
            "Name: Close, dtype: float64\n",
            "Date\n",
            "2021-12-27    74919600\n",
            "2021-12-28    79144300\n",
            "2021-12-29    62348900\n",
            "2021-12-30    59773000\n",
            "Name: Volume, dtype: int64\n"
          ]
        }
      ],
      "source": [
        "df = aapl_table\n",
        "print(df.Close.tail(4))\n",
        "print(df['Volume'].tail(4))"
      ]
    },
    {
      "cell_type": "markdown",
      "metadata": {
        "id": "z0ugOel9O4-P"
      },
      "source": [
        "All the methods we applied to a Series index such as iloc[], loc[] and resampling methods, can also be applied to a DataFrame:"
      ]
    },
    {
      "cell_type": "markdown",
      "metadata": {},
      "source": [
        "My own example:"
      ]
    },
    {
      "cell_type": "code",
      "execution_count": 30,
      "metadata": {
        "colab": {
          "base_uri": "https://localhost:8080/"
        },
        "id": "_8dfjkedHW9_",
        "outputId": "893c8607-cf18-4e12-a0d5-e697c91ac7c1"
      },
      "outputs": [
        {
          "name": "stdout",
          "output_type": "stream",
          "text": [
            "                  Open        High         Low       Close     Volume  \\\n",
            "Date                                                                    \n",
            "2021-01-31  134.826009  135.729286  129.247554  130.984619  177523800   \n",
            "2021-02-28  121.865685  124.112334  120.483898  120.543549  164560400   \n",
            "2021-03-31  120.931238  122.790184  120.434192  121.428284  118323800   \n",
            "2021-04-30  131.001390  132.770872  130.295593  130.683289  109839500   \n",
            "2021-05-31  125.040116  125.269148  124.024423  124.084167   71311100   \n",
            "2021-06-30  135.595375  136.830148  135.296638  136.382050   63261400   \n",
            "2021-07-31  143.770726  145.712494  143.501861  145.244476   70440600   \n",
            "2021-08-31  152.243555  152.383172  150.877282  151.415817   86453100   \n",
            "2021-09-30  143.268110  143.986147  140.894597  141.113998   89056700   \n",
            "2021-10-31  146.818394  149.530975  146.010606  149.391357  124953200   \n",
            "2021-11-30  159.786435  165.309397  159.716517  165.089676  174048100   \n",
            "2021-12-31  179.241640  180.340246  177.863391  177.973251   59773000   \n",
            "\n",
            "            Dividends  Stock Splits  \n",
            "Date                                 \n",
            "2021-01-31        0.0           0.0  \n",
            "2021-02-28        0.0           0.0  \n",
            "2021-03-31        0.0           0.0  \n",
            "2021-04-30        0.0           0.0  \n",
            "2021-05-31        0.0           0.0  \n",
            "2021-06-30        0.0           0.0  \n",
            "2021-07-31        0.0           0.0  \n",
            "2021-08-31        0.0           0.0  \n",
            "2021-09-30        0.0           0.0  \n",
            "2021-10-31        0.0           0.0  \n",
            "2021-11-30        0.0           0.0  \n",
            "2021-12-31        0.0           0.0  \n"
          ]
        },
        {
          "name": "stderr",
          "output_type": "stream",
          "text": [
            "/tmp/ipykernel_80715/3949169266.py:1: FutureWarning: Indexing a DataFrame with a datetimelike index using a single string to slice the rows, like `frame[string]`, is deprecated and will be removed in a future version. Use `frame.loc[string]` instead.\n",
            "  aapl_2021 = df['2021']\n"
          ]
        }
      ],
      "source": [
        "aapl_2021 = df['2021']\n",
        "aapl_month = aapl_2021.resample('M').agg(lambda x: x[-1])\n",
        "print(aapl_month)"
      ]
    },
    {
      "cell_type": "markdown",
      "metadata": {
        "id": "CqrbrbFZPTJe"
      },
      "source": [
        "We may select certain columns of a DataFrame using their names:"
      ]
    },
    {
      "cell_type": "markdown",
      "metadata": {},
      "source": [
        "My own example:"
      ]
    },
    {
      "cell_type": "code",
      "execution_count": 31,
      "metadata": {
        "colab": {
          "base_uri": "https://localhost:8080/"
        },
        "id": "7bQGeyCAHW9_",
        "outputId": "7a427233-719f-482d-ec12-28baf91dd1de"
      },
      "outputs": [
        {
          "name": "stdout",
          "output_type": "stream",
          "text": [
            "                  Open        High         Low       Close\n",
            "Date                                                      \n",
            "2021-01-31  134.826009  135.729286  129.247554  130.984619\n",
            "2021-02-28  121.865685  124.112334  120.483898  120.543549\n",
            "2021-03-31  120.931238  122.790184  120.434192  121.428284\n",
            "2021-04-30  131.001390  132.770872  130.295593  130.683289\n",
            "2021-05-31  125.040116  125.269148  124.024423  124.084167\n",
            "2021-06-30  135.595375  136.830148  135.296638  136.382050\n",
            "2021-07-31  143.770726  145.712494  143.501861  145.244476\n",
            "2021-08-31  152.243555  152.383172  150.877282  151.415817\n",
            "2021-09-30  143.268110  143.986147  140.894597  141.113998\n",
            "2021-10-31  146.818394  149.530975  146.010606  149.391357\n",
            "2021-11-30  159.786435  165.309397  159.716517  165.089676\n",
            "2021-12-31  179.241640  180.340246  177.863391  177.973251\n"
          ]
        }
      ],
      "source": [
        "aapl_bar = aapl_month[['Open', 'High', 'Low', 'Close']]\n",
        "print(aapl_bar)"
      ]
    },
    {
      "cell_type": "markdown",
      "metadata": {
        "id": "8CQaZCAQP68O"
      },
      "source": [
        "We can even specify both rows and columns using loc[]. The row indices and column names are separated by a comma:"
      ]
    },
    {
      "cell_type": "markdown",
      "metadata": {},
      "source": [
        "My own example:"
      ]
    },
    {
      "cell_type": "code",
      "execution_count": 33,
      "metadata": {
        "colab": {
          "base_uri": "https://localhost:8080/"
        },
        "id": "YjWWiHVpHW-A",
        "outputId": "5972e593-5289-4636-f913-2c04e9fe179c"
      },
      "outputs": [
        {
          "name": "stdout",
          "output_type": "stream",
          "text": [
            "                  Open        High         Low       Close\n",
            "Date                                                      \n",
            "2021-02-28  121.865685  124.112334  120.483898  120.543549\n",
            "2021-03-31  120.931238  122.790184  120.434192  121.428284\n",
            "2021-04-30  131.001390  132.770872  130.295593  130.683289\n",
            "2021-05-31  125.040116  125.269148  124.024423  124.084167\n",
            "2021-06-30  135.595375  136.830148  135.296638  136.382050\n"
          ]
        }
      ],
      "source": [
        "print(aapl_month.loc['2021-02':'2021-06',['Open', 'High', 'Low', 'Close']])"
      ]
    },
    {
      "cell_type": "markdown",
      "metadata": {
        "id": "Xcn_pHNLQBEH"
      },
      "source": [
        "The subset methods in DataFrame is quite useful. By writing logical statements in square brackets, we can make customized subsets:"
      ]
    },
    {
      "cell_type": "markdown",
      "metadata": {},
      "source": [
        "My own example:"
      ]
    },
    {
      "cell_type": "code",
      "execution_count": 108,
      "metadata": {
        "colab": {
          "base_uri": "https://localhost:8080/"
        },
        "id": "RxKg4dObHW-A",
        "outputId": "907ce3c6-da1b-4b18-c8e2-daf5a2bb23e7"
      },
      "outputs": [
        {
          "name": "stdout",
          "output_type": "stream",
          "text": [
            "                 Open       High        Low      Close\n",
            "Date                                                  \n",
            "2016-03-31  25.431520  25.473242  25.236819  25.262316\n",
            "2016-08-31  24.773054  24.986412  24.768364  24.876215\n",
            "2016-09-30  26.367388  26.580747  26.212645  26.505720\n",
            "2016-10-31  26.646396  26.782384  26.540888  26.620605\n",
            "2016-11-30  26.300094  26.441492  25.986660  26.045576\n",
            "2016-12-31  27.490193  27.619807  27.202683  27.294592\n"
          ]
        }
      ],
      "source": [
        "import numpy as np\n",
        "\n",
        "above = aapl_bar[aapl_bar.Close > np.mean(aapl_bar.Close)]\n",
        "print(above)"
      ]
    },
    {
      "cell_type": "markdown",
      "metadata": {
        "id": "wcm_UadkQLL5"
      },
      "source": [
        "##  Data Validation\n",
        "As mentioned, all methods that apply to a Series can also be applied to a DataFrame. Here we add a new column to an existing DataFrame:"
      ]
    },
    {
      "cell_type": "markdown",
      "metadata": {},
      "source": [
        "My own example:"
      ]
    },
    {
      "cell_type": "code",
      "execution_count": 34,
      "metadata": {
        "colab": {
          "base_uri": "https://localhost:8080/"
        },
        "id": "jZXFdOVFHW-A",
        "outputId": "35e1d9c9-1460-417c-940e-c6fa70c9947b"
      },
      "outputs": [
        {
          "name": "stdout",
          "output_type": "stream",
          "text": [
            "                  Open        High         Low       Close  rate_return\n",
            "Date                                                                   \n",
            "2021-01-31  134.826009  135.729286  129.247554  130.984619          NaN\n",
            "2021-02-28  121.865685  124.112334  120.483898  120.543549    -0.079712\n",
            "2021-03-31  120.931238  122.790184  120.434192  121.428284     0.007340\n",
            "2021-04-30  131.001390  132.770872  130.295593  130.683289     0.076218\n",
            "2021-05-31  125.040116  125.269148  124.024423  124.084167    -0.050497\n",
            "2021-06-30  135.595375  136.830148  135.296638  136.382050     0.099109\n",
            "2021-07-31  143.770726  145.712494  143.501861  145.244476     0.064982\n",
            "2021-08-31  152.243555  152.383172  150.877282  151.415817     0.042489\n",
            "2021-09-30  143.268110  143.986147  140.894597  141.113998    -0.068037\n",
            "2021-10-31  146.818394  149.530975  146.010606  149.391357     0.058657\n",
            "2021-11-30  159.786435  165.309397  159.716517  165.089676     0.105082\n",
            "2021-12-31  179.241640  180.340246  177.863391  177.973251     0.078040\n"
          ]
        },
        {
          "name": "stderr",
          "output_type": "stream",
          "text": [
            "/tmp/ipykernel_80715/3298808880.py:1: SettingWithCopyWarning: \n",
            "A value is trying to be set on a copy of a slice from a DataFrame.\n",
            "Try using .loc[row_indexer,col_indexer] = value instead\n",
            "\n",
            "See the caveats in the documentation: https://pandas.pydata.org/pandas-docs/stable/user_guide/indexing.html#returning-a-view-versus-a-copy\n",
            "  aapl_bar['rate_return'] = aapl_bar.Close.pct_change()\n"
          ]
        }
      ],
      "source": [
        "aapl_bar['rate_return'] = aapl_bar.Close.pct_change()\n",
        "print(aapl_bar)"
      ]
    },
    {
      "cell_type": "markdown",
      "metadata": {
        "id": "_or6n5-LQUa-"
      },
      "source": [
        "Here the calculation introduced a NaN value. If the DataFrame is large, we would not be able to observe it. **isnull()** provides a convenient way to check abnormal values."
      ]
    },
    {
      "cell_type": "markdown",
      "metadata": {},
      "source": [
        "My own example:"
      ]
    },
    {
      "cell_type": "code",
      "execution_count": 35,
      "metadata": {
        "colab": {
          "base_uri": "https://localhost:8080/"
        },
        "id": "V5wgmhIPHW-B",
        "outputId": "cf646765-ea74-4e63-ced7-78e1ec2e1b93"
      },
      "outputs": [
        {
          "name": "stdout",
          "output_type": "stream",
          "text": [
            "             Open   High    Low  Close  rate_return\n",
            "Date                                               \n",
            "2021-01-31  False  False  False  False         True\n",
            "2021-02-28  False  False  False  False        False\n",
            "2021-03-31  False  False  False  False        False\n",
            "2021-04-30  False  False  False  False        False\n",
            "2021-05-31  False  False  False  False        False\n",
            "2021-06-30  False  False  False  False        False\n",
            "2021-07-31  False  False  False  False        False\n",
            "2021-08-31  False  False  False  False        False\n",
            "2021-09-30  False  False  False  False        False\n",
            "2021-10-31  False  False  False  False        False\n",
            "2021-11-30  False  False  False  False        False\n",
            "2021-12-31  False  False  False  False        False\n",
            "---------------------------------------------\n",
            "         Open   High    Low  Close rate_return\n",
            "count      12     12     12     12          12\n",
            "unique      1      1      1      1           2\n",
            "top     False  False  False  False       False\n",
            "freq       12     12     12     12          11\n"
          ]
        }
      ],
      "source": [
        "missing = aapl_bar.isnull()\n",
        "print(missing)\n",
        "print('---------------------------------------------')\n",
        "print(missing.describe())"
      ]
    },
    {
      "cell_type": "markdown",
      "metadata": {
        "id": "d6KFV4i0QfLW"
      },
      "source": [
        "The row labelled \"unique\" indicates the number of unique values in each column. Since the \"rate_return\" column has 2 unique values, it has at least one missing value.\n",
        "\n",
        "We can deduce the number of missing values by comparing \"count\" with \"freq\". There are 12 counts and 11 False values, so there is one True value which corresponds to the missing value.\n",
        "\n",
        "We can also find the rows with missing values easily:"
      ]
    },
    {
      "cell_type": "markdown",
      "metadata": {},
      "source": [
        "My own example:"
      ]
    },
    {
      "cell_type": "code",
      "execution_count": 36,
      "metadata": {
        "colab": {
          "base_uri": "https://localhost:8080/"
        },
        "id": "Eo0ZAhCsHW-B",
        "outputId": "632cc9ee-2b53-4669-d329-1af7538859f6"
      },
      "outputs": [
        {
          "name": "stdout",
          "output_type": "stream",
          "text": [
            "             Open   High    Low  Close  rate_return\n",
            "Date                                               \n",
            "2021-01-31  False  False  False  False         True\n"
          ]
        }
      ],
      "source": [
        "print(missing[missing.rate_return == True])"
      ]
    },
    {
      "cell_type": "markdown",
      "metadata": {
        "id": "qgggpD8OQkZX"
      },
      "source": [
        "Usually when dealing with missing data, we either delete the whole row or fill it with some value. As we introduced in the Series chapter, the same method **dropna()** and **fillna()** can be applied to a DataFrame."
      ]
    },
    {
      "cell_type": "markdown",
      "metadata": {},
      "source": [
        "My own example:"
      ]
    },
    {
      "cell_type": "code",
      "execution_count": 38,
      "metadata": {
        "colab": {
          "base_uri": "https://localhost:8080/"
        },
        "id": "j8PaIokjHW-B",
        "outputId": "501fd060-83fe-4f98-e5ad-f9b0f41e525c"
      },
      "outputs": [
        {
          "name": "stdout",
          "output_type": "stream",
          "text": [
            "                  Open        High         Low       Close  rate_return\n",
            "Date                                                                   \n",
            "2021-02-28  121.865685  124.112334  120.483898  120.543549    -0.079712\n",
            "2021-03-31  120.931238  122.790184  120.434192  121.428284     0.007340\n",
            "2021-04-30  131.001390  132.770872  130.295593  130.683289     0.076218\n",
            "2021-05-31  125.040116  125.269148  124.024423  124.084167    -0.050497\n",
            "2021-06-30  135.595375  136.830148  135.296638  136.382050     0.099109\n",
            "2021-07-31  143.770726  145.712494  143.501861  145.244476     0.064982\n",
            "2021-08-31  152.243555  152.383172  150.877282  151.415817     0.042489\n",
            "2021-09-30  143.268110  143.986147  140.894597  141.113998    -0.068037\n",
            "2021-10-31  146.818394  149.530975  146.010606  149.391357     0.058657\n",
            "2021-11-30  159.786435  165.309397  159.716517  165.089676     0.105082\n",
            "2021-12-31  179.241640  180.340246  177.863391  177.973251     0.078040\n",
            "\n",
            "------------------------------------------------------------------------\n",
            "\n",
            "                  Open        High         Low       Close  rate_return\n",
            "Date                                                                   \n",
            "2021-01-31  134.826009  135.729286  129.247554  130.984619     0.000000\n",
            "2021-02-28  121.865685  124.112334  120.483898  120.543549    -0.079712\n",
            "2021-03-31  120.931238  122.790184  120.434192  121.428284     0.007340\n",
            "2021-04-30  131.001390  132.770872  130.295593  130.683289     0.076218\n",
            "2021-05-31  125.040116  125.269148  124.024423  124.084167    -0.050497\n",
            "2021-06-30  135.595375  136.830148  135.296638  136.382050     0.099109\n",
            "2021-07-31  143.770726  145.712494  143.501861  145.244476     0.064982\n",
            "2021-08-31  152.243555  152.383172  150.877282  151.415817     0.042489\n",
            "2021-09-30  143.268110  143.986147  140.894597  141.113998    -0.068037\n",
            "2021-10-31  146.818394  149.530975  146.010606  149.391357     0.058657\n",
            "2021-11-30  159.786435  165.309397  159.716517  165.089676     0.105082\n",
            "2021-12-31  179.241640  180.340246  177.863391  177.973251     0.078040\n"
          ]
        }
      ],
      "source": [
        "drop = aapl_bar.dropna()\n",
        "print(drop)\n",
        "print('\\n------------------------------------------------------------------------\\n')\n",
        "fill = aapl_bar.fillna(0)\n",
        "print(fill)"
      ]
    },
    {
      "cell_type": "markdown",
      "metadata": {
        "id": "0tvoFlKWQxYG"
      },
      "source": [
        "##  DataFrame Concat\n",
        "We have seen how to extract a Series from a dataFrame. Now we need to consider how to merge a Series or a DataFrame into another one.\n",
        "\n",
        "In Pandas, the function **concat()** allows us to merge multiple Series into a DataFrame:"
      ]
    },
    {
      "cell_type": "markdown",
      "metadata": {},
      "source": [
        "My own example:"
      ]
    },
    {
      "cell_type": "code",
      "execution_count": 39,
      "metadata": {
        "colab": {
          "base_uri": "https://localhost:8080/"
        },
        "id": "uQrmLIWKHW-C",
        "outputId": "6e25a419-88a8-4df1-a025-f9f583699b4c"
      },
      "outputs": [
        {
          "name": "stdout",
          "output_type": "stream",
          "text": [
            "     AAPL     GOOG\n",
            "0  174.75  2794.32\n",
            "1  177.77  2853.42\n",
            "2  178.99  2858.00\n",
            "3  175.60  2898.38\n",
            "4  174.49  2813.69\n"
          ]
        }
      ],
      "source": [
        "s1 = pd.Series([174.75, 177.77, 178.99, 175.60, 174.49], name = 'AAPL')\n",
        "s2 = pd.Series([2794.32, 2853.42, 2858.00, 2898.38, 2813.69], name = 'GOOG')\n",
        "data_frame = pd.concat([s1,s2], axis = 1)\n",
        "print(data_frame)"
      ]
    },
    {
      "cell_type": "markdown",
      "metadata": {
        "id": "3ojbNYJLR2vv"
      },
      "source": [
        "The \"axis = 1\" parameter will join two DataFrames by columns:"
      ]
    },
    {
      "cell_type": "markdown",
      "metadata": {},
      "source": [
        "My own example:"
      ]
    },
    {
      "cell_type": "code",
      "execution_count": 46,
      "metadata": {
        "colab": {
          "base_uri": "https://localhost:8080/"
        },
        "id": "DJsaLd-cRoIm",
        "outputId": "5eecb75d-1d7d-47db-daba-e5fe5b0e009b"
      },
      "outputs": [
        {
          "name": "stdout",
          "output_type": "stream",
          "text": [
            "Date\n",
            "2021-01-31    4.875080\n",
            "2021-02-28    4.792011\n",
            "2021-03-31    4.799324\n",
            "2021-04-30    4.872777\n",
            "2021-05-31    4.820960\n",
            "2021-06-30    4.915460\n",
            "2021-07-31    4.978418\n",
            "2021-08-31    5.020030\n",
            "2021-09-30    4.949568\n",
            "2021-10-31    5.006569\n",
            "2021-11-30    5.106489\n",
            "2021-12-31    5.181633\n",
            "Freq: M, Name: log_price, dtype: float64\n",
            "\n",
            "-------------------------------- separate line------------------------------\n",
            "\n",
            "                  Open        High         Low       Close  rate_return  \\\n",
            "Date                                                                      \n",
            "2021-01-31  134.826009  135.729286  129.247554  130.984619          NaN   \n",
            "2021-02-28  121.865685  124.112334  120.483898  120.543549    -0.079712   \n",
            "2021-03-31  120.931238  122.790184  120.434192  121.428284     0.007340   \n",
            "2021-04-30  131.001390  132.770872  130.295593  130.683289     0.076218   \n",
            "2021-05-31  125.040116  125.269148  124.024423  124.084167    -0.050497   \n",
            "2021-06-30  135.595375  136.830148  135.296638  136.382050     0.099109   \n",
            "2021-07-31  143.770726  145.712494  143.501861  145.244476     0.064982   \n",
            "2021-08-31  152.243555  152.383172  150.877282  151.415817     0.042489   \n",
            "2021-09-30  143.268110  143.986147  140.894597  141.113998    -0.068037   \n",
            "2021-10-31  146.818394  149.530975  146.010606  149.391357     0.058657   \n",
            "2021-11-30  159.786435  165.309397  159.716517  165.089676     0.105082   \n",
            "2021-12-31  179.241640  180.340246  177.863391  177.973251     0.078040   \n",
            "\n",
            "            log_price  \n",
            "Date                   \n",
            "2021-01-31   4.875080  \n",
            "2021-02-28   4.792011  \n",
            "2021-03-31   4.799324  \n",
            "2021-04-30   4.872777  \n",
            "2021-05-31   4.820960  \n",
            "2021-06-30   4.915460  \n",
            "2021-07-31   4.978418  \n",
            "2021-08-31   5.020030  \n",
            "2021-09-30   4.949568  \n",
            "2021-10-31   5.006569  \n",
            "2021-11-30   5.106489  \n",
            "2021-12-31   5.181633  \n"
          ]
        }
      ],
      "source": [
        "import numpy as np\n",
        "log_price = np.log(aapl_bar.Close)\n",
        "log_price.name = 'log_price'\n",
        "print(log_price)\n",
        "print('\\n-------------------------------- separate line------------------------------\\n')\n",
        "concat = pd.concat([aapl_bar, log_price], axis = 1)\n",
        "print(concat)"
      ]
    },
    {
      "cell_type": "markdown",
      "metadata": {
        "id": "mIZz-FUyR_62"
      },
      "source": [
        "We can also join two DataFrames by rows. Consider these two DataFrames:"
      ]
    },
    {
      "cell_type": "markdown",
      "metadata": {},
      "source": [
        "My own example:"
      ]
    },
    {
      "cell_type": "code",
      "execution_count": 49,
      "metadata": {
        "colab": {
          "base_uri": "https://localhost:8080/"
        },
        "id": "W7uXZptLHW-C",
        "outputId": "293e68e0-a71f-4ca3-bf8d-944cb833fe78"
      },
      "outputs": [
        {
          "name": "stdout",
          "output_type": "stream",
          "text": [
            "               Volume  Stock Splits\n",
            "Date                               \n",
            "2021-03-31  118323800           0.0\n",
            "2021-04-30  109839500           0.0\n",
            "2021-05-31   71311100           0.0\n",
            "2021-06-30   63261400           0.0\n",
            "\n",
            "---------------------- separate line--------------------\n",
            "\n",
            "                  Open        High         Low       Close\n",
            "Date                                                      \n",
            "2021-03-31  120.931238  122.790184  120.434192  121.428284\n",
            "2021-04-30  131.001390  132.770872  130.295593  130.683289\n",
            "2021-05-31  125.040116  125.269148  124.024423  124.084167\n",
            "2021-06-30  135.595375  136.830148  135.296638  136.382050\n"
          ]
        }
      ],
      "source": [
        "df_volume = aapl_table.loc['2021-03':'2021-06',['Volume', 'Stock Splits']].resample('M').agg(lambda x: x[-1])\n",
        "print(df_volume)\n",
        "print('\\n---------------------- separate line--------------------\\n')\n",
        "df_2017 = aapl_table.loc['2021-03':'2021-06',['Open', 'High', 'Low', 'Close']].resample('M').agg(lambda x: x[-1])\n",
        "print(df_2017)"
      ]
    },
    {
      "cell_type": "markdown",
      "metadata": {
        "id": "iZk_C9aSSLeP"
      },
      "source": [
        "Now we merge the DataFrames with our DataFrame 'aapl_bar'"
      ]
    },
    {
      "cell_type": "markdown",
      "metadata": {},
      "source": [
        "My own example:"
      ]
    },
    {
      "cell_type": "code",
      "execution_count": 50,
      "metadata": {
        "colab": {
          "base_uri": "https://localhost:8080/"
        },
        "id": "aFqmjokOHW-C",
        "outputId": "0b04d7bc-221c-46eb-c6b8-4a7feca2f531"
      },
      "outputs": [
        {
          "name": "stdout",
          "output_type": "stream",
          "text": [
            "                  Open        High         Low       Close  rate_return  \\\n",
            "Date                                                                      \n",
            "2021-01-31  134.826009  135.729286  129.247554  130.984619          NaN   \n",
            "2021-02-28  121.865685  124.112334  120.483898  120.543549    -0.079712   \n",
            "2021-03-31  120.931238  122.790184  120.434192  121.428284     0.007340   \n",
            "2021-04-30  131.001390  132.770872  130.295593  130.683289     0.076218   \n",
            "2021-05-31  125.040116  125.269148  124.024423  124.084167    -0.050497   \n",
            "2021-06-30  135.595375  136.830148  135.296638  136.382050     0.099109   \n",
            "2021-07-31  143.770726  145.712494  143.501861  145.244476     0.064982   \n",
            "2021-08-31  152.243555  152.383172  150.877282  151.415817     0.042489   \n",
            "2021-09-30  143.268110  143.986147  140.894597  141.113998    -0.068037   \n",
            "2021-10-31  146.818394  149.530975  146.010606  149.391357     0.058657   \n",
            "2021-11-30  159.786435  165.309397  159.716517  165.089676     0.105082   \n",
            "2021-12-31  179.241640  180.340246  177.863391  177.973251     0.078040   \n",
            "\n",
            "                 Volume  Stock Splits  \n",
            "Date                                   \n",
            "2021-01-31          NaN           NaN  \n",
            "2021-02-28          NaN           NaN  \n",
            "2021-03-31  118323800.0           0.0  \n",
            "2021-04-30  109839500.0           0.0  \n",
            "2021-05-31   71311100.0           0.0  \n",
            "2021-06-30   63261400.0           0.0  \n",
            "2021-07-31          NaN           NaN  \n",
            "2021-08-31          NaN           NaN  \n",
            "2021-09-30          NaN           NaN  \n",
            "2021-10-31          NaN           NaN  \n",
            "2021-11-30          NaN           NaN  \n",
            "2021-12-31          NaN           NaN  \n"
          ]
        }
      ],
      "source": [
        "concat = pd.concat([aapl_bar, df_volume], axis = 1)\n",
        "print(concat)"
      ]
    },
    {
      "cell_type": "markdown",
      "metadata": {
        "id": "7yI3tgB4SR4O"
      },
      "source": [
        "By default the DataFrame are joined with all of the data. This default options results in zero information loss. We can also merge them by intersection, this is called 'inner join"
      ]
    },
    {
      "cell_type": "markdown",
      "metadata": {},
      "source": [
        "My own example:"
      ]
    },
    {
      "cell_type": "code",
      "execution_count": 51,
      "metadata": {
        "colab": {
          "base_uri": "https://localhost:8080/"
        },
        "id": "31QGLyijHW-C",
        "outputId": "5da6383a-4f02-4d76-8bdf-a3845a8ee40b"
      },
      "outputs": [
        {
          "name": "stdout",
          "output_type": "stream",
          "text": [
            "                  Open        High         Low       Close  rate_return  \\\n",
            "Date                                                                      \n",
            "2021-03-31  120.931238  122.790184  120.434192  121.428284     0.007340   \n",
            "2021-04-30  131.001390  132.770872  130.295593  130.683289     0.076218   \n",
            "2021-05-31  125.040116  125.269148  124.024423  124.084167    -0.050497   \n",
            "2021-06-30  135.595375  136.830148  135.296638  136.382050     0.099109   \n",
            "\n",
            "               Volume  Stock Splits  \n",
            "Date                                 \n",
            "2021-03-31  118323800           0.0  \n",
            "2021-04-30  109839500           0.0  \n",
            "2021-05-31   71311100           0.0  \n",
            "2021-06-30   63261400           0.0  \n"
          ]
        }
      ],
      "source": [
        "concat = pd.concat([aapl_bar,df_volume],axis = 1, join = 'inner')\n",
        "print(concat)"
      ]
    },
    {
      "cell_type": "markdown",
      "metadata": {
        "id": "oudcWMm5Sd0u"
      },
      "source": [
        "Only the intersection part was left if use 'inner join' method. Now let's try to append a DataFrame to another one:"
      ]
    },
    {
      "cell_type": "markdown",
      "metadata": {},
      "source": [
        "My own example:"
      ]
    },
    {
      "cell_type": "code",
      "execution_count": 53,
      "metadata": {
        "colab": {
          "base_uri": "https://localhost:8080/"
        },
        "id": "lgw0qaOsHW-D",
        "outputId": "d6287ecf-8c47-4367-9f14-5b47625de02b"
      },
      "outputs": [
        {
          "name": "stdout",
          "output_type": "stream",
          "text": [
            "                  Open        High         Low       Close  rate_return\n",
            "Date                                                                   \n",
            "2021-01-31  134.826009  135.729286  129.247554  130.984619          NaN\n",
            "2021-02-28  121.865685  124.112334  120.483898  120.543549    -0.079712\n",
            "2021-03-31  120.931238  122.790184  120.434192  121.428284     0.007340\n",
            "2021-04-30  131.001390  132.770872  130.295593  130.683289     0.076218\n",
            "2021-05-31  125.040116  125.269148  124.024423  124.084167    -0.050497\n",
            "2021-06-30  135.595375  136.830148  135.296638  136.382050     0.099109\n",
            "2021-07-31  143.770726  145.712494  143.501861  145.244476     0.064982\n",
            "2021-08-31  152.243555  152.383172  150.877282  151.415817     0.042489\n",
            "2021-09-30  143.268110  143.986147  140.894597  141.113998    -0.068037\n",
            "2021-10-31  146.818394  149.530975  146.010606  149.391357     0.058657\n",
            "2021-11-30  159.786435  165.309397  159.716517  165.089676     0.105082\n",
            "2021-12-31  179.241640  180.340246  177.863391  177.973251     0.078040\n",
            "2021-03-31  120.931238  122.790184  120.434192  121.428284          NaN\n",
            "2021-04-30  131.001390  132.770872  130.295593  130.683289          NaN\n",
            "2021-05-31  125.040116  125.269148  124.024423  124.084167          NaN\n",
            "2021-06-30  135.595375  136.830148  135.296638  136.382050          NaN\n"
          ]
        },
        {
          "name": "stderr",
          "output_type": "stream",
          "text": [
            "/tmp/ipykernel_80715/4203465013.py:1: FutureWarning: The frame.append method is deprecated and will be removed from pandas in a future version. Use pandas.concat instead.\n",
            "  append = aapl_bar.append(df_2017)\n"
          ]
        }
      ],
      "source": [
        "append = aapl_bar.append(df_2017)\n",
        "print(append)"
      ]
    },
    {
      "cell_type": "markdown",
      "metadata": {
        "id": "zXT6cMquSq_P"
      },
      "source": [
        "'Append' is essentially to concat two DataFrames by axis = 0, thus here is an alternative way to append:"
      ]
    },
    {
      "cell_type": "markdown",
      "metadata": {},
      "source": [
        "My own example:"
      ]
    },
    {
      "cell_type": "code",
      "execution_count": 54,
      "metadata": {
        "colab": {
          "base_uri": "https://localhost:8080/"
        },
        "id": "2EuSaFO9HW-D",
        "outputId": "3bd6dad7-022a-4c62-d049-24c219feab39"
      },
      "outputs": [
        {
          "name": "stdout",
          "output_type": "stream",
          "text": [
            "                  Open        High         Low       Close  rate_return\n",
            "Date                                                                   \n",
            "2021-01-31  134.826009  135.729286  129.247554  130.984619          NaN\n",
            "2021-02-28  121.865685  124.112334  120.483898  120.543549    -0.079712\n",
            "2021-03-31  120.931238  122.790184  120.434192  121.428284     0.007340\n",
            "2021-04-30  131.001390  132.770872  130.295593  130.683289     0.076218\n",
            "2021-05-31  125.040116  125.269148  124.024423  124.084167    -0.050497\n",
            "2021-06-30  135.595375  136.830148  135.296638  136.382050     0.099109\n",
            "2021-07-31  143.770726  145.712494  143.501861  145.244476     0.064982\n",
            "2021-08-31  152.243555  152.383172  150.877282  151.415817     0.042489\n",
            "2021-09-30  143.268110  143.986147  140.894597  141.113998    -0.068037\n",
            "2021-10-31  146.818394  149.530975  146.010606  149.391357     0.058657\n",
            "2021-11-30  159.786435  165.309397  159.716517  165.089676     0.105082\n",
            "2021-12-31  179.241640  180.340246  177.863391  177.973251     0.078040\n",
            "2021-03-31  120.931238  122.790184  120.434192  121.428284          NaN\n",
            "2021-04-30  131.001390  132.770872  130.295593  130.683289          NaN\n",
            "2021-05-31  125.040116  125.269148  124.024423  124.084167          NaN\n",
            "2021-06-30  135.595375  136.830148  135.296638  136.382050          NaN\n"
          ]
        }
      ],
      "source": [
        "concat = pd.concat([aapl_bar, df_2017], axis = 0)\n",
        "print(concat)"
      ]
    },
    {
      "cell_type": "markdown",
      "metadata": {
        "id": "-YXL7V9ASst9"
      },
      "source": [
        "Please note that if the two DataFrame have some columns with the same column names, these columns are considered to be the same and will be merged. It's very important to have the right column names. If we change a column names here:"
      ]
    },
    {
      "cell_type": "markdown",
      "metadata": {},
      "source": [
        "My own example:"
      ]
    },
    {
      "cell_type": "code",
      "execution_count": 55,
      "metadata": {
        "colab": {
          "base_uri": "https://localhost:8080/"
        },
        "id": "aT1eoa8mHW-D",
        "outputId": "66a329f7-4d47-4e21-d1bb-73f24346ef24"
      },
      "outputs": [
        {
          "name": "stdout",
          "output_type": "stream",
          "text": [
            "                  Open        High         Low       Close  rate_return  \\\n",
            "Date                                                                      \n",
            "2021-01-31  134.826009  135.729286  129.247554  130.984619          NaN   \n",
            "2021-02-28  121.865685  124.112334  120.483898  120.543549    -0.079712   \n",
            "2021-03-31  120.931238  122.790184  120.434192  121.428284     0.007340   \n",
            "2021-04-30  131.001390  132.770872  130.295593  130.683289     0.076218   \n",
            "2021-05-31  125.040116  125.269148  124.024423  124.084167    -0.050497   \n",
            "2021-06-30  135.595375  136.830148  135.296638  136.382050     0.099109   \n",
            "2021-07-31  143.770726  145.712494  143.501861  145.244476     0.064982   \n",
            "2021-08-31  152.243555  152.383172  150.877282  151.415817     0.042489   \n",
            "2021-09-30  143.268110  143.986147  140.894597  141.113998    -0.068037   \n",
            "2021-10-31  146.818394  149.530975  146.010606  149.391357     0.058657   \n",
            "2021-11-30  159.786435  165.309397  159.716517  165.089676     0.105082   \n",
            "2021-12-31  179.241640  180.340246  177.863391  177.973251     0.078040   \n",
            "2021-03-31         NaN  122.790184  120.434192  121.428284          NaN   \n",
            "2021-04-30         NaN  132.770872  130.295593  130.683289          NaN   \n",
            "2021-05-31         NaN  125.269148  124.024423  124.084167          NaN   \n",
            "2021-06-30         NaN  136.830148  135.296638  136.382050          NaN   \n",
            "\n",
            "                Change  \n",
            "Date                    \n",
            "2021-01-31         NaN  \n",
            "2021-02-28         NaN  \n",
            "2021-03-31         NaN  \n",
            "2021-04-30         NaN  \n",
            "2021-05-31         NaN  \n",
            "2021-06-30         NaN  \n",
            "2021-07-31         NaN  \n",
            "2021-08-31         NaN  \n",
            "2021-09-30         NaN  \n",
            "2021-10-31         NaN  \n",
            "2021-11-30         NaN  \n",
            "2021-12-31         NaN  \n",
            "2021-03-31  120.931238  \n",
            "2021-04-30  131.001390  \n",
            "2021-05-31  125.040116  \n",
            "2021-06-30  135.595375  \n"
          ]
        }
      ],
      "source": [
        "df_2017.columns = ['Change', 'High','Low','Close']\n",
        "concat = pd.concat([aapl_bar, df_2017], axis = 0)\n",
        "print(concat)"
      ]
    },
    {
      "cell_type": "markdown",
      "metadata": {
        "id": "shbpOFyyS6uV"
      },
      "source": [
        "Since the column name of 'Open' has been changed, the new DataFrame has an new column named 'Change'.\n",
        "\n",
        "# Summary\n",
        "\n",
        "Hereby we introduced the most import part of python: resampling and DataFrame manipulation. We only introduced the most commonly used method in Financial data analysis. There are also many methods used in data mining, which are also beneficial. You can always check the [Pandas](https://pandas.pydata.org/pandas-docs/stable/index.html) official documentations for help."
      ]
    }
  ],
  "metadata": {
    "colab": {
      "collapsed_sections": [],
      "name": "gjhernanndezp_QuanconnectTutortials.ipynb",
      "provenance": []
    },
    "kernelspec": {
      "display_name": "Python 3",
      "language": "python",
      "name": "python3"
    },
    "language_info": {
      "codemirror_mode": {
        "name": "ipython",
        "version": 3
      },
      "file_extension": ".py",
      "mimetype": "text/x-python",
      "name": "python",
      "nbconvert_exporter": "python",
      "pygments_lexer": "ipython3",
      "version": "3.10.4"
    }
  },
  "nbformat": 4,
  "nbformat_minor": 0
}
